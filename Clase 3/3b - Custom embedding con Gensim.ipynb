{
 "cells": [
  {
   "cell_type": "markdown",
   "metadata": {
    "id": "sZd5yLnnHOK0"
   },
   "source": [
    "<img src=\"https://github.com/hernancontigiani/ceia_memorias_especializacion/raw/master/Figures/logoFIUBA.jpg\" width=\"500\" align=\"center\">\n",
    "\n",
    "\n",
    "# Procesamiento de lenguaje natural\n",
    "## Custom embedddings con Gensim\n",
    "\n"
   ]
  },
  {
   "cell_type": "markdown",
   "metadata": {
    "id": "vA7nqkumo9z9"
   },
   "source": [
    "### Objetivo\n",
    "El objetivo es utilizar documentos / corpus para crear embeddings de palabras basado en ese contexto. Se utilizará canciones de bandas para generar los embeddings, es decir, que los vectores tendrán la forma en función de como esa banda haya utilizado las palabras en sus canciones."
   ]
  },
  {
   "cell_type": "code",
   "execution_count": 1,
   "metadata": {
    "id": "lFToQs5FK5uZ"
   },
   "outputs": [],
   "source": [
    "import pandas as pd\n",
    "import matplotlib.pyplot as plt\n",
    "import seaborn as sns\n",
    "\n",
    "import multiprocessing\n",
    "from gensim.models import Word2Vec"
   ]
  },
  {
   "cell_type": "markdown",
   "metadata": {
    "id": "g07zJxG7H9vG"
   },
   "source": [
    "### Datos\n",
    "Utilizaremos como dataset canciones de bandas de habla inglesa."
   ]
  },
  {
   "cell_type": "code",
   "execution_count": 2,
   "metadata": {
    "id": "l7z4CSBfpR3X"
   },
   "outputs": [
    {
     "name": "stdout",
     "output_type": "stream",
     "text": [
      "El dataset ya se encuentra descargado\n"
     ]
    }
   ],
   "source": [
    "# Descargar la carpeta de dataset\n",
    "import os\n",
    "import platform\n",
    "if os.access('./songs_dataset', os.F_OK) is False:\n",
    "    if os.access('songs_dataset.zip', os.F_OK) is False:\n",
    "        if platform.system() == 'Darwin':\n",
    "            !curl https://raw.githubusercontent.com/FIUBA-Posgrado-Inteligencia-Artificial/procesamiento_lenguaje_natural/main/datasets/songs_dataset.zip -o songs_dataset.zip\n",
    "        else:\n",
    "            !wget songs_dataset.zip https://github.com/FIUBA-Posgrado-Inteligencia-Artificial/procesamiento_lenguaje_natural/raw/main/datasets/songs_dataset.zip\n",
    "    !unzip -q songs_dataset.zip   \n",
    "else:\n",
    "    print(\"El dataset ya se encuentra descargado\")"
   ]
  },
  {
   "cell_type": "code",
   "execution_count": 3,
   "metadata": {
    "id": "mysGrIw9ljC2"
   },
   "outputs": [
    {
     "data": {
      "text/plain": [
       "['prince.txt',\n",
       " 'dickinson.txt',\n",
       " 'notorious-big.txt',\n",
       " 'beatles.txt',\n",
       " 'bob-dylan.txt',\n",
       " 'bjork.txt',\n",
       " 'johnny-cash.txt',\n",
       " 'disney.txt',\n",
       " 'janisjoplin.txt',\n",
       " 'kanye.txt',\n",
       " 'bob-marley.txt',\n",
       " 'leonard-cohen.txt',\n",
       " 'ludacris.txt',\n",
       " 'adele.txt',\n",
       " 'alicia-keys.txt',\n",
       " 'joni-mitchell.txt',\n",
       " 'amy-winehouse.txt',\n",
       " 'lorde.txt',\n",
       " 'rihanna.txt',\n",
       " 'Kanye_West.txt',\n",
       " 'nirvana.txt',\n",
       " 'cake.txt',\n",
       " 'bieber.txt',\n",
       " 'notorious_big.txt',\n",
       " 'missy-elliott.txt',\n",
       " 'dolly-parton.txt',\n",
       " 'jimi-hendrix.txt',\n",
       " 'michael-jackson.txt',\n",
       " 'al-green.txt',\n",
       " 'lil-wayne.txt',\n",
       " 'lady-gaga.txt',\n",
       " 'lin-manuel-miranda.txt',\n",
       " 'nursery_rhymes.txt',\n",
       " 'dj-khaled.txt',\n",
       " 'radiohead.txt',\n",
       " 'patti-smith.txt',\n",
       " 'blink-182.txt',\n",
       " 'Lil_Wayne.txt',\n",
       " 'dr-seuss.txt',\n",
       " 'r-kelly.txt',\n",
       " 'drake.txt',\n",
       " 'britney-spears.txt',\n",
       " 'bruce-springsteen.txt',\n",
       " 'nicki-minaj.txt',\n",
       " 'kanye-west.txt',\n",
       " 'paul-simon.txt',\n",
       " 'nickelback.txt',\n",
       " 'eminem.txt',\n",
       " 'bruno-mars.txt']"
      ]
     },
     "execution_count": 3,
     "metadata": {},
     "output_type": "execute_result"
    }
   ],
   "source": [
    "# Posibles bandas\n",
    "os.listdir(\"./songs_dataset/\")"
   ]
  },
  {
   "cell_type": "code",
   "execution_count": 4,
   "metadata": {
    "id": "ticoqYD1Z3I7"
   },
   "outputs": [
    {
     "name": "stderr",
     "output_type": "stream",
     "text": [
      "/var/folders/k9/vb534jt106d2plphjzl86xcw0000gn/T/ipykernel_51533/3634877419.py:2: ParserWarning: Falling back to the 'python' engine because the 'c' engine does not support regex separators (separators > 1 char and different from '\\s+' are interpreted as regex); you can avoid this warning by specifying engine='python'.\n",
      "  df = pd.read_csv('songs_dataset/eminem.txt', sep='/n', header=None)\n"
     ]
    },
    {
     "data": {
      "text/html": [
       "<div>\n",
       "<style scoped>\n",
       "    .dataframe tbody tr th:only-of-type {\n",
       "        vertical-align: middle;\n",
       "    }\n",
       "\n",
       "    .dataframe tbody tr th {\n",
       "        vertical-align: top;\n",
       "    }\n",
       "\n",
       "    .dataframe thead th {\n",
       "        text-align: right;\n",
       "    }\n",
       "</style>\n",
       "<table border=\"1\" class=\"dataframe\">\n",
       "  <thead>\n",
       "    <tr style=\"text-align: right;\">\n",
       "      <th></th>\n",
       "      <th>0</th>\n",
       "    </tr>\n",
       "  </thead>\n",
       "  <tbody>\n",
       "    <tr>\n",
       "      <th>0</th>\n",
       "      <td>Look, I was gonna go easy on you and not to hu...</td>\n",
       "    </tr>\n",
       "    <tr>\n",
       "      <th>1</th>\n",
       "      <td>But I'm only going to get this one chance</td>\n",
       "    </tr>\n",
       "    <tr>\n",
       "      <th>2</th>\n",
       "      <td>Something's wrong, I can feel it (Six minutes,...</td>\n",
       "    </tr>\n",
       "    <tr>\n",
       "      <th>3</th>\n",
       "      <td>Just a feeling I've got, like something's abou...</td>\n",
       "    </tr>\n",
       "    <tr>\n",
       "      <th>4</th>\n",
       "      <td>If that means, what I think it means, we're in...</td>\n",
       "    </tr>\n",
       "  </tbody>\n",
       "</table>\n",
       "</div>"
      ],
      "text/plain": [
       "                                                   0\n",
       "0  Look, I was gonna go easy on you and not to hu...\n",
       "1          But I'm only going to get this one chance\n",
       "2  Something's wrong, I can feel it (Six minutes,...\n",
       "3  Just a feeling I've got, like something's abou...\n",
       "4  If that means, what I think it means, we're in..."
      ]
     },
     "execution_count": 4,
     "metadata": {},
     "output_type": "execute_result"
    }
   ],
   "source": [
    "# Armar el dataset utilizando salto de línea para separar las oraciones/docs\n",
    "df = pd.read_csv('songs_dataset/eminem.txt', sep='/n', header=None)\n",
    "df.head()"
   ]
  },
  {
   "cell_type": "code",
   "execution_count": 5,
   "metadata": {
    "id": "LEpKubK9XzXN"
   },
   "outputs": [
    {
     "name": "stdout",
     "output_type": "stream",
     "text": [
      "Cantidad de documentos: 6812\n"
     ]
    }
   ],
   "source": [
    "print(\"Cantidad de documentos:\", df.shape[0])"
   ]
  },
  {
   "cell_type": "markdown",
   "metadata": {
    "id": "ab94qaFlrA1G"
   },
   "source": [
    "### 1 - Preprocesamiento"
   ]
  },
  {
   "cell_type": "code",
   "execution_count": 6,
   "metadata": {
    "id": "rIsmMWmjrDHd"
   },
   "outputs": [
    {
     "name": "stderr",
     "output_type": "stream",
     "text": [
      "2023-11-20 20:58:45.917490: I tensorflow/core/platform/cpu_feature_guard.cc:182] This TensorFlow binary is optimized to use available CPU instructions in performance-critical operations.\n",
      "To enable the following instructions: AVX2 FMA, in other operations, rebuild TensorFlow with the appropriate compiler flags.\n"
     ]
    }
   ],
   "source": [
    "from keras.preprocessing.text import text_to_word_sequence\n",
    "\n",
    "sentence_tokens = []\n",
    "# Recorrer todas las filas y transformar las oraciones\n",
    "# en una secuencia de palabras (esto podría realizarse con NLTK o spaCy también)\n",
    "for _, row in df[:None].iterrows():\n",
    "    sentence_tokens.append(text_to_word_sequence(row[0]))"
   ]
  },
  {
   "cell_type": "code",
   "execution_count": 7,
   "metadata": {
    "id": "CHepi_DGrbhq"
   },
   "outputs": [
    {
     "data": {
      "text/plain": [
       "[['look',\n",
       "  'i',\n",
       "  'was',\n",
       "  'gonna',\n",
       "  'go',\n",
       "  'easy',\n",
       "  'on',\n",
       "  'you',\n",
       "  'and',\n",
       "  'not',\n",
       "  'to',\n",
       "  'hurt',\n",
       "  'your',\n",
       "  'feelings'],\n",
       " ['but', \"i'm\", 'only', 'going', 'to', 'get', 'this', 'one', 'chance']]"
      ]
     },
     "execution_count": 7,
     "metadata": {},
     "output_type": "execute_result"
    }
   ],
   "source": [
    "# Demos un vistazo\n",
    "sentence_tokens[:2]"
   ]
  },
  {
   "cell_type": "markdown",
   "metadata": {
    "id": "BaXV6nlHr5Aa"
   },
   "source": [
    "### 2 - Crear los vectores (word2vec)"
   ]
  },
  {
   "cell_type": "code",
   "execution_count": 8,
   "metadata": {
    "id": "OSb0v7h8r7hK"
   },
   "outputs": [],
   "source": [
    "from gensim.models.callbacks import CallbackAny2Vec\n",
    "# Durante el entrenamiento gensim por defecto no informa el \"loss\" en cada época\n",
    "# Sobrecargamos el callback para poder tener esta información\n",
    "class callback(CallbackAny2Vec):\n",
    "    \"\"\"\n",
    "    Callback to print loss after each epoch\n",
    "    \"\"\"\n",
    "    def __init__(self):\n",
    "        self.epoch = 0\n",
    "\n",
    "    def on_epoch_end(self, model):\n",
    "        loss = model.get_latest_training_loss()\n",
    "        if self.epoch == 0:\n",
    "            print('Loss after epoch {}: {}'.format(self.epoch, loss))\n",
    "        else:\n",
    "            print('Loss after epoch {}: {}'.format(self.epoch, loss- self.loss_previous_step))\n",
    "        self.epoch += 1\n",
    "        self.loss_previous_step = loss"
   ]
  },
  {
   "cell_type": "code",
   "execution_count": 9,
   "metadata": {
    "id": "i0wnDdv9sJ47"
   },
   "outputs": [],
   "source": [
    "# Crearmos el modelo generador de vectores\n",
    "# En este caso utilizaremos la estructura modelo Skipgram\n",
    "w2v_model = Word2Vec(min_count=5,    # frecuencia mínima de palabra para incluirla en el vocabulario\n",
    "                     window=2,       # cant de palabras antes y desp de la predicha\n",
    "                     vector_size=300,       # dimensionalidad de los vectores \n",
    "                     negative=20,    # cantidad de negative samples... 0 es no se usa\n",
    "                     workers=4,      # si tienen más cores pueden cambiar este valor\n",
    "                     sg=1)           # modelo 0:CBOW  1:skipgram"
   ]
  },
  {
   "cell_type": "code",
   "execution_count": 10,
   "metadata": {
    "id": "5lTt8wErsf17"
   },
   "outputs": [],
   "source": [
    "# Obtener el vocabulario con los tokens\n",
    "w2v_model.build_vocab(sentence_tokens)"
   ]
  },
  {
   "cell_type": "code",
   "execution_count": 11,
   "metadata": {
    "id": "TNc9qt4os5AT"
   },
   "outputs": [
    {
     "name": "stdout",
     "output_type": "stream",
     "text": [
      "Cantidad de docs en el corpus: 6812\n"
     ]
    }
   ],
   "source": [
    "# Cantidad de filas/docs encontradas en el corpus\n",
    "print(\"Cantidad de docs en el corpus:\", w2v_model.corpus_count)"
   ]
  },
  {
   "cell_type": "code",
   "execution_count": 12,
   "metadata": {
    "id": "idw9cHF3tSMl"
   },
   "outputs": [
    {
     "name": "stdout",
     "output_type": "stream",
     "text": [
      "Cantidad de words distintas en el corpus: 1347\n"
     ]
    }
   ],
   "source": [
    "# Cantidad de words encontradas en el corpus\n",
    "print(\"Cantidad de words distintas en el corpus:\", len(w2v_model.wv.index_to_key))"
   ]
  },
  {
   "cell_type": "markdown",
   "metadata": {
    "id": "fC9mZ8DPk-UC"
   },
   "source": [
    "### 3 - Entrenar embeddings"
   ]
  },
  {
   "cell_type": "code",
   "execution_count": 13,
   "metadata": {
    "id": "QSp-x0PAsq56"
   },
   "outputs": [
    {
     "name": "stdout",
     "output_type": "stream",
     "text": [
      "Loss after epoch 0: 506556.96875\n",
      "Loss after epoch 1: 369829.53125\n",
      "Loss after epoch 2: 344129.125\n",
      "Loss after epoch 3: 314718.375\n",
      "Loss after epoch 4: 310399.0\n",
      "Loss after epoch 5: 295839.5\n",
      "Loss after epoch 6: 262763.5\n",
      "Loss after epoch 7: 258724.5\n",
      "Loss after epoch 8: 254935.0\n",
      "Loss after epoch 9: 252422.0\n",
      "Loss after epoch 10: 249889.75\n",
      "Loss after epoch 11: 246938.0\n",
      "Loss after epoch 12: 243465.0\n",
      "Loss after epoch 13: 241613.5\n",
      "Loss after epoch 14: 229063.75\n",
      "Loss after epoch 15: 226176.0\n",
      "Loss after epoch 16: 225148.5\n",
      "Loss after epoch 17: 223591.5\n",
      "Loss after epoch 18: 222550.5\n",
      "Loss after epoch 19: 222643.0\n"
     ]
    },
    {
     "data": {
      "text/plain": [
       "(785273, 1296760)"
      ]
     },
     "execution_count": 13,
     "metadata": {},
     "output_type": "execute_result"
    }
   ],
   "source": [
    "# Entrenamos el modelo generador de vectores\n",
    "# Utilizamos nuestro callback\n",
    "w2v_model.train(sentence_tokens,\n",
    "                 total_examples=w2v_model.corpus_count,\n",
    "                 epochs=20,\n",
    "                 compute_loss = True,\n",
    "                 callbacks=[callback()]\n",
    "                 )"
   ]
  },
  {
   "cell_type": "markdown",
   "metadata": {
    "id": "ddT9NVuNlCAe"
   },
   "source": [
    "### 4 - Ensayar"
   ]
  },
  {
   "cell_type": "code",
   "execution_count": 28,
   "metadata": {
    "id": "6cHN9xGLuPEm"
   },
   "outputs": [
    {
     "data": {
      "text/plain": [
       "[('food', 0.7980446815490723),\n",
       " ('stamps', 0.7704891562461853),\n",
       " ('damn', 0.7608792781829834),\n",
       " ('ooh', 0.7356470823287964),\n",
       " ('swear', 0.7144322395324707),\n",
       " ('thank', 0.7053040862083435),\n",
       " ('yea', 0.6808665990829468),\n",
       " ('ah', 0.6683138608932495),\n",
       " ('sent', 0.6661420464515686),\n",
       " ('acid', 0.656876802444458)]"
      ]
     },
     "execution_count": 28,
     "metadata": {},
     "output_type": "execute_result"
    }
   ],
   "source": [
    "# Palabras que MÁS se relacionan con...:\n",
    "w2v_model.wv.most_similar(positive=[\"god\"], topn=10)"
   ]
  },
  {
   "cell_type": "code",
   "execution_count": 15,
   "metadata": {
    "id": "47HiU5gdkdMq"
   },
   "outputs": [
    {
     "data": {
      "text/plain": [
       "[('his', -0.1854957640171051),\n",
       " ('he', -0.24228157103061676),\n",
       " (\"he's\", -0.24640122056007385),\n",
       " ('these', -0.2698219418525696),\n",
       " ('o', -0.27692732214927673),\n",
       " ('are', -0.2918413281440735),\n",
       " ('been', -0.2932719588279724),\n",
       " ('of', -0.3024033010005951),\n",
       " ('by', -0.30799901485443115),\n",
       " ('her', -0.30958837270736694)]"
      ]
     },
     "execution_count": 15,
     "metadata": {},
     "output_type": "execute_result"
    }
   ],
   "source": [
    "# Palabras que MENOS se relacionan con...:\n",
    "w2v_model.wv.most_similar(negative=[\"feelings\"], topn=10)"
   ]
  },
  {
   "cell_type": "code",
   "execution_count": 18,
   "metadata": {
    "id": "L_UvHPMMklOr"
   },
   "outputs": [
    {
     "ename": "KeyError",
     "evalue": "\"Key 'diedaa' not present in vocabulary\"",
     "output_type": "error",
     "traceback": [
      "\u001b[0;31m---------------------------------------------------------------------------\u001b[0m",
      "\u001b[0;31mKeyError\u001b[0m                                  Traceback (most recent call last)",
      "\u001b[1;32m/Users/carlosmontiel/Documents/UBA/4to Bimestre/NLP/Clase 3/3b - Custom embedding con Gensim.ipynb Cell 25\u001b[0m line \u001b[0;36m2\n\u001b[1;32m      <a href='vscode-notebook-cell:/Users/carlosmontiel/Documents/UBA/4to%20Bimestre/NLP/Clase%203/3b%20-%20Custom%20embedding%20con%20Gensim.ipynb#X33sZmlsZQ%3D%3D?line=0'>1</a>\u001b[0m \u001b[39m# Ensayar con una palabra que no está en el vocabulario:\u001b[39;00m\n\u001b[0;32m----> <a href='vscode-notebook-cell:/Users/carlosmontiel/Documents/UBA/4to%20Bimestre/NLP/Clase%203/3b%20-%20Custom%20embedding%20con%20Gensim.ipynb#X33sZmlsZQ%3D%3D?line=1'>2</a>\u001b[0m w2v_model\u001b[39m.\u001b[39;49mwv\u001b[39m.\u001b[39;49mmost_similar(negative\u001b[39m=\u001b[39;49m[\u001b[39m\"\u001b[39;49m\u001b[39mdiedaa\u001b[39;49m\u001b[39m\"\u001b[39;49m])\n",
      "File \u001b[0;32m~/anaconda3/envs/nlp/lib/python3.11/site-packages/gensim/models/keyedvectors.py:841\u001b[0m, in \u001b[0;36mKeyedVectors.most_similar\u001b[0;34m(self, positive, negative, topn, clip_start, clip_end, restrict_vocab, indexer)\u001b[0m\n\u001b[1;32m    838\u001b[0m         weight[idx] \u001b[39m=\u001b[39m item[\u001b[39m1\u001b[39m]\n\u001b[1;32m    840\u001b[0m \u001b[39m# compute the weighted average of all keys\u001b[39;00m\n\u001b[0;32m--> 841\u001b[0m mean \u001b[39m=\u001b[39m \u001b[39mself\u001b[39;49m\u001b[39m.\u001b[39;49mget_mean_vector(keys, weight, pre_normalize\u001b[39m=\u001b[39;49m\u001b[39mTrue\u001b[39;49;00m, post_normalize\u001b[39m=\u001b[39;49m\u001b[39mTrue\u001b[39;49;00m, ignore_missing\u001b[39m=\u001b[39;49m\u001b[39mFalse\u001b[39;49;00m)\n\u001b[1;32m    842\u001b[0m all_keys \u001b[39m=\u001b[39m [\n\u001b[1;32m    843\u001b[0m     \u001b[39mself\u001b[39m\u001b[39m.\u001b[39mget_index(key) \u001b[39mfor\u001b[39;00m key \u001b[39min\u001b[39;00m keys \u001b[39mif\u001b[39;00m \u001b[39misinstance\u001b[39m(key, _KEY_TYPES) \u001b[39mand\u001b[39;00m \u001b[39mself\u001b[39m\u001b[39m.\u001b[39mhas_index_for(key)\n\u001b[1;32m    844\u001b[0m ]\n\u001b[1;32m    846\u001b[0m \u001b[39mif\u001b[39;00m indexer \u001b[39mis\u001b[39;00m \u001b[39mnot\u001b[39;00m \u001b[39mNone\u001b[39;00m \u001b[39mand\u001b[39;00m \u001b[39misinstance\u001b[39m(topn, \u001b[39mint\u001b[39m):\n",
      "File \u001b[0;32m~/anaconda3/envs/nlp/lib/python3.11/site-packages/gensim/models/keyedvectors.py:518\u001b[0m, in \u001b[0;36mKeyedVectors.get_mean_vector\u001b[0;34m(self, keys, weights, pre_normalize, post_normalize, ignore_missing)\u001b[0m\n\u001b[1;32m    516\u001b[0m         total_weight \u001b[39m+\u001b[39m\u001b[39m=\u001b[39m \u001b[39mabs\u001b[39m(weights[idx])\n\u001b[1;32m    517\u001b[0m     \u001b[39melif\u001b[39;00m \u001b[39mnot\u001b[39;00m ignore_missing:\n\u001b[0;32m--> 518\u001b[0m         \u001b[39mraise\u001b[39;00m \u001b[39mKeyError\u001b[39;00m(\u001b[39mf\u001b[39m\u001b[39m\"\u001b[39m\u001b[39mKey \u001b[39m\u001b[39m'\u001b[39m\u001b[39m{\u001b[39;00mkey\u001b[39m}\u001b[39;00m\u001b[39m'\u001b[39m\u001b[39m not present in vocabulary\u001b[39m\u001b[39m\"\u001b[39m)\n\u001b[1;32m    520\u001b[0m \u001b[39mif\u001b[39;00m total_weight \u001b[39m>\u001b[39m \u001b[39m0\u001b[39m:\n\u001b[1;32m    521\u001b[0m     mean \u001b[39m=\u001b[39m mean \u001b[39m/\u001b[39m total_weight\n",
      "\u001b[0;31mKeyError\u001b[0m: \"Key 'diedaa' not present in vocabulary\""
     ]
    }
   ],
   "source": [
    "# Ensayar con una palabra que no está en el vocabulario:\n",
    "w2v_model.wv.most_similar(negative=[\"diedaa\"])"
   ]
  },
  {
   "cell_type": "code",
   "execution_count": null,
   "metadata": {},
   "outputs": [
    {
     "name": "stdout",
     "output_type": "stream",
     "text": [
      "[ 3.67569804e-01  1.45447865e-01 -7.67101124e-02 -2.51713127e-01\n",
      "  1.62422106e-01  1.22999683e-01  3.16883624e-01 -7.20506757e-02\n",
      " -1.37708694e-01 -4.76133525e-01  2.02128574e-01 -9.18362383e-03\n",
      " -3.43216956e-02 -1.00194804e-01 -2.02343076e-01 -5.15149295e-01\n",
      "  6.79034889e-02  3.50116134e-01  8.56724605e-02 -1.44431770e-01\n",
      "  1.31192687e-03 -9.78999510e-02  3.70407701e-01 -7.84190223e-02\n",
      "  1.03319041e-01  1.03175700e-01 -1.42763210e-02 -1.18491985e-01\n",
      " -1.24005981e-01 -3.48519742e-01  3.47845495e-01 -1.84158295e-01\n",
      "  6.09976828e-01 -2.27926701e-01  1.24051876e-01  6.42717704e-02\n",
      " -1.44265875e-01 -9.54020470e-02 -3.52312744e-01 -5.64634055e-02\n",
      " -2.35963628e-01 -1.88571841e-01  1.49016291e-01 -2.58168608e-01\n",
      " -1.44456685e-01  2.92920232e-01  4.46063787e-01 -4.99566384e-02\n",
      " -1.44531220e-01  1.26240086e-02 -1.69196744e-02  3.29350948e-01\n",
      "  2.33842768e-02  2.89818645e-01 -2.97025204e-01 -2.29905173e-01\n",
      " -8.86470526e-02  3.96068543e-02 -3.30910124e-02 -1.32381439e-01\n",
      " -2.89389133e-01  3.56112868e-02  3.08936276e-02 -1.59734264e-01\n",
      " -2.28452221e-01 -9.23384074e-03  1.32964343e-01 -1.88031957e-01\n",
      " -1.82948500e-01  3.83040220e-01 -8.50360021e-02 -2.05269530e-01\n",
      "  3.78854543e-01 -2.00000443e-02 -5.41439317e-02  2.38245010e-01\n",
      "  1.24531381e-01  2.90065289e-01 -2.07935154e-01  5.09381890e-02\n",
      "  2.57824156e-02 -5.28039753e-01  9.57435812e-04 -3.76423895e-02\n",
      " -1.77385122e-01  1.31444529e-01 -3.29567790e-01  1.95402950e-01\n",
      "  4.69390124e-01  2.33596846e-01  5.98423555e-02  5.64116798e-02\n",
      "  1.52630925e-01  4.26964872e-02 -2.00049937e-01 -2.85488628e-02\n",
      "  1.63934827e-01  2.68718272e-01 -2.05771253e-01  1.37240633e-01\n",
      "  1.46656379e-01  3.37315388e-02 -2.50649482e-01  6.71075433e-02\n",
      " -2.40455642e-02  7.34515265e-02 -5.14965169e-02 -3.75865042e-01\n",
      "  2.57619880e-02  2.34832957e-01 -9.04538184e-02  1.66122481e-01\n",
      "  3.13813865e-01  9.65705141e-02 -1.15845419e-01 -3.88227522e-01\n",
      " -1.00117221e-01  9.65629965e-02  2.16515347e-01 -2.51990616e-01\n",
      "  3.66574377e-01  2.84454703e-01 -6.91788048e-02  1.53042257e-01\n",
      " -3.36884499e-01  5.33066504e-02 -1.25595599e-01  1.71806201e-01\n",
      " -2.65406132e-01 -1.04846001e-01  6.48647919e-02  3.20178062e-01\n",
      " -1.04520969e-01  1.47731885e-01 -2.92050630e-01 -6.21621981e-02\n",
      " -3.52786660e-01 -2.16635540e-01 -2.34215796e-01 -4.81873840e-01\n",
      "  7.48247132e-02 -2.09619313e-01 -5.57015538e-02 -3.91928613e-01\n",
      "  3.58797908e-02 -5.97370744e-01 -2.31429879e-02 -1.49444908e-01\n",
      "  3.54705863e-02  3.53106074e-02 -1.15010537e-01 -3.61409187e-01\n",
      "  3.06698710e-01 -4.61548753e-02  2.53174305e-01  2.71605134e-01\n",
      " -2.64136434e-01 -1.74795091e-01  1.70266032e-01  2.96142399e-01\n",
      "  4.73036151e-03  8.93696398e-02 -3.99999738e-01 -5.44665493e-02\n",
      "  1.30306631e-01 -2.06941321e-01 -7.00106751e-03 -9.02599692e-02\n",
      " -2.52045095e-02  1.98176712e-01 -1.93551518e-02 -2.33451098e-01\n",
      " -9.90053564e-02 -1.54345065e-01 -2.18022928e-01  6.33871555e-02\n",
      " -1.34637877e-01 -3.79438758e-01  8.28746036e-02  8.10241699e-02\n",
      " -1.36897504e-01  1.84866432e-02 -4.60435629e-01  2.84700572e-01\n",
      " -1.93042189e-01 -1.60279080e-01  1.81132749e-01  6.36409521e-01\n",
      " -1.94678977e-01 -2.93634832e-01  5.31941175e-01 -2.98411727e-01\n",
      " -3.82558972e-01 -7.17360452e-02  2.52388239e-01 -1.38469245e-02\n",
      "  1.93201527e-01 -2.25731134e-01  4.19790864e-01 -3.67101610e-01\n",
      " -4.62602139e-01  8.13500583e-02 -1.81555048e-01  2.28690561e-02\n",
      " -4.91311252e-02 -1.59267366e-01 -8.59251916e-02  2.50540942e-01\n",
      " -1.18420325e-01  1.67934567e-01 -3.28666210e-01  1.76634505e-01\n",
      " -1.53794512e-01  6.05115965e-02  1.91343814e-01 -2.00294599e-01\n",
      " -1.20953701e-01 -3.39995354e-01 -2.64978051e-01 -1.55668646e-01\n",
      " -1.89032443e-02  4.23782349e-01 -3.86955827e-01  1.52188256e-01\n",
      "  1.19703889e-01  1.71894759e-01  4.02429700e-01 -2.76961148e-01\n",
      " -3.01064312e-01 -1.07937694e-01 -2.23617032e-02  1.07482508e-01\n",
      "  5.95266419e-03  2.99050242e-01 -2.65459806e-01 -1.56645641e-01\n",
      "  1.44541919e-01 -1.96471006e-01 -2.05066040e-01 -3.54375929e-01\n",
      " -1.45259529e-01  1.29952177e-01  8.02894682e-03 -5.77936292e-01\n",
      " -7.65985548e-02 -6.36006534e-01  1.83566257e-01  6.15750439e-02\n",
      " -2.32737139e-03  1.26167685e-01 -6.72488511e-02  4.22599792e-01\n",
      " -3.20447624e-01 -8.25145021e-02 -2.75838852e-01 -2.21642256e-01\n",
      "  2.48938993e-01 -2.19192669e-01 -4.71659929e-01 -1.37571335e-01\n",
      " -5.87825738e-02  4.51812753e-04 -2.12422296e-01 -7.27961063e-02\n",
      " -1.16828486e-01 -3.50289255e-01  3.11379582e-01 -3.43456492e-02\n",
      " -1.50679320e-01  1.06838569e-01 -7.89013226e-03 -1.02744512e-01\n",
      " -1.77519649e-01  5.22464775e-02  1.61021933e-01 -1.29875159e-02\n",
      "  1.25382736e-01  3.20301235e-01 -5.91979623e-01 -4.13678959e-02\n",
      " -2.20502988e-02 -7.24328935e-01 -4.16494273e-02 -4.72522564e-02\n",
      " -4.74526621e-02 -2.17091255e-02 -2.42802635e-01  1.37226015e-01\n",
      "  1.03510311e-02  5.13526380e-01  5.23401499e-02  2.61613727e-01\n",
      " -2.06726953e-01 -2.25967690e-01  5.11526644e-01  1.43534809e-01\n",
      " -1.04507700e-01 -2.80027874e-02  1.33324414e-01 -2.34331056e-01]\n"
     ]
    }
   ],
   "source": [
    "# el método `get_vector` permite obtener los vectores:\n",
    "vector_love = w2v_model.wv.get_vector(\"love\")\n",
    "print(vector_love)"
   ]
  },
  {
   "cell_type": "code",
   "execution_count": null,
   "metadata": {},
   "outputs": [
    {
     "data": {
      "text/plain": [
       "[('love', 1.0),\n",
       " ('ladies', 0.7097368240356445),\n",
       " ('showed', 0.6670942306518555),\n",
       " ('lie', 0.6648339629173279),\n",
       " ('em', 0.6454949378967285),\n",
       " ('because', 0.6437930464744568),\n",
       " ('hate', 0.6215324401855469),\n",
       " ('kicking', 0.6173309087753296),\n",
       " ('toe', 0.6169049739837646),\n",
       " ('dad', 0.6160704493522644)]"
      ]
     },
     "execution_count": 42,
     "metadata": {},
     "output_type": "execute_result"
    }
   ],
   "source": [
    "# el método `most_similar` también permite comparar a partir de vectores\n",
    "w2v_model.wv.most_similar(vector_love)"
   ]
  },
  {
   "cell_type": "code",
   "execution_count": null,
   "metadata": {},
   "outputs": [
    {
     "data": {
      "text/plain": [
       "[('ladies', 0.7097368240356445),\n",
       " ('showed', 0.6670941710472107),\n",
       " ('lie', 0.6648339629173279),\n",
       " ('em', 0.6454949378967285),\n",
       " ('because', 0.6437930464744568),\n",
       " ('hate', 0.6215324401855469),\n",
       " ('kicking', 0.6173309087753296),\n",
       " ('toe', 0.6169049739837646),\n",
       " ('dad', 0.6160704493522644),\n",
       " ('crying', 0.6160150170326233)]"
      ]
     },
     "execution_count": 43,
     "metadata": {},
     "output_type": "execute_result"
    }
   ],
   "source": [
    "# Palabras que MÁS se relacionan con...:\n",
    "w2v_model.wv.most_similar(positive=[\"love\"], topn=10)"
   ]
  },
  {
   "cell_type": "markdown",
   "metadata": {
    "id": "_g8UVWe6lFmh"
   },
   "source": [
    "### 5 - Visualizar agrupación de vectores"
   ]
  },
  {
   "cell_type": "code",
   "execution_count": 19,
   "metadata": {
    "id": "pDxEVXAivjr9"
   },
   "outputs": [],
   "source": [
    "from sklearn.decomposition import IncrementalPCA    \n",
    "from sklearn.manifold import TSNE                   \n",
    "import numpy as np                                  \n",
    "\n",
    "def reduce_dimensions(model, num_dimensions = 2 ):\n",
    "     \n",
    "    vectors = np.asarray(model.wv.vectors)\n",
    "    labels = np.asarray(model.wv.index_to_key)  \n",
    "\n",
    "    tsne = TSNE(n_components=num_dimensions, random_state=0)\n",
    "    vectors = tsne.fit_transform(vectors)\n",
    "\n",
    "    return vectors, labels"
   ]
  },
  {
   "cell_type": "code",
   "execution_count": 20,
   "metadata": {
    "id": "NCCXtDpcugmd"
   },
   "outputs": [
    {
     "data": {
      "application/vnd.plotly.v1+json": {
       "config": {
        "plotlyServerURL": "https://plot.ly"
       },
       "data": [
        {
         "hovertemplate": "x=%{x}<br>y=%{y}<br>text=%{text}<extra></extra>",
         "legendgroup": "",
         "marker": {
          "color": "#636efa",
          "symbol": "circle"
         },
         "mode": "markers+text",
         "name": "",
         "orientation": "v",
         "showlegend": false,
         "text": [
          "i",
          "the",
          "you",
          "to",
          "a",
          "and",
          "my",
          "i'm",
          "it",
          "me",
          "in",
          "that",
          "like",
          "of",
          "this",
          "but",
          "just",
          "so",
          "on",
          "is",
          "your",
          "don't",
          "up",
          "with",
          "get",
          "for",
          "be",
          "it's",
          "no",
          "all",
          "know",
          "what",
          "now",
          "out",
          "when",
          "they",
          "was",
          "not",
          "fuck",
          "ain't",
          "got",
          "at",
          "go",
          "can",
          "back",
          "if",
          "shit",
          "we",
          "he",
          "do",
          "one",
          "from",
          "'cause",
          "as",
          "never",
          "see",
          "think",
          "say",
          "his",
          "make",
          "you're",
          "off",
          "oh",
          "that's",
          "down",
          "way",
          "who",
          "her",
          "have",
          "can't",
          "take",
          "right",
          "ass",
          "bitch",
          "name",
          "or",
          "too",
          "let",
          "want",
          "love",
          "then",
          "are",
          "i'll",
          "these",
          "am",
          "time",
          "how",
          "been",
          "shady",
          "'em",
          "even",
          "why",
          "feel",
          "him",
          "yeah",
          "baby",
          "man",
          "cause",
          "come",
          "gonna",
          "still",
          "slim",
          "he's",
          "about",
          "look",
          "wanna",
          "little",
          "through",
          "some",
          "could",
          "an",
          "only",
          "did",
          "girl",
          "life",
          "over",
          "here",
          "put",
          "better",
          "give",
          "more",
          "need",
          "had",
          "there",
          "said",
          "i've",
          "she",
          "everybody",
          "stand",
          "aah",
          "by",
          "fuckin'",
          "them",
          "ever",
          "fucking",
          "tell",
          "rap",
          "again",
          "god",
          "bad",
          "crazy",
          "world",
          "will",
          "nothing",
          "before",
          "us",
          "try",
          "stop",
          "would",
          "maybe",
          "hear",
          "new",
          "where",
          "own",
          "please",
          "keep",
          "really",
          "something",
          "every",
          "made",
          "same",
          "gotta",
          "blow",
          "around",
          "day",
          "head",
          "there's",
          "into",
          "'til",
          "won't",
          "call",
          "yo",
          "mom",
          "didn't",
          "boy",
          "shot",
          "well",
          "gone",
          "white",
          "real",
          "face",
          "once",
          "night",
          "comes",
          "guess",
          "thing",
          "ya",
          "two",
          "lose",
          "shake",
          "while",
          "let's",
          "people",
          "yourself",
          "hit",
          "show",
          "ha",
          "find",
          "going",
          "goes"
         ],
         "type": "scatter",
         "x": [
          -21.282516479492188,
          23.065038681030273,
          -22.894134521484375,
          16.677446365356445,
          4.404950141906738,
          0.45465293526649475,
          12.40636920928955,
          4.875319957733154,
          -26.419981002807617,
          -7.420380115509033,
          26.97683334350586,
          -7.9029011726379395,
          -3.431306838989258,
          14.149088859558105,
          4.4963788986206055,
          -23.22601318359375,
          -22.566362380981445,
          -10.45268726348877,
          15.648375511169434,
          10.753304481506348,
          -17.044286727905273,
          -24.70934295654297,
          27.746232986450195,
          23.13794708251953,
          -23.154661178588867,
          22.45713233947754,
          -14.326461791992188,
          -7.205806732177734,
          -23.360790252685547,
          -7.542202949523926,
          -21.593120574951172,
          -20.889572143554688,
          -10.407689094543457,
          16.70170021057129,
          -20.67369842529297,
          -5.804005146026611,
          -18.38237762451172,
          -18.50433349609375,
          -10.444965362548828,
          -23.10086441040039,
          5.282083988189697,
          28.890274047851562,
          17.50811767578125,
          -29.066011428833008,
          25.746274948120117,
          -27.334423065185547,
          7.658914089202881,
          -35.436092376708984,
          -2.768129348754883,
          -31.41481590270996,
          -23.27403450012207,
          8.110650062561035,
          -20.02447509765625,
          -4.341184139251709,
          -23.12718963623047,
          -19.151382446289062,
          -17.032852172851562,
          -17.813554763793945,
          0.8397910594940186,
          -29.84095573425293,
          -8.778051376342773,
          19.114521026611328,
          -3.1228935718536377,
          -22.7882080078125,
          14.082340240478516,
          -25.408918380737305,
          1.5607341527938843,
          -1.1898612976074219,
          -9.495293617248535,
          -27.606311798095703,
          19.973112106323242,
          -9.018301963806152,
          3.0648930072784424,
          5.560907363891602,
          -0.44004231691360474,
          -33.15876388549805,
          -19.489532470703125,
          -13.543167114257812,
          -18.608642578125,
          -13.864952087402344,
          -25.99061393737793,
          6.558599472045898,
          -26.987403869628906,
          4.931849479675293,
          -10.867907524108887,
          28.230749130249023,
          -17.269821166992188,
          -0.09843609482049942,
          -12.007623672485352,
          -30.172950744628906,
          -22.180503845214844,
          -22.462902069091797,
          -1.817795753479004,
          -2.403773069381714,
          -14.928455352783203,
          -7.325366973876953,
          -9.439512252807617,
          -12.187677383422852,
          18.20783042907715,
          -28.73164939880371,
          -12.580789566040039,
          -12.26867961883545,
          -12.347040176391602,
          -14.065418243408203,
          27.2781982421875,
          3.034599542617798,
          4.666582107543945,
          24.326160430908203,
          -0.9125298857688904,
          -22.299741744995117,
          0.6026201844215393,
          -22.29231834411621,
          -25.394149780273438,
          -9.401896476745605,
          33.02495574951172,
          14.129446983337402,
          -10.247310638427734,
          4.719865798950195,
          -12.273857116699219,
          7.791407585144043,
          -24.66892433166504,
          -24.39081382751465,
          -20.6746768951416,
          11.723320007324219,
          -18.193994522094727,
          2.612860679626465,
          -30.336441040039062,
          4.162339210510254,
          12.77266788482666,
          -7.56312894821167,
          20.983047485351562,
          19.85235595703125,
          2.7822086811065674,
          -20.320520401000977,
          8.303522109985352,
          -14.60539436340332,
          -5.399659156799316,
          9.122891426086426,
          -5.114444255828857,
          -13.121200561523438,
          -15.08837604522705,
          14.341317176818848,
          -10.840886116027832,
          -21.207489013671875,
          9.75440502166748,
          -14.8170166015625,
          -21.089109420776367,
          -17.879440307617188,
          -24.60940170288086,
          -24.204059600830078,
          -29.32691192626953,
          3.4459068775177,
          -14.662537574768066,
          -4.680604457855225,
          -10.98016357421875,
          13.886210441589355,
          -5.113360404968262,
          -4.67140007019043,
          27.08860206604004,
          1.2557767629623413,
          11.466073036193848,
          -17.65760040283203,
          -15.72809886932373,
          11.120136260986328,
          2.8041553497314453,
          10.717971801757812,
          -20.716049194335938,
          13.475845336914062,
          19.133037567138672,
          -27.65350914001465,
          -18.659353256225586,
          15.040681838989258,
          15.482833862304688,
          -24.234643936157227,
          -12.557682991027832,
          -21.255573272705078,
          -16.430631637573242,
          -11.011556625366211,
          17.325889587402344,
          -3.8063161373138428,
          2.020063877105713,
          19.72199249267578,
          26.746978759765625,
          20.224693298339844,
          -19.773561477661133,
          -26.975793838500977,
          -13.208659172058105,
          12.542454719543457,
          -12.544758796691895,
          18.86482048034668,
          -10.719324111938477,
          17.673389434814453,
          0.3295981287956238,
          -11.703166961669922,
          7.103978157043457,
          -6.017470836639404,
          7.579893112182617,
          31.71889877319336,
          -10.53403377532959,
          -8.243446350097656
         ],
         "xaxis": "x",
         "y": [
          -9.403029441833496,
          -7.822639465332031,
          -6.58470344543457,
          -16.87322998046875,
          -16.028841018676758,
          11.281672477722168,
          18.51474380493164,
          -12.522000312805176,
          -0.4492942988872528,
          -15.971460342407227,
          1.5564312934875488,
          -17.416790008544922,
          -19.216798782348633,
          14.268715858459473,
          -6.3890380859375,
          -20.259429931640625,
          -10.299677848815918,
          1.9229753017425537,
          -10.399608612060547,
          17.993579864501953,
          20.527721405029297,
          -10.685224533081055,
          11.379912376403809,
          11.93786334991455,
          14.164970397949219,
          -13.637389183044434,
          15.83911418914795,
          -11.937667846679688,
          8.283893585205078,
          15.12254810333252,
          -14.07790756225586,
          -16.189842224121094,
          16.92119598388672,
          17.69643783569336,
          -12.129976272583008,
          -19.725444793701172,
          -14.249092102050781,
          14.615394592285156,
          -25.471399307250977,
          -1.62412428855896,
          -10.792764663696289,
          6.478177547454834,
          -4.962325096130371,
          -7.699345588684082,
          -6.242666721343994,
          -10.191542625427246,
          -20.82367706298828,
          -0.9812193512916565,
          15.29534912109375,
          0.22267889976501465,
          11.872735023498535,
          -1.9310258626937866,
          -11.095881462097168,
          7.563704967498779,
          0.09210596233606339,
          -6.352758407592773,
          -10.866798400878906,
          -8.082011222839355,
          15.727234840393066,
          -2.2076268196105957,
          4.140436172485352,
          19.652807235717773,
          -30.041889190673828,
          -21.177532196044922,
          -9.225062370300293,
          -15.334670066833496,
          25.265602111816406,
          18.47920036315918,
          0.013316426426172256,
          -8.571430206298828,
          -9.768685340881348,
          18.781497955322266,
          5.366379261016846,
          -13.525043487548828,
          28.25614356994629,
          -5.095343112945557,
          -21.13843536376953,
          20.99143409729004,
          -1.424433708190918,
          -20.490907669067383,
          1.0887994766235352,
          27.526416778564453,
          -6.409762382507324,
          21.314929962158203,
          -26.611251831054688,
          21.141902923583984,
          9.233359336853027,
          -21.402759552001953,
          -18.35419464111328,
          -4.570428371429443,
          -11.751703262329102,
          -16.606264114379883,
          -18.02873420715332,
          17.59697723388672,
          -24.042280197143555,
          -28.33367347717285,
          -0.9798825979232788,
          -3.2964212894439697,
          -9.332806587219238,
          -15.318437576293945,
          -4.864246368408203,
          -19.141653060913086,
          10.990103721618652,
          -15.47623348236084,
          6.844198226928711,
          -29.511293411254883,
          -17.35965919494629,
          -0.6895787119865417,
          -16.717012405395508,
          19.289939880371094,
          4.688290119171143,
          12.557307243347168,
          -18.008827209472656,
          -16.532655715942383,
          4.419528961181641,
          26.5355224609375,
          -9.94215202331543,
          9.495004653930664,
          22.2353458404541,
          -25.856332778930664,
          7.234152793884277,
          5.576461315155029,
          6.452688217163086,
          -23.975915908813477,
          -12.283076286315918,
          -23.25054168701172,
          3.5031397342681885,
          -29.03961944580078,
          -23.146753311157227,
          -27.895553588867188,
          12.29799747467041,
          -16.16449737548828,
          -3.748530387878418,
          0.358449786901474,
          -8.918636322021484,
          -2.9062983989715576,
          -23.687583923339844,
          -5.181488990783691,
          -27.15044593811035,
          2.9443671703338623,
          -22.704376220703125,
          -19.89647102355957,
          1.2219140529632568,
          -20.446792602539062,
          -10.250007629394531,
          11.533892631530762,
          -3.8954975605010986,
          19.198888778686523,
          -5.388228416442871,
          13.199101448059082,
          7.745519161224365,
          -14.686219215393066,
          -7.7250542640686035,
          17.18994140625,
          -19.883472442626953,
          -4.294897556304932,
          24.31926918029785,
          -17.772109985351562,
          21.320749282836914,
          -3.3625094890594482,
          -12.022040367126465,
          -3.274043083190918,
          15.648551940917969,
          -0.9607429504394531,
          8.050063133239746,
          9.58903694152832,
          8.585589408874512,
          1.4732255935668945,
          17.82940673828125,
          2.060609817504883,
          -17.988283157348633,
          -3.9076952934265137,
          22.117887496948242,
          -10.173920631408691,
          -23.703922271728516,
          13.864407539367676,
          -21.583404541015625,
          4.201239585876465,
          -24.707843780517578,
          -6.739749431610107,
          17.433128356933594,
          23.648441314697266,
          0.20669777691364288,
          21.923484802246094,
          -14.04161548614502,
          11.267104148864746,
          -7.785282135009766,
          12.39454174041748,
          24.628257751464844,
          -12.28722858428955,
          8.133989334106445,
          -2.574585199356079,
          23.93537139892578,
          24.652421951293945,
          -9.258623123168945,
          13.777616500854492,
          -16.758747100830078,
          -3.778843402862549,
          -8.894009590148926,
          12.991415977478027
         ],
         "yaxis": "y"
        }
       ],
       "layout": {
        "legend": {
         "tracegroupgap": 0
        },
        "margin": {
         "t": 60
        },
        "template": {
         "data": {
          "bar": [
           {
            "error_x": {
             "color": "#2a3f5f"
            },
            "error_y": {
             "color": "#2a3f5f"
            },
            "marker": {
             "line": {
              "color": "#E5ECF6",
              "width": 0.5
             },
             "pattern": {
              "fillmode": "overlay",
              "size": 10,
              "solidity": 0.2
             }
            },
            "type": "bar"
           }
          ],
          "barpolar": [
           {
            "marker": {
             "line": {
              "color": "#E5ECF6",
              "width": 0.5
             },
             "pattern": {
              "fillmode": "overlay",
              "size": 10,
              "solidity": 0.2
             }
            },
            "type": "barpolar"
           }
          ],
          "carpet": [
           {
            "aaxis": {
             "endlinecolor": "#2a3f5f",
             "gridcolor": "white",
             "linecolor": "white",
             "minorgridcolor": "white",
             "startlinecolor": "#2a3f5f"
            },
            "baxis": {
             "endlinecolor": "#2a3f5f",
             "gridcolor": "white",
             "linecolor": "white",
             "minorgridcolor": "white",
             "startlinecolor": "#2a3f5f"
            },
            "type": "carpet"
           }
          ],
          "choropleth": [
           {
            "colorbar": {
             "outlinewidth": 0,
             "ticks": ""
            },
            "type": "choropleth"
           }
          ],
          "contour": [
           {
            "colorbar": {
             "outlinewidth": 0,
             "ticks": ""
            },
            "colorscale": [
             [
              0,
              "#0d0887"
             ],
             [
              0.1111111111111111,
              "#46039f"
             ],
             [
              0.2222222222222222,
              "#7201a8"
             ],
             [
              0.3333333333333333,
              "#9c179e"
             ],
             [
              0.4444444444444444,
              "#bd3786"
             ],
             [
              0.5555555555555556,
              "#d8576b"
             ],
             [
              0.6666666666666666,
              "#ed7953"
             ],
             [
              0.7777777777777778,
              "#fb9f3a"
             ],
             [
              0.8888888888888888,
              "#fdca26"
             ],
             [
              1,
              "#f0f921"
             ]
            ],
            "type": "contour"
           }
          ],
          "contourcarpet": [
           {
            "colorbar": {
             "outlinewidth": 0,
             "ticks": ""
            },
            "type": "contourcarpet"
           }
          ],
          "heatmap": [
           {
            "colorbar": {
             "outlinewidth": 0,
             "ticks": ""
            },
            "colorscale": [
             [
              0,
              "#0d0887"
             ],
             [
              0.1111111111111111,
              "#46039f"
             ],
             [
              0.2222222222222222,
              "#7201a8"
             ],
             [
              0.3333333333333333,
              "#9c179e"
             ],
             [
              0.4444444444444444,
              "#bd3786"
             ],
             [
              0.5555555555555556,
              "#d8576b"
             ],
             [
              0.6666666666666666,
              "#ed7953"
             ],
             [
              0.7777777777777778,
              "#fb9f3a"
             ],
             [
              0.8888888888888888,
              "#fdca26"
             ],
             [
              1,
              "#f0f921"
             ]
            ],
            "type": "heatmap"
           }
          ],
          "heatmapgl": [
           {
            "colorbar": {
             "outlinewidth": 0,
             "ticks": ""
            },
            "colorscale": [
             [
              0,
              "#0d0887"
             ],
             [
              0.1111111111111111,
              "#46039f"
             ],
             [
              0.2222222222222222,
              "#7201a8"
             ],
             [
              0.3333333333333333,
              "#9c179e"
             ],
             [
              0.4444444444444444,
              "#bd3786"
             ],
             [
              0.5555555555555556,
              "#d8576b"
             ],
             [
              0.6666666666666666,
              "#ed7953"
             ],
             [
              0.7777777777777778,
              "#fb9f3a"
             ],
             [
              0.8888888888888888,
              "#fdca26"
             ],
             [
              1,
              "#f0f921"
             ]
            ],
            "type": "heatmapgl"
           }
          ],
          "histogram": [
           {
            "marker": {
             "pattern": {
              "fillmode": "overlay",
              "size": 10,
              "solidity": 0.2
             }
            },
            "type": "histogram"
           }
          ],
          "histogram2d": [
           {
            "colorbar": {
             "outlinewidth": 0,
             "ticks": ""
            },
            "colorscale": [
             [
              0,
              "#0d0887"
             ],
             [
              0.1111111111111111,
              "#46039f"
             ],
             [
              0.2222222222222222,
              "#7201a8"
             ],
             [
              0.3333333333333333,
              "#9c179e"
             ],
             [
              0.4444444444444444,
              "#bd3786"
             ],
             [
              0.5555555555555556,
              "#d8576b"
             ],
             [
              0.6666666666666666,
              "#ed7953"
             ],
             [
              0.7777777777777778,
              "#fb9f3a"
             ],
             [
              0.8888888888888888,
              "#fdca26"
             ],
             [
              1,
              "#f0f921"
             ]
            ],
            "type": "histogram2d"
           }
          ],
          "histogram2dcontour": [
           {
            "colorbar": {
             "outlinewidth": 0,
             "ticks": ""
            },
            "colorscale": [
             [
              0,
              "#0d0887"
             ],
             [
              0.1111111111111111,
              "#46039f"
             ],
             [
              0.2222222222222222,
              "#7201a8"
             ],
             [
              0.3333333333333333,
              "#9c179e"
             ],
             [
              0.4444444444444444,
              "#bd3786"
             ],
             [
              0.5555555555555556,
              "#d8576b"
             ],
             [
              0.6666666666666666,
              "#ed7953"
             ],
             [
              0.7777777777777778,
              "#fb9f3a"
             ],
             [
              0.8888888888888888,
              "#fdca26"
             ],
             [
              1,
              "#f0f921"
             ]
            ],
            "type": "histogram2dcontour"
           }
          ],
          "mesh3d": [
           {
            "colorbar": {
             "outlinewidth": 0,
             "ticks": ""
            },
            "type": "mesh3d"
           }
          ],
          "parcoords": [
           {
            "line": {
             "colorbar": {
              "outlinewidth": 0,
              "ticks": ""
             }
            },
            "type": "parcoords"
           }
          ],
          "pie": [
           {
            "automargin": true,
            "type": "pie"
           }
          ],
          "scatter": [
           {
            "fillpattern": {
             "fillmode": "overlay",
             "size": 10,
             "solidity": 0.2
            },
            "type": "scatter"
           }
          ],
          "scatter3d": [
           {
            "line": {
             "colorbar": {
              "outlinewidth": 0,
              "ticks": ""
             }
            },
            "marker": {
             "colorbar": {
              "outlinewidth": 0,
              "ticks": ""
             }
            },
            "type": "scatter3d"
           }
          ],
          "scattercarpet": [
           {
            "marker": {
             "colorbar": {
              "outlinewidth": 0,
              "ticks": ""
             }
            },
            "type": "scattercarpet"
           }
          ],
          "scattergeo": [
           {
            "marker": {
             "colorbar": {
              "outlinewidth": 0,
              "ticks": ""
             }
            },
            "type": "scattergeo"
           }
          ],
          "scattergl": [
           {
            "marker": {
             "colorbar": {
              "outlinewidth": 0,
              "ticks": ""
             }
            },
            "type": "scattergl"
           }
          ],
          "scattermapbox": [
           {
            "marker": {
             "colorbar": {
              "outlinewidth": 0,
              "ticks": ""
             }
            },
            "type": "scattermapbox"
           }
          ],
          "scatterpolar": [
           {
            "marker": {
             "colorbar": {
              "outlinewidth": 0,
              "ticks": ""
             }
            },
            "type": "scatterpolar"
           }
          ],
          "scatterpolargl": [
           {
            "marker": {
             "colorbar": {
              "outlinewidth": 0,
              "ticks": ""
             }
            },
            "type": "scatterpolargl"
           }
          ],
          "scatterternary": [
           {
            "marker": {
             "colorbar": {
              "outlinewidth": 0,
              "ticks": ""
             }
            },
            "type": "scatterternary"
           }
          ],
          "surface": [
           {
            "colorbar": {
             "outlinewidth": 0,
             "ticks": ""
            },
            "colorscale": [
             [
              0,
              "#0d0887"
             ],
             [
              0.1111111111111111,
              "#46039f"
             ],
             [
              0.2222222222222222,
              "#7201a8"
             ],
             [
              0.3333333333333333,
              "#9c179e"
             ],
             [
              0.4444444444444444,
              "#bd3786"
             ],
             [
              0.5555555555555556,
              "#d8576b"
             ],
             [
              0.6666666666666666,
              "#ed7953"
             ],
             [
              0.7777777777777778,
              "#fb9f3a"
             ],
             [
              0.8888888888888888,
              "#fdca26"
             ],
             [
              1,
              "#f0f921"
             ]
            ],
            "type": "surface"
           }
          ],
          "table": [
           {
            "cells": {
             "fill": {
              "color": "#EBF0F8"
             },
             "line": {
              "color": "white"
             }
            },
            "header": {
             "fill": {
              "color": "#C8D4E3"
             },
             "line": {
              "color": "white"
             }
            },
            "type": "table"
           }
          ]
         },
         "layout": {
          "annotationdefaults": {
           "arrowcolor": "#2a3f5f",
           "arrowhead": 0,
           "arrowwidth": 1
          },
          "autotypenumbers": "strict",
          "coloraxis": {
           "colorbar": {
            "outlinewidth": 0,
            "ticks": ""
           }
          },
          "colorscale": {
           "diverging": [
            [
             0,
             "#8e0152"
            ],
            [
             0.1,
             "#c51b7d"
            ],
            [
             0.2,
             "#de77ae"
            ],
            [
             0.3,
             "#f1b6da"
            ],
            [
             0.4,
             "#fde0ef"
            ],
            [
             0.5,
             "#f7f7f7"
            ],
            [
             0.6,
             "#e6f5d0"
            ],
            [
             0.7,
             "#b8e186"
            ],
            [
             0.8,
             "#7fbc41"
            ],
            [
             0.9,
             "#4d9221"
            ],
            [
             1,
             "#276419"
            ]
           ],
           "sequential": [
            [
             0,
             "#0d0887"
            ],
            [
             0.1111111111111111,
             "#46039f"
            ],
            [
             0.2222222222222222,
             "#7201a8"
            ],
            [
             0.3333333333333333,
             "#9c179e"
            ],
            [
             0.4444444444444444,
             "#bd3786"
            ],
            [
             0.5555555555555556,
             "#d8576b"
            ],
            [
             0.6666666666666666,
             "#ed7953"
            ],
            [
             0.7777777777777778,
             "#fb9f3a"
            ],
            [
             0.8888888888888888,
             "#fdca26"
            ],
            [
             1,
             "#f0f921"
            ]
           ],
           "sequentialminus": [
            [
             0,
             "#0d0887"
            ],
            [
             0.1111111111111111,
             "#46039f"
            ],
            [
             0.2222222222222222,
             "#7201a8"
            ],
            [
             0.3333333333333333,
             "#9c179e"
            ],
            [
             0.4444444444444444,
             "#bd3786"
            ],
            [
             0.5555555555555556,
             "#d8576b"
            ],
            [
             0.6666666666666666,
             "#ed7953"
            ],
            [
             0.7777777777777778,
             "#fb9f3a"
            ],
            [
             0.8888888888888888,
             "#fdca26"
            ],
            [
             1,
             "#f0f921"
            ]
           ]
          },
          "colorway": [
           "#636efa",
           "#EF553B",
           "#00cc96",
           "#ab63fa",
           "#FFA15A",
           "#19d3f3",
           "#FF6692",
           "#B6E880",
           "#FF97FF",
           "#FECB52"
          ],
          "font": {
           "color": "#2a3f5f"
          },
          "geo": {
           "bgcolor": "white",
           "lakecolor": "white",
           "landcolor": "#E5ECF6",
           "showlakes": true,
           "showland": true,
           "subunitcolor": "white"
          },
          "hoverlabel": {
           "align": "left"
          },
          "hovermode": "closest",
          "mapbox": {
           "style": "light"
          },
          "paper_bgcolor": "white",
          "plot_bgcolor": "#E5ECF6",
          "polar": {
           "angularaxis": {
            "gridcolor": "white",
            "linecolor": "white",
            "ticks": ""
           },
           "bgcolor": "#E5ECF6",
           "radialaxis": {
            "gridcolor": "white",
            "linecolor": "white",
            "ticks": ""
           }
          },
          "scene": {
           "xaxis": {
            "backgroundcolor": "#E5ECF6",
            "gridcolor": "white",
            "gridwidth": 2,
            "linecolor": "white",
            "showbackground": true,
            "ticks": "",
            "zerolinecolor": "white"
           },
           "yaxis": {
            "backgroundcolor": "#E5ECF6",
            "gridcolor": "white",
            "gridwidth": 2,
            "linecolor": "white",
            "showbackground": true,
            "ticks": "",
            "zerolinecolor": "white"
           },
           "zaxis": {
            "backgroundcolor": "#E5ECF6",
            "gridcolor": "white",
            "gridwidth": 2,
            "linecolor": "white",
            "showbackground": true,
            "ticks": "",
            "zerolinecolor": "white"
           }
          },
          "shapedefaults": {
           "line": {
            "color": "#2a3f5f"
           }
          },
          "ternary": {
           "aaxis": {
            "gridcolor": "white",
            "linecolor": "white",
            "ticks": ""
           },
           "baxis": {
            "gridcolor": "white",
            "linecolor": "white",
            "ticks": ""
           },
           "bgcolor": "#E5ECF6",
           "caxis": {
            "gridcolor": "white",
            "linecolor": "white",
            "ticks": ""
           }
          },
          "title": {
           "x": 0.05
          },
          "xaxis": {
           "automargin": true,
           "gridcolor": "white",
           "linecolor": "white",
           "ticks": "",
           "title": {
            "standoff": 15
           },
           "zerolinecolor": "white",
           "zerolinewidth": 2
          },
          "yaxis": {
           "automargin": true,
           "gridcolor": "white",
           "linecolor": "white",
           "ticks": "",
           "title": {
            "standoff": 15
           },
           "zerolinecolor": "white",
           "zerolinewidth": 2
          }
         }
        },
        "xaxis": {
         "anchor": "y",
         "domain": [
          0,
          1
         ],
         "title": {
          "text": "x"
         }
        },
        "yaxis": {
         "anchor": "x",
         "domain": [
          0,
          1
         ],
         "title": {
          "text": "y"
         }
        }
       }
      }
     },
     "metadata": {},
     "output_type": "display_data"
    }
   ],
   "source": [
    "# Graficar los embedddings en 2D\n",
    "import plotly.graph_objects as go\n",
    "import plotly.express as px\n",
    "\n",
    "vecs, labels = reduce_dimensions(w2v_model)\n",
    "\n",
    "MAX_WORDS=200\n",
    "fig = px.scatter(x=vecs[:MAX_WORDS,0], y=vecs[:MAX_WORDS,1], text=labels[:MAX_WORDS])\n",
    "fig.show()"
   ]
  },
  {
   "cell_type": "code",
   "execution_count": 22,
   "metadata": {},
   "outputs": [
    {
     "data": {
      "application/vnd.plotly.v1+json": {
       "config": {
        "plotlyServerURL": "https://plot.ly"
       },
       "data": [
        {
         "hovertemplate": "x=%{x}<br>y=%{y}<br>z=%{z}<br>text=%{text}<extra></extra>",
         "legendgroup": "",
         "marker": {
          "color": "#636efa",
          "size": 2,
          "symbol": "circle"
         },
         "mode": "markers+text",
         "name": "",
         "scene": "scene",
         "showlegend": false,
         "text": [
          "i",
          "the",
          "you",
          "to",
          "a",
          "and",
          "my",
          "i'm",
          "it",
          "me",
          "in",
          "that",
          "like",
          "of",
          "this",
          "but",
          "just",
          "so",
          "on",
          "is",
          "your",
          "don't",
          "up",
          "with",
          "get",
          "for",
          "be",
          "it's",
          "no",
          "all",
          "know",
          "what",
          "now",
          "out",
          "when",
          "they",
          "was",
          "not",
          "fuck",
          "ain't",
          "got",
          "at",
          "go",
          "can",
          "back",
          "if",
          "shit",
          "we",
          "he",
          "do",
          "one",
          "from",
          "'cause",
          "as",
          "never",
          "see",
          "think",
          "say",
          "his",
          "make",
          "you're",
          "off",
          "oh",
          "that's",
          "down",
          "way",
          "who",
          "her",
          "have",
          "can't",
          "take",
          "right",
          "ass",
          "bitch",
          "name",
          "or",
          "too",
          "let",
          "want",
          "love",
          "then",
          "are",
          "i'll",
          "these",
          "am",
          "time",
          "how",
          "been",
          "shady",
          "'em",
          "even",
          "why",
          "feel",
          "him",
          "yeah",
          "baby",
          "man",
          "cause",
          "come",
          "gonna",
          "still",
          "slim",
          "he's",
          "about",
          "look",
          "wanna",
          "little",
          "through",
          "some",
          "could",
          "an",
          "only",
          "did",
          "girl",
          "life",
          "over",
          "here",
          "put",
          "better",
          "give",
          "more",
          "need",
          "had",
          "there",
          "said",
          "i've",
          "she",
          "everybody",
          "stand",
          "aah",
          "by",
          "fuckin'",
          "them",
          "ever",
          "fucking",
          "tell",
          "rap",
          "again",
          "god",
          "bad",
          "crazy",
          "world",
          "will",
          "nothing",
          "before",
          "us",
          "try",
          "stop",
          "would",
          "maybe",
          "hear",
          "new",
          "where",
          "own",
          "please",
          "keep",
          "really",
          "something",
          "every",
          "made",
          "same",
          "gotta",
          "blow",
          "around",
          "day",
          "head",
          "there's",
          "into",
          "'til",
          "won't",
          "call",
          "yo",
          "mom",
          "didn't",
          "boy",
          "shot",
          "well",
          "gone",
          "white",
          "real",
          "face",
          "once",
          "night",
          "comes",
          "guess",
          "thing",
          "ya",
          "two",
          "lose",
          "shake",
          "while",
          "let's",
          "people",
          "yourself",
          "hit",
          "show",
          "ha",
          "find",
          "going",
          "goes"
         ],
         "type": "scatter3d",
         "x": [
          -13.998035430908203,
          44.984954833984375,
          -7.074690818786621,
          25.233583450317383,
          -2.8160786628723145,
          14.707209587097168,
          -0.6373870968818665,
          -10.165189743041992,
          -15.047532081604004,
          -28.681241989135742,
          29.45558738708496,
          -16.959991455078125,
          -1.3841644525527954,
          4.316818714141846,
          7.190635681152344,
          -39.133724212646484,
          -8.5330228805542,
          17.443357467651367,
          33.36445999145508,
          -5.0263543128967285,
          26.599271774291992,
          -10.059198379516602,
          22.732460021972656,
          26.756961822509766,
          6.883256912231445,
          28.393301010131836,
          12.488160133361816,
          -19.144895553588867,
          -29.582082748413086,
          5.893241882324219,
          -18.74506378173828,
          -28.711509704589844,
          -29.657012939453125,
          9.407533645629883,
          -13.837152481079102,
          -7.062623500823975,
          -24.912921905517578,
          -41.85890197753906,
          -31.529979705810547,
          -8.532929420471191,
          -0.6631798148155212,
          6.726077079772949,
          15.622550964355469,
          4.341254711151123,
          38.07902145385742,
          2.3342175483703613,
          -16.57964515686035,
          -28.857078552246094,
          5.930503845214844,
          -17.909582138061523,
          1.7147459983825684,
          30.615203857421875,
          -16.647178649902344,
          18.350343704223633,
          -4.8101420402526855,
          -20.4600887298584,
          -20.46445083618164,
          -27.273773193359375,
          12.856563568115234,
          12.287108421325684,
          -8.43326187133789,
          18.99853515625,
          -21.557212829589844,
          -40.49469757080078,
          36.78533935546875,
          -12.081823348999023,
          -18.57830047607422,
          19.550071716308594,
          7.546313762664795,
          5.967687606811523,
          10.616233825683594,
          -31.83544158935547,
          23.888269424438477,
          -6.205325603485107,
          -15.04597282409668,
          -38.13819885253906,
          -32.54775619506836,
          35.94398880004883,
          -7.1731414794921875,
          -33.29938507080078,
          -10.719212532043457,
          -13.52054214477539,
          4.403759479522705,
          -0.5751409530639648,
          -36.20652770996094,
          13.713210105895996,
          -31.20619010925293,
          -18.085233688354492,
          -14.412558555603027,
          17.037805557250977,
          -19.437393188476562,
          -31.181060791015625,
          -16.748214721679688,
          12.956931114196777,
          -29.709625244140625,
          -29.411502838134766,
          8.103734970092773,
          -5.554929256439209,
          39.009788513183594,
          10.317159652709961,
          9.763890266418457,
          -19.53926658630371,
          -41.32431411743164,
          -24.217557907104492,
          6.442864418029785,
          -5.793964862823486,
          -0.4887334704399109,
          41.88172149658203,
          -1.4743272066116333,
          -11.536664962768555,
          11.162257194519043,
          -1.8763647079467773,
          -16.880395889282227,
          -21.841259002685547,
          17.632469177246094,
          5.544166564941406,
          -33.551090240478516,
          15.050004005432129,
          27.028478622436523,
          26.514196395874023,
          3.8237462043762207,
          -3.7916669845581055,
          -3.8565468788146973,
          11.94196605682373,
          -24.09848976135254,
          -10.114023208618164,
          -0.3258375823497772,
          0.7332387566566467,
          17.762014389038086,
          -29.346878051757812,
          13.033225059509277,
          32.75692367553711,
          10.146100997924805,
          -11.387495040893555,
          38.08713150024414,
          0.7837511897087097,
          -24.220781326293945,
          29.22328758239746,
          -31.00252342224121,
          -19.682247161865234,
          -30.93281364440918,
          -15.978832244873047,
          12.95216178894043,
          -33.833744049072266,
          11.308250427246094,
          6.959435939788818,
          -2.3033151626586914,
          27.523950576782227,
          -8.999608039855957,
          4.305828094482422,
          8.857349395751953,
          -8.915151596069336,
          -30.258373260498047,
          27.09178352355957,
          -18.53913116455078,
          29.756561279296875,
          -23.311506271362305,
          -9.62300968170166,
          6.779972076416016,
          -2.870258092880249,
          32.4176139831543,
          1.2166551351547241,
          17.111019134521484,
          21.72809410095215,
          4.838119029998779,
          2.5033843517303467,
          -31.138954162597656,
          23.394041061401367,
          18.175416946411133,
          -14.943550109863281,
          -23.20957374572754,
          30.618946075439453,
          3.015298843383789,
          -7.598670959472656,
          -26.125776290893555,
          11.241562843322754,
          -35.98038101196289,
          -23.48075294494629,
          -8.963654518127441,
          -14.016839027404785,
          26.110794067382812,
          26.985572814941406,
          36.51193618774414,
          20.219467163085938,
          -25.807035446166992,
          8.033150672912598,
          18.787742614746094,
          7.452592372894287,
          23.339847564697266,
          30.761024475097656,
          -27.51340675354004,
          34.41945266723633,
          -8.991097450256348,
          27.6094970703125,
          23.040884017944336,
          18.324663162231445,
          -10.850028991699219,
          37.28828811645508,
          -30.774253845214844,
          0.6252046823501587
         ],
         "y": [
          -1.5300673246383667,
          -1.3445382118225098,
          3.0699448585510254,
          3.7579610347747803,
          15.985939979553223,
          -32.31910705566406,
          -9.799132347106934,
          28.491714477539062,
          2.3056390285491943,
          23.098018646240234,
          11.848419189453125,
          27.04966163635254,
          -35.57808303833008,
          5.65724515914917,
          -26.8110294342041,
          1.907047986984253,
          -22.1543025970459,
          16.220775604248047,
          10.558370590209961,
          -12.273621559143066,
          -21.107563018798828,
          -27.44104766845703,
          22.462648391723633,
          -6.7897210121154785,
          -38.881099700927734,
          22.685688018798828,
          -14.594367027282715,
          8.304762840270996,
          -28.015195846557617,
          -27.043519973754883,
          -13.487541198730469,
          -1.027237892150879,
          1.4127799272537231,
          -15.508119583129883,
          3.4462666511535645,
          -32.448089599609375,
          11.982401847839355,
          -4.280049800872803,
          16.597166061401367,
          -1.2956048250198364,
          -9.672219276428223,
          33.5914192199707,
          -24.8215389251709,
          -15.327615737915039,
          -7.430363655090332,
          -26.554637908935547,
          -6.046023368835449,
          -19.760324478149414,
          30.532894134521484,
          -19.011966705322266,
          -34.07527160644531,
          20.661705017089844,
          2.9665746688842773,
          0.8460848927497864,
          3.89007568359375,
          -11.296172142028809,
          -9.610217094421387,
          -4.474453926086426,
          26.995460510253906,
          -8.499408721923828,
          31.349563598632812,
          -12.820206642150879,
          26.767854690551758,
          7.279908657073975,
          1.615530014038086,
          23.179384231567383,
          -20.981056213378906,
          21.25149154663086,
          -8.868765830993652,
          -20.650991439819336,
          14.395829200744629,
          -8.899127960205078,
          27.11880111694336,
          34.87232971191406,
          -10.433980941772461,
          -8.06180477142334,
          12.806605339050293,
          -13.286020278930664,
          -14.588805198669434,
          -0.07759123295545578,
          6.681920051574707,
          -25.963668823242188,
          -15.460823059082031,
          -27.666025161743164,
          11.106663703918457,
          -33.45591354370117,
          -13.680440902709961,
          -32.6036262512207,
          1.2655150890350342,
          -14.18924331665039,
          1.901009440422058,
          -5.7451300621032715,
          -21.582111358642578,
          22.250810623168945,
          9.70669937133789,
          17.892963409423828,
          -3.3942503929138184,
          11.617218017578125,
          15.862732887268066,
          6.075492858886719,
          5.6840901374816895,
          3.231228828430176,
          -3.6188225746154785,
          -16.56157684326172,
          28.506677627563477,
          -15.843164443969727,
          20.54999351501465,
          7.376799583435059,
          -28.13902473449707,
          -35.33903503417969,
          29.93398094177246,
          -40.2874641418457,
          -14.054631233215332,
          19.761859893798828,
          -1.6034736633300781,
          39.18154525756836,
          7.0625176429748535,
          -21.703319549560547,
          -18.088825225830078,
          -6.605256080627441,
          17.52684211730957,
          21.98310661315918,
          11.030590057373047,
          21.405237197875977,
          -12.153704643249512,
          -33.445594787597656,
          32.718284606933594,
          -13.795905113220215,
          22.349960327148438,
          14.182245254516602,
          -8.648274421691895,
          23.105478286743164,
          20.34441566467285,
          -19.05222511291504,
          -21.17927360534668,
          -22.914775848388672,
          28.617918014526367,
          -8.306407928466797,
          26.52968406677246,
          18.780345916748047,
          10.79549503326416,
          24.217775344848633,
          12.912565231323242,
          5.038863182067871,
          -12.307488441467285,
          28.562273025512695,
          -10.7841215133667,
          -27.229116439819336,
          -19.771289825439453,
          -35.53483963012695,
          -29.437219619750977,
          5.9878950119018555,
          -16.550655364990234,
          -11.238266944885254,
          5.694069862365723,
          -11.862442016601562,
          -22.705602645874023,
          -23.176677703857422,
          -32.87299728393555,
          9.539958953857422,
          -2.5715322494506836,
          -8.097738265991211,
          -19.338117599487305,
          14.314347267150879,
          28.976215362548828,
          0.43478289246559143,
          -19.887399673461914,
          2.10172700881958,
          -14.91059398651123,
          5.739756107330322,
          -1.0386834144592285,
          -18.891921997070312,
          -8.515679359436035,
          -25.834110260009766,
          19.123699188232422,
          -29.233272552490234,
          14.097940444946289,
          -12.304439544677734,
          17.6656494140625,
          7.299586296081543,
          7.655148506164551,
          -23.495426177978516,
          9.764102935791016,
          -22.439456939697266,
          0.8904761672019958,
          -29.42843246459961,
          -6.924261569976807,
          5.119761943817139,
          -24.741161346435547,
          20.980159759521484,
          -9.40871810913086,
          -7.439198017120361,
          -28.82328224182129,
          -24.303157806396484,
          -0.7439291477203369,
          -12.328150749206543,
          29.728254318237305,
          -11.614520072937012,
          3.619234323501587,
          26.97711753845215
         ],
         "z": [
          -27.07534408569336,
          10.714152336120605,
          -22.73235321044922,
          -22.566287994384766,
          23.069721221923828,
          -6.279055595397949,
          32.86305618286133,
          -1.7435613870620728,
          -31.362586975097656,
          -8.457980155944824,
          20.868675231933594,
          -17.544952392578125,
          -16.44260597229004,
          32.739437103271484,
          10.705950736999512,
          -14.254834175109863,
          -22.068246841430664,
          -34.47811508178711,
          -6.27811336517334,
          29.66419792175293,
          5.795103549957275,
          -25.69591522216797,
          21.79652214050293,
          29.6700382232666,
          -4.513893127441406,
          -11.803071022033691,
          -21.02915382385254,
          -8.293842315673828,
          -7.445031642913818,
          -5.339454650878906,
          -23.075376510620117,
          -16.56744384765625,
          7.933477401733398,
          35.196136474609375,
          -22.954565048217773,
          -12.941498756408691,
          -27.725046157836914,
          -9.532176971435547,
          -19.013141632080078,
          -34.28675842285156,
          8.072436332702637,
          25.68914031982422,
          -10.0869779586792,
          -23.953136444091797,
          17.593801498413086,
          -30.701139450073242,
          18.71746063232422,
          -23.67906379699707,
          16.124141693115234,
          -29.069969177246094,
          -3.308849573135376,
          -19.869619369506836,
          -17.484615325927734,
          -39.372886657714844,
          -32.421348571777344,
          -36.66611099243164,
          -15.885756492614746,
          -26.644926071166992,
          13.995628356933594,
          -39.470462799072266,
          -11.177709579467773,
          19.57146644592285,
          15.3322114944458,
          -11.202038764953613,
          -10.61650276184082,
          -27.74760627746582,
          12.325995445251465,
          -13.099327087402344,
          -22.721778869628906,
          -28.99349021911621,
          -10.107425689697266,
          16.702716827392578,
          1.4160608053207397,
          -0.009511799551546574,
          30.04227066040039,
          -25.0159912109375,
          -10.729060173034668,
          -2.597977638244629,
          -29.424182891845703,
          24.13420867919922,
          -32.66634750366211,
          28.153850555419922,
          -34.751468658447266,
          14.021581649780273,
          -19.725139617919922,
          3.1087236404418945,
          -0.7539784908294678,
          -5.994131088256836,
          30.796228408813477,
          -36.47677230834961,
          -27.11878776550293,
          -13.617826461791992,
          -4.202241897583008,
          -11.475651741027832,
          1.6692726612091064,
          12.428009033203125,
          -25.357585906982422,
          -21.732280731201172,
          -1.849696159362793,
          -34.874168395996094,
          -20.863431930541992,
          27.60573387145996,
          6.5834455490112305,
          -3.2585628032684326,
          30.320554733276367,
          -41.65917205810547,
          28.237613677978516,
          13.911309242248535,
          -9.408958435058594,
          -24.006450653076172,
          -13.031035423278809,
          -5.936594009399414,
          -15.681795120239258,
          -3.5860595703125,
          39.638668060302734,
          10.636680603027344,
          10.109018325805664,
          -3.4696033000946045,
          -12.119453430175781,
          -23.21936798095703,
          -29.62126350402832,
          -26.516578674316406,
          -29.888696670532227,
          -26.500377655029297,
          -20.140695571899414,
          -5.298117160797119,
          -23.431884765625,
          -45.62589645385742,
          -22.164897918701172,
          9.798836708068848,
          23.402677536010742,
          6.055983543395996,
          -17.10182762145996,
          -16.214502334594727,
          0.4916514456272125,
          -20.077774047851562,
          0.6311773657798767,
          -14.580917358398438,
          4.632701396942139,
          -18.50168800354004,
          -4.030879497528076,
          29.378202438354492,
          -31.853471755981445,
          -11.977577209472656,
          -27.641326904296875,
          -21.38181495666504,
          -27.409805297851562,
          3.5091280937194824,
          -33.15825653076172,
          -9.402620315551758,
          -12.632512092590332,
          17.44794464111328,
          -14.134779930114746,
          -29.633930206298828,
          33.715267181396484,
          -6.8000407218933105,
          6.043221473693848,
          -9.611491203308105,
          5.226961612701416,
          -11.487257957458496,
          -17.85581398010254,
          -23.56557273864746,
          -18.730361938476562,
          0.6782302260398865,
          -4.901706695556641,
          19.603328704833984,
          -5.628493309020996,
          9.46949291229248,
          29.334781646728516,
          -37.07152557373047,
          -32.33039855957031,
          -2.9136288166046143,
          39.94518280029297,
          -28.990947723388672,
          1.1628305912017822,
          20.997169494628906,
          -3.5868237018585205,
          11.472771644592285,
          35.02959442138672,
          28.84848403930664,
          0.08042961359024048,
          20.46497344970703,
          22.118995666503906,
          24.973840713500977,
          -22.18311309814453,
          -23.42129135131836,
          -33.03693771362305,
          25.162851333618164,
          -12.977005958557129,
          -3.8475961685180664,
          3.5045440196990967,
          -1.2137084007263184,
          14.061464309692383,
          -9.165144920349121,
          -15.207502365112305,
          -28.887937545776367,
          7.80889892578125,
          -13.030023574829102,
          -28.466245651245117,
          9.971015930175781
         ]
        }
       ],
       "layout": {
        "legend": {
         "tracegroupgap": 0
        },
        "margin": {
         "t": 60
        },
        "scene": {
         "domain": {
          "x": [
           0,
           1
          ],
          "y": [
           0,
           1
          ]
         },
         "xaxis": {
          "title": {
           "text": "x"
          }
         },
         "yaxis": {
          "title": {
           "text": "y"
          }
         },
         "zaxis": {
          "title": {
           "text": "z"
          }
         }
        },
        "template": {
         "data": {
          "bar": [
           {
            "error_x": {
             "color": "#2a3f5f"
            },
            "error_y": {
             "color": "#2a3f5f"
            },
            "marker": {
             "line": {
              "color": "#E5ECF6",
              "width": 0.5
             },
             "pattern": {
              "fillmode": "overlay",
              "size": 10,
              "solidity": 0.2
             }
            },
            "type": "bar"
           }
          ],
          "barpolar": [
           {
            "marker": {
             "line": {
              "color": "#E5ECF6",
              "width": 0.5
             },
             "pattern": {
              "fillmode": "overlay",
              "size": 10,
              "solidity": 0.2
             }
            },
            "type": "barpolar"
           }
          ],
          "carpet": [
           {
            "aaxis": {
             "endlinecolor": "#2a3f5f",
             "gridcolor": "white",
             "linecolor": "white",
             "minorgridcolor": "white",
             "startlinecolor": "#2a3f5f"
            },
            "baxis": {
             "endlinecolor": "#2a3f5f",
             "gridcolor": "white",
             "linecolor": "white",
             "minorgridcolor": "white",
             "startlinecolor": "#2a3f5f"
            },
            "type": "carpet"
           }
          ],
          "choropleth": [
           {
            "colorbar": {
             "outlinewidth": 0,
             "ticks": ""
            },
            "type": "choropleth"
           }
          ],
          "contour": [
           {
            "colorbar": {
             "outlinewidth": 0,
             "ticks": ""
            },
            "colorscale": [
             [
              0,
              "#0d0887"
             ],
             [
              0.1111111111111111,
              "#46039f"
             ],
             [
              0.2222222222222222,
              "#7201a8"
             ],
             [
              0.3333333333333333,
              "#9c179e"
             ],
             [
              0.4444444444444444,
              "#bd3786"
             ],
             [
              0.5555555555555556,
              "#d8576b"
             ],
             [
              0.6666666666666666,
              "#ed7953"
             ],
             [
              0.7777777777777778,
              "#fb9f3a"
             ],
             [
              0.8888888888888888,
              "#fdca26"
             ],
             [
              1,
              "#f0f921"
             ]
            ],
            "type": "contour"
           }
          ],
          "contourcarpet": [
           {
            "colorbar": {
             "outlinewidth": 0,
             "ticks": ""
            },
            "type": "contourcarpet"
           }
          ],
          "heatmap": [
           {
            "colorbar": {
             "outlinewidth": 0,
             "ticks": ""
            },
            "colorscale": [
             [
              0,
              "#0d0887"
             ],
             [
              0.1111111111111111,
              "#46039f"
             ],
             [
              0.2222222222222222,
              "#7201a8"
             ],
             [
              0.3333333333333333,
              "#9c179e"
             ],
             [
              0.4444444444444444,
              "#bd3786"
             ],
             [
              0.5555555555555556,
              "#d8576b"
             ],
             [
              0.6666666666666666,
              "#ed7953"
             ],
             [
              0.7777777777777778,
              "#fb9f3a"
             ],
             [
              0.8888888888888888,
              "#fdca26"
             ],
             [
              1,
              "#f0f921"
             ]
            ],
            "type": "heatmap"
           }
          ],
          "heatmapgl": [
           {
            "colorbar": {
             "outlinewidth": 0,
             "ticks": ""
            },
            "colorscale": [
             [
              0,
              "#0d0887"
             ],
             [
              0.1111111111111111,
              "#46039f"
             ],
             [
              0.2222222222222222,
              "#7201a8"
             ],
             [
              0.3333333333333333,
              "#9c179e"
             ],
             [
              0.4444444444444444,
              "#bd3786"
             ],
             [
              0.5555555555555556,
              "#d8576b"
             ],
             [
              0.6666666666666666,
              "#ed7953"
             ],
             [
              0.7777777777777778,
              "#fb9f3a"
             ],
             [
              0.8888888888888888,
              "#fdca26"
             ],
             [
              1,
              "#f0f921"
             ]
            ],
            "type": "heatmapgl"
           }
          ],
          "histogram": [
           {
            "marker": {
             "pattern": {
              "fillmode": "overlay",
              "size": 10,
              "solidity": 0.2
             }
            },
            "type": "histogram"
           }
          ],
          "histogram2d": [
           {
            "colorbar": {
             "outlinewidth": 0,
             "ticks": ""
            },
            "colorscale": [
             [
              0,
              "#0d0887"
             ],
             [
              0.1111111111111111,
              "#46039f"
             ],
             [
              0.2222222222222222,
              "#7201a8"
             ],
             [
              0.3333333333333333,
              "#9c179e"
             ],
             [
              0.4444444444444444,
              "#bd3786"
             ],
             [
              0.5555555555555556,
              "#d8576b"
             ],
             [
              0.6666666666666666,
              "#ed7953"
             ],
             [
              0.7777777777777778,
              "#fb9f3a"
             ],
             [
              0.8888888888888888,
              "#fdca26"
             ],
             [
              1,
              "#f0f921"
             ]
            ],
            "type": "histogram2d"
           }
          ],
          "histogram2dcontour": [
           {
            "colorbar": {
             "outlinewidth": 0,
             "ticks": ""
            },
            "colorscale": [
             [
              0,
              "#0d0887"
             ],
             [
              0.1111111111111111,
              "#46039f"
             ],
             [
              0.2222222222222222,
              "#7201a8"
             ],
             [
              0.3333333333333333,
              "#9c179e"
             ],
             [
              0.4444444444444444,
              "#bd3786"
             ],
             [
              0.5555555555555556,
              "#d8576b"
             ],
             [
              0.6666666666666666,
              "#ed7953"
             ],
             [
              0.7777777777777778,
              "#fb9f3a"
             ],
             [
              0.8888888888888888,
              "#fdca26"
             ],
             [
              1,
              "#f0f921"
             ]
            ],
            "type": "histogram2dcontour"
           }
          ],
          "mesh3d": [
           {
            "colorbar": {
             "outlinewidth": 0,
             "ticks": ""
            },
            "type": "mesh3d"
           }
          ],
          "parcoords": [
           {
            "line": {
             "colorbar": {
              "outlinewidth": 0,
              "ticks": ""
             }
            },
            "type": "parcoords"
           }
          ],
          "pie": [
           {
            "automargin": true,
            "type": "pie"
           }
          ],
          "scatter": [
           {
            "fillpattern": {
             "fillmode": "overlay",
             "size": 10,
             "solidity": 0.2
            },
            "type": "scatter"
           }
          ],
          "scatter3d": [
           {
            "line": {
             "colorbar": {
              "outlinewidth": 0,
              "ticks": ""
             }
            },
            "marker": {
             "colorbar": {
              "outlinewidth": 0,
              "ticks": ""
             }
            },
            "type": "scatter3d"
           }
          ],
          "scattercarpet": [
           {
            "marker": {
             "colorbar": {
              "outlinewidth": 0,
              "ticks": ""
             }
            },
            "type": "scattercarpet"
           }
          ],
          "scattergeo": [
           {
            "marker": {
             "colorbar": {
              "outlinewidth": 0,
              "ticks": ""
             }
            },
            "type": "scattergeo"
           }
          ],
          "scattergl": [
           {
            "marker": {
             "colorbar": {
              "outlinewidth": 0,
              "ticks": ""
             }
            },
            "type": "scattergl"
           }
          ],
          "scattermapbox": [
           {
            "marker": {
             "colorbar": {
              "outlinewidth": 0,
              "ticks": ""
             }
            },
            "type": "scattermapbox"
           }
          ],
          "scatterpolar": [
           {
            "marker": {
             "colorbar": {
              "outlinewidth": 0,
              "ticks": ""
             }
            },
            "type": "scatterpolar"
           }
          ],
          "scatterpolargl": [
           {
            "marker": {
             "colorbar": {
              "outlinewidth": 0,
              "ticks": ""
             }
            },
            "type": "scatterpolargl"
           }
          ],
          "scatterternary": [
           {
            "marker": {
             "colorbar": {
              "outlinewidth": 0,
              "ticks": ""
             }
            },
            "type": "scatterternary"
           }
          ],
          "surface": [
           {
            "colorbar": {
             "outlinewidth": 0,
             "ticks": ""
            },
            "colorscale": [
             [
              0,
              "#0d0887"
             ],
             [
              0.1111111111111111,
              "#46039f"
             ],
             [
              0.2222222222222222,
              "#7201a8"
             ],
             [
              0.3333333333333333,
              "#9c179e"
             ],
             [
              0.4444444444444444,
              "#bd3786"
             ],
             [
              0.5555555555555556,
              "#d8576b"
             ],
             [
              0.6666666666666666,
              "#ed7953"
             ],
             [
              0.7777777777777778,
              "#fb9f3a"
             ],
             [
              0.8888888888888888,
              "#fdca26"
             ],
             [
              1,
              "#f0f921"
             ]
            ],
            "type": "surface"
           }
          ],
          "table": [
           {
            "cells": {
             "fill": {
              "color": "#EBF0F8"
             },
             "line": {
              "color": "white"
             }
            },
            "header": {
             "fill": {
              "color": "#C8D4E3"
             },
             "line": {
              "color": "white"
             }
            },
            "type": "table"
           }
          ]
         },
         "layout": {
          "annotationdefaults": {
           "arrowcolor": "#2a3f5f",
           "arrowhead": 0,
           "arrowwidth": 1
          },
          "autotypenumbers": "strict",
          "coloraxis": {
           "colorbar": {
            "outlinewidth": 0,
            "ticks": ""
           }
          },
          "colorscale": {
           "diverging": [
            [
             0,
             "#8e0152"
            ],
            [
             0.1,
             "#c51b7d"
            ],
            [
             0.2,
             "#de77ae"
            ],
            [
             0.3,
             "#f1b6da"
            ],
            [
             0.4,
             "#fde0ef"
            ],
            [
             0.5,
             "#f7f7f7"
            ],
            [
             0.6,
             "#e6f5d0"
            ],
            [
             0.7,
             "#b8e186"
            ],
            [
             0.8,
             "#7fbc41"
            ],
            [
             0.9,
             "#4d9221"
            ],
            [
             1,
             "#276419"
            ]
           ],
           "sequential": [
            [
             0,
             "#0d0887"
            ],
            [
             0.1111111111111111,
             "#46039f"
            ],
            [
             0.2222222222222222,
             "#7201a8"
            ],
            [
             0.3333333333333333,
             "#9c179e"
            ],
            [
             0.4444444444444444,
             "#bd3786"
            ],
            [
             0.5555555555555556,
             "#d8576b"
            ],
            [
             0.6666666666666666,
             "#ed7953"
            ],
            [
             0.7777777777777778,
             "#fb9f3a"
            ],
            [
             0.8888888888888888,
             "#fdca26"
            ],
            [
             1,
             "#f0f921"
            ]
           ],
           "sequentialminus": [
            [
             0,
             "#0d0887"
            ],
            [
             0.1111111111111111,
             "#46039f"
            ],
            [
             0.2222222222222222,
             "#7201a8"
            ],
            [
             0.3333333333333333,
             "#9c179e"
            ],
            [
             0.4444444444444444,
             "#bd3786"
            ],
            [
             0.5555555555555556,
             "#d8576b"
            ],
            [
             0.6666666666666666,
             "#ed7953"
            ],
            [
             0.7777777777777778,
             "#fb9f3a"
            ],
            [
             0.8888888888888888,
             "#fdca26"
            ],
            [
             1,
             "#f0f921"
            ]
           ]
          },
          "colorway": [
           "#636efa",
           "#EF553B",
           "#00cc96",
           "#ab63fa",
           "#FFA15A",
           "#19d3f3",
           "#FF6692",
           "#B6E880",
           "#FF97FF",
           "#FECB52"
          ],
          "font": {
           "color": "#2a3f5f"
          },
          "geo": {
           "bgcolor": "white",
           "lakecolor": "white",
           "landcolor": "#E5ECF6",
           "showlakes": true,
           "showland": true,
           "subunitcolor": "white"
          },
          "hoverlabel": {
           "align": "left"
          },
          "hovermode": "closest",
          "mapbox": {
           "style": "light"
          },
          "paper_bgcolor": "white",
          "plot_bgcolor": "#E5ECF6",
          "polar": {
           "angularaxis": {
            "gridcolor": "white",
            "linecolor": "white",
            "ticks": ""
           },
           "bgcolor": "#E5ECF6",
           "radialaxis": {
            "gridcolor": "white",
            "linecolor": "white",
            "ticks": ""
           }
          },
          "scene": {
           "xaxis": {
            "backgroundcolor": "#E5ECF6",
            "gridcolor": "white",
            "gridwidth": 2,
            "linecolor": "white",
            "showbackground": true,
            "ticks": "",
            "zerolinecolor": "white"
           },
           "yaxis": {
            "backgroundcolor": "#E5ECF6",
            "gridcolor": "white",
            "gridwidth": 2,
            "linecolor": "white",
            "showbackground": true,
            "ticks": "",
            "zerolinecolor": "white"
           },
           "zaxis": {
            "backgroundcolor": "#E5ECF6",
            "gridcolor": "white",
            "gridwidth": 2,
            "linecolor": "white",
            "showbackground": true,
            "ticks": "",
            "zerolinecolor": "white"
           }
          },
          "shapedefaults": {
           "line": {
            "color": "#2a3f5f"
           }
          },
          "ternary": {
           "aaxis": {
            "gridcolor": "white",
            "linecolor": "white",
            "ticks": ""
           },
           "baxis": {
            "gridcolor": "white",
            "linecolor": "white",
            "ticks": ""
           },
           "bgcolor": "#E5ECF6",
           "caxis": {
            "gridcolor": "white",
            "linecolor": "white",
            "ticks": ""
           }
          },
          "title": {
           "x": 0.05
          },
          "xaxis": {
           "automargin": true,
           "gridcolor": "white",
           "linecolor": "white",
           "ticks": "",
           "title": {
            "standoff": 15
           },
           "zerolinecolor": "white",
           "zerolinewidth": 2
          },
          "yaxis": {
           "automargin": true,
           "gridcolor": "white",
           "linecolor": "white",
           "ticks": "",
           "title": {
            "standoff": 15
           },
           "zerolinecolor": "white",
           "zerolinewidth": 2
          }
         }
        }
       }
      }
     },
     "metadata": {},
     "output_type": "display_data"
    }
   ],
   "source": [
    "# Graficar los embedddings en 3D\n",
    "\n",
    "vecs, labels = reduce_dimensions(w2v_model,3)\n",
    "\n",
    "fig = px.scatter_3d(x=vecs[:MAX_WORDS,0], y=vecs[:MAX_WORDS,1], z=vecs[:MAX_WORDS,2],text=labels[:MAX_WORDS])\n",
    "fig.update_traces(marker_size = 2)\n",
    "fig.show()"
   ]
  },
  {
   "cell_type": "code",
   "execution_count": 23,
   "metadata": {},
   "outputs": [],
   "source": [
    "# También se pueden guardar los vectores y labels como tsv para graficar en\n",
    "# http://projector.tensorflow.org/\n",
    "\n",
    "\n",
    "vectors = np.asarray(w2v_model.wv.vectors)\n",
    "labels = list(w2v_model.wv.index_to_key)\n",
    "\n",
    "np.savetxt(\"vectors.tsv\", vectors, delimiter=\"\\t\")\n",
    "\n",
    "with open(\"labels.tsv\", \"w\") as fp:\n",
    "    for item in labels:\n",
    "        fp.write(\"%s\\n\" % item)"
   ]
  },
  {
   "cell_type": "markdown",
   "metadata": {
    "id": "yMM_SHSaZ9N-"
   },
   "source": [
    "### Alumno"
   ]
  },
  {
   "cell_type": "markdown",
   "metadata": {
    "id": "WivQZ3ZCZ9N_"
   },
   "source": [
    "- Crear sus propios vectores con Gensim basado en lo visto en clase con otro dataset.\n",
    "- Probar términos de interés y explicar similitudes en el espacio de embeddings (sacar conclusiones entre palabras similitudes y diferencias).\n",
    "- Graficarlos.\n",
    "- Obtener conclusiones."
   ]
  }
 ],
 "metadata": {
  "colab": {
   "collapsed_sections": [],
   "provenance": []
  },
  "kernelspec": {
   "display_name": "Python 3 (ipykernel)",
   "language": "python",
   "name": "python3"
  },
  "language_info": {
   "codemirror_mode": {
    "name": "ipython",
    "version": 3
   },
   "file_extension": ".py",
   "mimetype": "text/x-python",
   "name": "python",
   "nbconvert_exporter": "python",
   "pygments_lexer": "ipython3",
   "version": "3.11.5"
  }
 },
 "nbformat": 4,
 "nbformat_minor": 4
}
