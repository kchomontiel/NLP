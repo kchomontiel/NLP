{
 "cells": [
  {
   "cell_type": "markdown",
   "metadata": {
    "id": "sZd5yLnnHOK0"
   },
   "source": [
    "<img src=\"https://github.com/hernancontigiani/ceia_memorias_especializacion/raw/master/Figures/logoFIUBA.jpg\" width=\"500\" align=\"center\">\n",
    "\n",
    "\n",
    "# Procesamiento de lenguaje natural\n",
    "## Custom embedddings con Gensim\n",
    "\n"
   ]
  },
  {
   "cell_type": "markdown",
   "metadata": {
    "id": "vA7nqkumo9z9"
   },
   "source": [
    "### Objetivo\n",
    "El objetivo es utilizar documentos / corpus para crear embeddings de palabras basado en ese contexto. Se utilizará canciones de bandas para generar los embeddings, es decir, que los vectores tendrán la forma en función de como esa banda haya utilizado las palabras en sus canciones."
   ]
  },
  {
   "cell_type": "code",
   "execution_count": 28,
   "metadata": {
    "id": "lFToQs5FK5uZ"
   },
   "outputs": [],
   "source": [
    "import pandas as pd\n",
    "import matplotlib.pyplot as plt\n",
    "import seaborn as sns\n",
    "\n",
    "import multiprocessing\n",
    "from gensim.models import Word2Vec"
   ]
  },
  {
   "cell_type": "markdown",
   "metadata": {
    "id": "g07zJxG7H9vG"
   },
   "source": [
    "### Datos\n",
    "Utilizaremos como dataset canciones de bandas de habla inglesa."
   ]
  },
  {
   "cell_type": "code",
   "execution_count": 29,
   "metadata": {
    "id": "l7z4CSBfpR3X"
   },
   "outputs": [
    {
     "name": "stdout",
     "output_type": "stream",
     "text": [
      "El dataset ya se encuentra descargado\n"
     ]
    }
   ],
   "source": [
    "# Descargar la carpeta de dataset\n",
    "import os\n",
    "import platform\n",
    "if os.access('./songs_dataset', os.F_OK) is False:\n",
    "    if os.access('songs_dataset.zip', os.F_OK) is False:\n",
    "        if platform.system() == 'Darwin':\n",
    "            !curl https://raw.githubusercontent.com/FIUBA-Posgrado-Inteligencia-Artificial/procesamiento_lenguaje_natural/main/datasets/songs_dataset.zip -o songs_dataset.zip\n",
    "        else:\n",
    "            !wget songs_dataset.zip https://github.com/FIUBA-Posgrado-Inteligencia-Artificial/procesamiento_lenguaje_natural/raw/main/datasets/songs_dataset.zip\n",
    "    !unzip -q songs_dataset.zip   \n",
    "else:\n",
    "    print(\"El dataset ya se encuentra descargado\")"
   ]
  },
  {
   "cell_type": "code",
   "execution_count": 30,
   "metadata": {
    "id": "mysGrIw9ljC2"
   },
   "outputs": [
    {
     "data": {
      "text/plain": [
       "['prince.txt',\n",
       " 'dickinson.txt',\n",
       " 'notorious-big.txt',\n",
       " 'beatles.txt',\n",
       " 'bob-dylan.txt',\n",
       " 'bjork.txt',\n",
       " 'johnny-cash.txt',\n",
       " 'disney.txt',\n",
       " 'janisjoplin.txt',\n",
       " 'kanye.txt',\n",
       " 'bob-marley.txt',\n",
       " 'leonard-cohen.txt',\n",
       " 'ludacris.txt',\n",
       " 'adele.txt',\n",
       " 'alicia-keys.txt',\n",
       " 'joni-mitchell.txt',\n",
       " 'amy-winehouse.txt',\n",
       " 'lorde.txt',\n",
       " 'rihanna.txt',\n",
       " 'Kanye_West.txt',\n",
       " 'nirvana.txt',\n",
       " 'cake.txt',\n",
       " 'bieber.txt',\n",
       " 'notorious_big.txt',\n",
       " 'missy-elliott.txt',\n",
       " 'dolly-parton.txt',\n",
       " 'jimi-hendrix.txt',\n",
       " 'michael-jackson.txt',\n",
       " 'al-green.txt',\n",
       " 'lil-wayne.txt',\n",
       " 'lady-gaga.txt',\n",
       " 'lin-manuel-miranda.txt',\n",
       " 'nursery_rhymes.txt',\n",
       " 'dj-khaled.txt',\n",
       " 'radiohead.txt',\n",
       " 'patti-smith.txt',\n",
       " 'blink-182.txt',\n",
       " 'Lil_Wayne.txt',\n",
       " 'dr-seuss.txt',\n",
       " 'r-kelly.txt',\n",
       " 'drake.txt',\n",
       " 'britney-spears.txt',\n",
       " 'bruce-springsteen.txt',\n",
       " 'nicki-minaj.txt',\n",
       " 'kanye-west.txt',\n",
       " 'paul-simon.txt',\n",
       " 'nickelback.txt',\n",
       " 'eminem.txt',\n",
       " 'bruno-mars.txt']"
      ]
     },
     "execution_count": 30,
     "metadata": {},
     "output_type": "execute_result"
    }
   ],
   "source": [
    "# Posibles bandas\n",
    "os.listdir(\"./songs_dataset/\")"
   ]
  },
  {
   "cell_type": "code",
   "execution_count": 31,
   "metadata": {
    "id": "ticoqYD1Z3I7"
   },
   "outputs": [
    {
     "name": "stderr",
     "output_type": "stream",
     "text": [
      "/var/folders/k9/vb534jt106d2plphjzl86xcw0000gn/T/ipykernel_26436/3634877419.py:2: ParserWarning:\n",
      "\n",
      "Falling back to the 'python' engine because the 'c' engine does not support regex separators (separators > 1 char and different from '\\s+' are interpreted as regex); you can avoid this warning by specifying engine='python'.\n",
      "\n"
     ]
    },
    {
     "data": {
      "text/html": [
       "<div>\n",
       "<style scoped>\n",
       "    .dataframe tbody tr th:only-of-type {\n",
       "        vertical-align: middle;\n",
       "    }\n",
       "\n",
       "    .dataframe tbody tr th {\n",
       "        vertical-align: top;\n",
       "    }\n",
       "\n",
       "    .dataframe thead th {\n",
       "        text-align: right;\n",
       "    }\n",
       "</style>\n",
       "<table border=\"1\" class=\"dataframe\">\n",
       "  <thead>\n",
       "    <tr style=\"text-align: right;\">\n",
       "      <th></th>\n",
       "      <th>0</th>\n",
       "    </tr>\n",
       "  </thead>\n",
       "  <tbody>\n",
       "    <tr>\n",
       "      <th>0</th>\n",
       "      <td>Look, I was gonna go easy on you and not to hu...</td>\n",
       "    </tr>\n",
       "    <tr>\n",
       "      <th>1</th>\n",
       "      <td>But I'm only going to get this one chance</td>\n",
       "    </tr>\n",
       "    <tr>\n",
       "      <th>2</th>\n",
       "      <td>Something's wrong, I can feel it (Six minutes,...</td>\n",
       "    </tr>\n",
       "    <tr>\n",
       "      <th>3</th>\n",
       "      <td>Just a feeling I've got, like something's abou...</td>\n",
       "    </tr>\n",
       "    <tr>\n",
       "      <th>4</th>\n",
       "      <td>If that means, what I think it means, we're in...</td>\n",
       "    </tr>\n",
       "  </tbody>\n",
       "</table>\n",
       "</div>"
      ],
      "text/plain": [
       "                                                   0\n",
       "0  Look, I was gonna go easy on you and not to hu...\n",
       "1          But I'm only going to get this one chance\n",
       "2  Something's wrong, I can feel it (Six minutes,...\n",
       "3  Just a feeling I've got, like something's abou...\n",
       "4  If that means, what I think it means, we're in..."
      ]
     },
     "execution_count": 31,
     "metadata": {},
     "output_type": "execute_result"
    }
   ],
   "source": [
    "# Armar el dataset utilizando salto de línea para separar las oraciones/docs\n",
    "df = pd.read_csv('songs_dataset/eminem.txt', sep='/n', header=None)\n",
    "df.head()"
   ]
  },
  {
   "cell_type": "code",
   "execution_count": 32,
   "metadata": {
    "id": "LEpKubK9XzXN"
   },
   "outputs": [
    {
     "name": "stdout",
     "output_type": "stream",
     "text": [
      "Cantidad de documentos: 6812\n"
     ]
    }
   ],
   "source": [
    "print(\"Cantidad de documentos:\", df.shape[0])"
   ]
  },
  {
   "cell_type": "markdown",
   "metadata": {
    "id": "ab94qaFlrA1G"
   },
   "source": [
    "### 1 - Preprocesamiento"
   ]
  },
  {
   "cell_type": "code",
   "execution_count": 33,
   "metadata": {
    "id": "rIsmMWmjrDHd"
   },
   "outputs": [],
   "source": [
    "from keras.preprocessing.text import text_to_word_sequence\n",
    "\n",
    "sentence_tokens = []\n",
    "# Recorrer todas las filas y transformar las oraciones\n",
    "# en una secuencia de palabras (esto podría realizarse con NLTK o spaCy también)\n",
    "for _, row in df[:None].iterrows():\n",
    "    sentence_tokens.append(text_to_word_sequence(row[0]))"
   ]
  },
  {
   "cell_type": "code",
   "execution_count": 34,
   "metadata": {
    "id": "CHepi_DGrbhq"
   },
   "outputs": [
    {
     "data": {
      "text/plain": [
       "[['look',\n",
       "  'i',\n",
       "  'was',\n",
       "  'gonna',\n",
       "  'go',\n",
       "  'easy',\n",
       "  'on',\n",
       "  'you',\n",
       "  'and',\n",
       "  'not',\n",
       "  'to',\n",
       "  'hurt',\n",
       "  'your',\n",
       "  'feelings'],\n",
       " ['but', \"i'm\", 'only', 'going', 'to', 'get', 'this', 'one', 'chance']]"
      ]
     },
     "execution_count": 34,
     "metadata": {},
     "output_type": "execute_result"
    }
   ],
   "source": [
    "# Demos un vistazo\n",
    "sentence_tokens[:2]"
   ]
  },
  {
   "cell_type": "markdown",
   "metadata": {
    "id": "BaXV6nlHr5Aa"
   },
   "source": [
    "### 2 - Crear los vectores (word2vec)"
   ]
  },
  {
   "cell_type": "code",
   "execution_count": 35,
   "metadata": {
    "id": "OSb0v7h8r7hK"
   },
   "outputs": [],
   "source": [
    "from gensim.models.callbacks import CallbackAny2Vec\n",
    "# Durante el entrenamiento gensim por defecto no informa el \"loss\" en cada época\n",
    "# Sobrecargamos el callback para poder tener esta información\n",
    "class callback(CallbackAny2Vec):\n",
    "    \"\"\"\n",
    "    Callback to print loss after each epoch\n",
    "    \"\"\"\n",
    "    def __init__(self):\n",
    "        self.epoch = 0\n",
    "\n",
    "    def on_epoch_end(self, model):\n",
    "        loss = model.get_latest_training_loss()\n",
    "        if self.epoch == 0:\n",
    "            print('Loss after epoch {}: {}'.format(self.epoch, loss))\n",
    "        else:\n",
    "            print('Loss after epoch {}: {}'.format(self.epoch, loss- self.loss_previous_step))\n",
    "        self.epoch += 1\n",
    "        self.loss_previous_step = loss"
   ]
  },
  {
   "cell_type": "code",
   "execution_count": 36,
   "metadata": {
    "id": "i0wnDdv9sJ47"
   },
   "outputs": [],
   "source": [
    "# Crearmos el modelo generador de vectores\n",
    "# En este caso utilizaremos la estructura modelo Skipgram\n",
    "w2v_model = Word2Vec(min_count=5,    # frecuencia mínima de palabra para incluirla en el vocabulario\n",
    "                     window=2,       # cant de palabras antes y desp de la predicha\n",
    "                     vector_size=300,       # dimensionalidad de los vectores \n",
    "                     negative=20,    # cantidad de negative samples... 0 es no se usa\n",
    "                     workers=4,      # si tienen más cores pueden cambiar este valor\n",
    "                     sg=1)           # modelo 0:CBOW  1:skipgram"
   ]
  },
  {
   "cell_type": "code",
   "execution_count": 37,
   "metadata": {
    "id": "5lTt8wErsf17"
   },
   "outputs": [],
   "source": [
    "# Obtener el vocabulario con los tokens\n",
    "w2v_model.build_vocab(sentence_tokens)"
   ]
  },
  {
   "cell_type": "code",
   "execution_count": 38,
   "metadata": {
    "id": "TNc9qt4os5AT"
   },
   "outputs": [
    {
     "name": "stdout",
     "output_type": "stream",
     "text": [
      "Cantidad de docs en el corpus: 6812\n"
     ]
    }
   ],
   "source": [
    "# Cantidad de filas/docs encontradas en el corpus\n",
    "print(\"Cantidad de docs en el corpus:\", w2v_model.corpus_count)"
   ]
  },
  {
   "cell_type": "code",
   "execution_count": 39,
   "metadata": {
    "id": "idw9cHF3tSMl"
   },
   "outputs": [
    {
     "name": "stdout",
     "output_type": "stream",
     "text": [
      "Cantidad de words distintas en el corpus: 1347\n"
     ]
    }
   ],
   "source": [
    "# Cantidad de words encontradas en el corpus\n",
    "print(\"Cantidad de words distintas en el corpus:\", len(w2v_model.wv.index_to_key))"
   ]
  },
  {
   "cell_type": "markdown",
   "metadata": {
    "id": "fC9mZ8DPk-UC"
   },
   "source": [
    "### 3 - Entrenar embeddings"
   ]
  },
  {
   "cell_type": "code",
   "execution_count": 40,
   "metadata": {
    "id": "QSp-x0PAsq56"
   },
   "outputs": [
    {
     "name": "stdout",
     "output_type": "stream",
     "text": [
      "Loss after epoch 0: 153601.265625\n",
      "Loss after epoch 1: 110694.796875\n",
      "Loss after epoch 2: 110327.625\n",
      "Loss after epoch 3: 111146.5\n",
      "Loss after epoch 4: 108832.4375\n",
      "Loss after epoch 5: 108822.5625\n",
      "Loss after epoch 6: 104264.3125\n",
      "Loss after epoch 7: 99165.8125\n",
      "Loss after epoch 8: 99017.375\n",
      "Loss after epoch 9: 92187.0625\n",
      "Loss after epoch 10: 85758.625\n",
      "Loss after epoch 11: 85379.625\n",
      "Loss after epoch 12: 87024.25\n",
      "Loss after epoch 13: 84762.875\n",
      "Loss after epoch 14: 83528.375\n",
      "Loss after epoch 15: 79953.125\n",
      "Loss after epoch 16: 84847.75\n",
      "Loss after epoch 17: 81179.0\n",
      "Loss after epoch 18: 82852.375\n",
      "Loss after epoch 19: 82153.0\n"
     ]
    },
    {
     "data": {
      "text/plain": [
       "(785504, 1296760)"
      ]
     },
     "execution_count": 40,
     "metadata": {},
     "output_type": "execute_result"
    }
   ],
   "source": [
    "# Entrenamos el modelo generador de vectores\n",
    "# Utilizamos nuestro callback\n",
    "w2v_model.train(sentence_tokens,\n",
    "                 total_examples=w2v_model.corpus_count,\n",
    "                 epochs=20,\n",
    "                 compute_loss = True,\n",
    "                 callbacks=[callback()]\n",
    "                 )"
   ]
  },
  {
   "cell_type": "markdown",
   "metadata": {
    "id": "ddT9NVuNlCAe"
   },
   "source": [
    "### 4 - Ensayar"
   ]
  },
  {
   "cell_type": "code",
   "execution_count": 41,
   "metadata": {
    "id": "6cHN9xGLuPEm"
   },
   "outputs": [
    {
     "data": {
      "text/plain": [
       "[('food', 0.79974764585495),\n",
       " ('stamps', 0.7679835557937622),\n",
       " ('damn', 0.7394956350326538),\n",
       " ('ooh', 0.7273403406143188),\n",
       " ('swear', 0.7255299091339111),\n",
       " ('yea', 0.7025995850563049),\n",
       " ('thank', 0.6947539448738098),\n",
       " ('acid', 0.6889259815216064),\n",
       " ('ah', 0.6799051761627197),\n",
       " ('doc', 0.6674500107765198)]"
      ]
     },
     "execution_count": 41,
     "metadata": {},
     "output_type": "execute_result"
    }
   ],
   "source": [
    "# Palabras que MÁS se relacionan con...:\n",
    "w2v_model.wv.most_similar(positive=[\"god\"], topn=10)"
   ]
  },
  {
   "cell_type": "code",
   "execution_count": 42,
   "metadata": {
    "id": "47HiU5gdkdMq"
   },
   "outputs": [
    {
     "data": {
      "text/plain": [
       "[('my', -0.21762771904468536),\n",
       " ('there', -0.22507089376449585),\n",
       " ('he', -0.23031049966812134),\n",
       " ('please', -0.23288622498512268),\n",
       " ('these', -0.23990227282047272),\n",
       " (\"can't\", -0.24519146978855133),\n",
       " ('her', -0.24610267579555511),\n",
       " (\"won't\", -0.25203749537467957),\n",
       " ('here', -0.25444096326828003),\n",
       " ('will', -0.25548532605171204)]"
      ]
     },
     "execution_count": 42,
     "metadata": {},
     "output_type": "execute_result"
    }
   ],
   "source": [
    "# Palabras que MENOS se relacionan con...:\n",
    "w2v_model.wv.most_similar(negative=[\"feeling\"], topn=10)"
   ]
  },
  {
   "cell_type": "code",
   "execution_count": 43,
   "metadata": {
    "id": "L_UvHPMMklOr"
   },
   "outputs": [
    {
     "ename": "KeyError",
     "evalue": "\"Key 'palabra' not present in vocabulary\"",
     "output_type": "error",
     "traceback": [
      "\u001b[0;31m---------------------------------------------------------------------------\u001b[0m",
      "\u001b[0;31mKeyError\u001b[0m                                  Traceback (most recent call last)",
      "\u001b[1;32m/Users/carlosmontiel/Documents/UBA/4to Bimestre/NLP/Clase 3/3b - Custom embedding con Gensim.ipynb Cell 23\u001b[0m line \u001b[0;36m2\n\u001b[1;32m      <a href='vscode-notebook-cell:/Users/carlosmontiel/Documents/UBA/4to%20Bimestre/NLP/Clase%203/3b%20-%20Custom%20embedding%20con%20Gensim.ipynb#X31sZmlsZQ%3D%3D?line=0'>1</a>\u001b[0m \u001b[39m# Ensayar con una palabra que no está en el vocabulario:\u001b[39;00m\n\u001b[0;32m----> <a href='vscode-notebook-cell:/Users/carlosmontiel/Documents/UBA/4to%20Bimestre/NLP/Clase%203/3b%20-%20Custom%20embedding%20con%20Gensim.ipynb#X31sZmlsZQ%3D%3D?line=1'>2</a>\u001b[0m w2v_model\u001b[39m.\u001b[39;49mwv\u001b[39m.\u001b[39;49mmost_similar(negative\u001b[39m=\u001b[39;49m[\u001b[39m\"\u001b[39;49m\u001b[39mpalabra\u001b[39;49m\u001b[39m\"\u001b[39;49m])\n",
      "File \u001b[0;32m~/anaconda3/envs/nlp/lib/python3.11/site-packages/gensim/models/keyedvectors.py:841\u001b[0m, in \u001b[0;36mKeyedVectors.most_similar\u001b[0;34m(self, positive, negative, topn, clip_start, clip_end, restrict_vocab, indexer)\u001b[0m\n\u001b[1;32m    838\u001b[0m         weight[idx] \u001b[39m=\u001b[39m item[\u001b[39m1\u001b[39m]\n\u001b[1;32m    840\u001b[0m \u001b[39m# compute the weighted average of all keys\u001b[39;00m\n\u001b[0;32m--> 841\u001b[0m mean \u001b[39m=\u001b[39m \u001b[39mself\u001b[39;49m\u001b[39m.\u001b[39;49mget_mean_vector(keys, weight, pre_normalize\u001b[39m=\u001b[39;49m\u001b[39mTrue\u001b[39;49;00m, post_normalize\u001b[39m=\u001b[39;49m\u001b[39mTrue\u001b[39;49;00m, ignore_missing\u001b[39m=\u001b[39;49m\u001b[39mFalse\u001b[39;49;00m)\n\u001b[1;32m    842\u001b[0m all_keys \u001b[39m=\u001b[39m [\n\u001b[1;32m    843\u001b[0m     \u001b[39mself\u001b[39m\u001b[39m.\u001b[39mget_index(key) \u001b[39mfor\u001b[39;00m key \u001b[39min\u001b[39;00m keys \u001b[39mif\u001b[39;00m \u001b[39misinstance\u001b[39m(key, _KEY_TYPES) \u001b[39mand\u001b[39;00m \u001b[39mself\u001b[39m\u001b[39m.\u001b[39mhas_index_for(key)\n\u001b[1;32m    844\u001b[0m ]\n\u001b[1;32m    846\u001b[0m \u001b[39mif\u001b[39;00m indexer \u001b[39mis\u001b[39;00m \u001b[39mnot\u001b[39;00m \u001b[39mNone\u001b[39;00m \u001b[39mand\u001b[39;00m \u001b[39misinstance\u001b[39m(topn, \u001b[39mint\u001b[39m):\n",
      "File \u001b[0;32m~/anaconda3/envs/nlp/lib/python3.11/site-packages/gensim/models/keyedvectors.py:518\u001b[0m, in \u001b[0;36mKeyedVectors.get_mean_vector\u001b[0;34m(self, keys, weights, pre_normalize, post_normalize, ignore_missing)\u001b[0m\n\u001b[1;32m    516\u001b[0m         total_weight \u001b[39m+\u001b[39m\u001b[39m=\u001b[39m \u001b[39mabs\u001b[39m(weights[idx])\n\u001b[1;32m    517\u001b[0m     \u001b[39melif\u001b[39;00m \u001b[39mnot\u001b[39;00m ignore_missing:\n\u001b[0;32m--> 518\u001b[0m         \u001b[39mraise\u001b[39;00m \u001b[39mKeyError\u001b[39;00m(\u001b[39mf\u001b[39m\u001b[39m\"\u001b[39m\u001b[39mKey \u001b[39m\u001b[39m'\u001b[39m\u001b[39m{\u001b[39;00mkey\u001b[39m}\u001b[39;00m\u001b[39m'\u001b[39m\u001b[39m not present in vocabulary\u001b[39m\u001b[39m\"\u001b[39m)\n\u001b[1;32m    520\u001b[0m \u001b[39mif\u001b[39;00m total_weight \u001b[39m>\u001b[39m \u001b[39m0\u001b[39m:\n\u001b[1;32m    521\u001b[0m     mean \u001b[39m=\u001b[39m mean \u001b[39m/\u001b[39m total_weight\n",
      "\u001b[0;31mKeyError\u001b[0m: \"Key 'palabra' not present in vocabulary\""
     ]
    }
   ],
   "source": [
    "# Ensayar con una palabra que no está en el vocabulario:\n",
    "w2v_model.wv.most_similar(negative=[\"palabra\"])"
   ]
  },
  {
   "cell_type": "code",
   "execution_count": null,
   "metadata": {},
   "outputs": [
    {
     "name": "stdout",
     "output_type": "stream",
     "text": [
      "[ 0.38016084  0.20893666  0.00216159  0.05827052  0.3203117   0.21140929\n",
      "  0.03084468  0.54755545 -0.07380334 -0.05966441  0.17423275 -0.17357948\n",
      " -0.21035829  0.17758012 -0.16173925 -0.32555273  0.09546147  0.081723\n",
      "  0.12102413 -0.35852048 -0.04664207 -0.26383057  0.16393869 -0.23625582\n",
      "  0.31787857 -0.19644243 -0.64424706 -0.16914718  0.10211243 -0.02551625\n",
      " -0.1957734   0.2701539   0.22284667 -0.14525034 -0.01007587  0.45852068\n",
      " -0.0575407   0.01171747 -0.18547083  0.1736652  -0.09147227  0.01652293\n",
      " -0.17871882 -0.30341303  0.20040779  0.436997    0.22134307 -0.16906476\n",
      "  0.3396696   0.12286977  0.08473019 -0.29426834 -0.0435686   0.29691207\n",
      "  0.21160726  0.00325255  0.1203628  -0.15581098 -0.03029534  0.01003821\n",
      "  0.2047989  -0.26750422  0.20341091 -0.2004146  -0.15454479 -0.22402681\n",
      "  0.3109417   0.3103943   0.14394078 -0.23691966  0.01676925 -0.15181048\n",
      " -0.03050179 -0.43056297  0.2183166  -0.15482907 -0.3322059  -0.10640176\n",
      "  0.10078683  0.09747347  0.17788418  0.01679448  0.230281    0.2865596\n",
      "  0.00640767  0.0465056  -0.10239237  0.00880348 -0.04192794  0.14033662\n",
      "  0.15388222 -0.16793132  0.22358403 -0.04102034  0.15949568  0.03626216\n",
      "  0.21438219  0.05862552  0.04292563  0.3773002   0.16673382  0.0720512\n",
      "  0.19787428 -0.02239468 -0.34429562 -0.07780635  0.18935299  0.2643824\n",
      " -0.32174128 -0.08130757 -0.3261856  -0.17123006 -0.31972727  0.20640145\n",
      " -0.15215075  0.14249067  0.21705122 -0.46754843  0.3558312  -0.5189389\n",
      " -0.04692447 -0.08418152 -0.03975265 -0.25093445 -0.03803211  0.19730945\n",
      "  0.05009235 -0.28037122  0.08418448  0.43911487 -0.16604418  0.06159643\n",
      " -0.20309621 -0.13627905  0.0159119   0.09394687  0.09277452 -0.04137581\n",
      "  0.23021851 -0.33659732  0.27784082 -0.15940315 -0.07687468 -0.41402966\n",
      "  0.02539551  0.17686091 -0.26649615 -0.13864055  0.2383993  -0.13262258\n",
      " -0.14957914 -0.43794632  0.3812361  -0.296488    0.04197127  0.05278467\n",
      " -0.05851465 -0.30936608 -0.19607079  0.262812    0.04174259  0.36205992\n",
      " -0.3776558  -0.0494643   0.24723473  0.2396009  -0.15012541 -0.16308907\n",
      "  0.16555351 -0.0621239   0.18489783 -0.35732412  0.31915063  0.30836546\n",
      "  0.10577343  0.01648542 -0.02862536 -0.19783543  0.15352605  0.03200459\n",
      " -0.05241495 -0.00499012 -0.3953866   0.17358798 -0.38520718  0.17292619\n",
      "  0.08570935  0.0662668  -0.05366252 -0.15679729  0.07498181  0.0148081\n",
      " -0.27503523  0.0451057   0.35137817 -0.07202678  0.2592061  -0.4571183\n",
      "  0.0144379  -0.2545499  -0.11139224  0.01071185 -0.04518241  0.04139276\n",
      "  0.07068185 -0.35060436 -0.10939056  0.0031309   0.07733732 -0.14952461\n",
      " -0.01551278 -0.2322068  -0.26912314 -0.1882025   0.13664533 -0.15615058\n",
      " -0.11869083  0.22489291  0.00762665 -0.13092946  0.00505498  0.29660717\n",
      " -0.3053484   0.16467537  0.03161108 -0.19581592  0.10858397 -0.04539572\n",
      " -0.02789287  0.07259116 -0.22448812  0.35043398  0.26629636  0.13813078\n",
      " -0.09509967  0.05770583 -0.0918375  -0.09651981  0.2640995   0.01475484\n",
      "  0.10272545 -0.00883932  0.14753753 -0.25403923 -0.14999285  0.03028884\n",
      "  0.00449996  0.0910955   0.02135148  0.440238    0.01503425  0.14621392\n",
      " -0.08851544  0.2534451  -0.32530308 -0.55587626  0.16862461 -0.13638186\n",
      " -0.15559848 -0.15073963  0.34534952 -0.15175152  0.11151364 -0.5299168\n",
      " -0.21428552 -0.17836069  0.2124447   0.22248639 -0.38285738  0.29640543\n",
      " -0.24696045 -0.06251805  0.2534114  -0.01458572  0.12937838 -0.20808561\n",
      " -0.10640287 -0.02758632  0.01444101 -0.28047088  0.0166871  -0.37704185\n",
      "  0.13842279 -0.00603274  0.33430368  0.07683019 -0.37205562 -0.09513095\n",
      " -0.12558898  0.43625247  0.20153913  0.27633753  0.03004285  0.02480362\n",
      " -0.09767091  0.04410725 -0.03934309  0.01935983  0.00690477  0.08408406]\n"
     ]
    }
   ],
   "source": [
    "# el método `get_vector` permite obtener los vectores:\n",
    "vector_god = w2v_model.wv.get_vector(\"god\")\n",
    "print(vector_god)"
   ]
  },
  {
   "cell_type": "code",
   "execution_count": null,
   "metadata": {},
   "outputs": [
    {
     "data": {
      "text/plain": [
       "[('god', 1.0000001192092896),\n",
       " ('food', 0.809460461139679),\n",
       " ('damn', 0.7668165564537048),\n",
       " ('stamps', 0.7651999592781067),\n",
       " ('ooh', 0.728290319442749),\n",
       " ('swear', 0.7206417322158813),\n",
       " ('acid', 0.7076746821403503),\n",
       " ('thank', 0.7018301486968994),\n",
       " ('yea', 0.6960077285766602),\n",
       " ('star', 0.6919614672660828)]"
      ]
     },
     "execution_count": 21,
     "metadata": {},
     "output_type": "execute_result"
    }
   ],
   "source": [
    "# el método `most_similar` también permite comparar a partir de vectores\n",
    "w2v_model.wv.most_similar(vector_god)"
   ]
  },
  {
   "cell_type": "code",
   "execution_count": null,
   "metadata": {},
   "outputs": [
    {
     "data": {
      "text/plain": [
       "[('food', 0.809460461139679),\n",
       " ('damn', 0.7668165564537048),\n",
       " ('stamps', 0.7651999592781067),\n",
       " ('ooh', 0.728290319442749),\n",
       " ('swear', 0.7206417322158813),\n",
       " ('acid', 0.7076746821403503),\n",
       " ('thank', 0.7018301486968994),\n",
       " ('yea', 0.6960077285766602),\n",
       " ('star', 0.6919614672660828),\n",
       " ('ah', 0.6837462782859802)]"
      ]
     },
     "execution_count": 22,
     "metadata": {},
     "output_type": "execute_result"
    }
   ],
   "source": [
    "# Palabras que MÁS se relacionan con...:\n",
    "w2v_model.wv.most_similar(positive=[\"god\"], topn=10)"
   ]
  },
  {
   "cell_type": "markdown",
   "metadata": {
    "id": "_g8UVWe6lFmh"
   },
   "source": [
    "### 5 - Visualizar agrupación de vectores"
   ]
  },
  {
   "cell_type": "code",
   "execution_count": null,
   "metadata": {
    "id": "pDxEVXAivjr9"
   },
   "outputs": [],
   "source": [
    "from sklearn.decomposition import IncrementalPCA    \n",
    "from sklearn.manifold import TSNE                   \n",
    "import numpy as np                                  \n",
    "\n",
    "def reduce_dimensions(model, num_dimensions = 2 ):\n",
    "     \n",
    "    vectors = np.asarray(model.wv.vectors)\n",
    "    labels = np.asarray(model.wv.index_to_key)  \n",
    "\n",
    "    tsne = TSNE(n_components=num_dimensions, random_state=0)\n",
    "    vectors = tsne.fit_transform(vectors)\n",
    "\n",
    "    return vectors, labels"
   ]
  },
  {
   "cell_type": "code",
   "execution_count": null,
   "metadata": {
    "id": "NCCXtDpcugmd"
   },
   "outputs": [
    {
     "data": {
      "application/vnd.plotly.v1+json": {
       "config": {
        "plotlyServerURL": "https://plot.ly"
       },
       "data": [
        {
         "hovertemplate": "x=%{x}<br>y=%{y}<br>text=%{text}<extra></extra>",
         "legendgroup": "",
         "marker": {
          "color": "#636efa",
          "symbol": "circle"
         },
         "mode": "markers+text",
         "name": "",
         "orientation": "v",
         "showlegend": false,
         "text": [
          "i",
          "the",
          "you",
          "to",
          "a",
          "and",
          "my",
          "i'm",
          "it",
          "me",
          "in",
          "that",
          "like",
          "of",
          "this",
          "but",
          "just",
          "so",
          "on",
          "is",
          "your",
          "don't",
          "up",
          "with",
          "get",
          "for",
          "be",
          "it's",
          "no",
          "all",
          "know",
          "what",
          "now",
          "out",
          "when",
          "they",
          "was",
          "not",
          "fuck",
          "ain't",
          "got",
          "at",
          "go",
          "can",
          "back",
          "if",
          "shit",
          "we",
          "he",
          "do",
          "one",
          "from",
          "'cause",
          "as",
          "never",
          "see",
          "think",
          "say",
          "his",
          "make",
          "you're",
          "off",
          "oh",
          "that's",
          "down",
          "way",
          "who",
          "her",
          "have",
          "can't",
          "take",
          "right",
          "ass",
          "bitch",
          "name",
          "or",
          "too",
          "let",
          "want",
          "love",
          "then",
          "are",
          "i'll",
          "these",
          "am",
          "time",
          "how",
          "been",
          "shady",
          "'em",
          "even",
          "why",
          "feel",
          "him",
          "yeah",
          "baby",
          "man",
          "cause",
          "come",
          "gonna",
          "still",
          "slim",
          "he's",
          "about",
          "look",
          "wanna",
          "little",
          "through",
          "some",
          "could",
          "an",
          "only",
          "did",
          "girl",
          "life",
          "over",
          "here",
          "put",
          "better",
          "give",
          "more",
          "need",
          "had",
          "there",
          "said",
          "i've",
          "she",
          "everybody",
          "stand",
          "aah",
          "by",
          "fuckin'",
          "them",
          "ever",
          "fucking",
          "tell",
          "rap",
          "again",
          "god",
          "bad",
          "crazy",
          "world",
          "will",
          "nothing",
          "before",
          "us",
          "try",
          "stop",
          "would",
          "maybe",
          "hear",
          "new",
          "where",
          "own",
          "please",
          "keep",
          "really",
          "something",
          "every",
          "made",
          "same",
          "gotta",
          "blow",
          "around",
          "day",
          "head",
          "there's",
          "into",
          "'til",
          "won't",
          "call",
          "yo",
          "mom",
          "didn't",
          "boy",
          "shot",
          "well",
          "gone",
          "white",
          "real",
          "face",
          "once",
          "night",
          "comes",
          "guess",
          "thing",
          "ya",
          "two",
          "lose",
          "shake",
          "while",
          "let's",
          "people",
          "yourself",
          "hit",
          "show",
          "ha",
          "find",
          "going",
          "goes"
         ],
         "type": "scatter",
         "x": [
          19.989498,
          -4.115735,
          20.569134,
          15.81918,
          -12.239365,
          2.1296186,
          -20.556993,
          6.4206586,
          22.15539,
          8.416692,
          -18.357813,
          1.6631006,
          17.178635,
          -19.822807,
          -0.46516684,
          20.352049,
          16.047304,
          7.218957,
          -1.886524,
          -18.43115,
          -2.8505914,
          22.0732,
          -30.57343,
          -21.08585,
          14.424569,
          4.5910535,
          17.744183,
          10.967922,
          31.535889,
          4.618196,
          17.377586,
          11.45542,
          2.5295186,
          -25.797094,
          19.074608,
          18.993397,
          19.885761,
          1.5612482,
          -0.3919063,
          21.57698,
          10.108786,
          -18.400095,
          -5.894983,
          18.983097,
          -15.430811,
          23.751095,
          -7.623528,
          13.048004,
          3.1699982,
          16.402155,
          7.3939724,
          -10.023054,
          17.286785,
          1.9651874,
          25.375595,
          13.095649,
          15.355629,
          15.999406,
          0.73708326,
          29.094595,
          7.802279,
          -14.55865,
          -8.862464,
          20.01012,
          -5.0757694,
          27.275154,
          -23.595377,
          -0.6828207,
          12.18837,
          23.606796,
          -10.109617,
          -5.2796407,
          -5.7334566,
          5.511448,
          -17.373987,
          28.358814,
          10.584933,
          25.058605,
          15.363596,
          0.7183736,
          25.192326,
          -23.88905,
          25.857006,
          -27.947777,
          1.0062433,
          -14.863273,
          12.04828,
          -5.746131,
          -10.482458,
          9.528978,
          20.403563,
          12.8529,
          5.3030725,
          1.8130615,
          -0.8259868,
          -5.853307,
          11.545261,
          29.476711,
          -8.163307,
          23.853188,
          13.740996,
          -9.559568,
          5.6869974,
          18.785244,
          -17.831749,
          16.93488,
          -11.236809,
          -13.069414,
          10.448746,
          32.147106,
          0.3627536,
          7.090824,
          22.398582,
          -1.6033698,
          -22.547445,
          -21.931114,
          4.487533,
          -3.0394394,
          20.68743,
          22.689688,
          32.108875,
          26.822073,
          28.043343,
          19.458965,
          19.97722,
          -7.7170305,
          22.652561,
          15.6462755,
          18.870155,
          6.613905,
          -21.867664,
          -3.317463,
          9.194127,
          24.191929,
          -7.9262466,
          12.363597,
          -2.5581074,
          2.5754652,
          -4.3357983,
          15.482355,
          -0.26185647,
          -9.487709,
          6.5006747,
          11.831053,
          20.844486,
          8.809722,
          17.050402,
          30.620264,
          23.016644,
          32.968105,
          26.302586,
          -14.107237,
          5.527188,
          21.507225,
          -12.9055395,
          -1.7646337,
          -19.568632,
          14.254134,
          -15.686809,
          8.741488,
          -3.6429274,
          19.30992,
          16.94288,
          -15.29378,
          -10.35236,
          -15.793586,
          31.735651,
          -8.917765,
          -27.61374,
          24.67358,
          13.258075,
          1.6764501,
          -23.449213,
          21.588514,
          -3.726289,
          5.5420475,
          1.3458301,
          1.6658008,
          -20.11272,
          -10.944077,
          -4.5214105,
          19.970522,
          -19.7108,
          -18.273052,
          3.6998315,
          29.99026,
          20.080969,
          -18.339403,
          22.260866,
          -2.2346401,
          1.6598657,
          23.782362,
          -19.730433,
          22.676464,
          7.223506,
          2.6570961,
          -1.9419656,
          24.287266,
          8.432495,
          9.238545
         ],
         "xaxis": "x",
         "y": [
          0.51292884,
          -9.316071,
          3.3957646,
          6.897498,
          -7.8881655,
          5.505449,
          -10.706211,
          -19.481297,
          -1.1714125,
          -12.413128,
          5.0116343,
          -4.7555876,
          -16.643835,
          -6.088058,
          -10.693388,
          -10.682211,
          -3.7757742,
          10.704017,
          -11.540294,
          -12.138177,
          26.783398,
          -5.3708425,
          1.3149071,
          -0.60853434,
          11.280527,
          -26.896627,
          12.754638,
          -4.2093143,
          0.54787624,
          -23.218317,
          1.4804076,
          -20.940266,
          -16.080376,
          -4.871511,
          -2.011524,
          -17.848637,
          -5.574521,
          26.653,
          -22.920404,
          5.73714,
          -0.6959815,
          -24.323479,
          11.244586,
          -9.040872,
          -21.370808,
          -2.2949758,
          -13.578481,
          28.41262,
          19.791185,
          9.115529,
          27.109129,
          1.8273581,
          -3.3778074,
          22.480179,
          5.093008,
          5.3051877,
          0.43953553,
          2.4183414,
          -29.398893,
          9.676376,
          -19.599928,
          7.6187253,
          -25.431057,
          -11.597842,
          14.478338,
          -3.4809353,
          18.081816,
          19.094213,
          -5.1283712,
          -4.0550413,
          13.813921,
          -18.537233,
          -11.885273,
          -18.786234,
          -14.779401,
          -9.765638,
          -12.363466,
          -13.575394,
          7.868634,
          -26.00453,
          0.27633435,
          14.465929,
          9.620122,
          -14.723051,
          -23.488245,
          13.826516,
          14.453947,
          21.395464,
          -17.962156,
          -14.527508,
          -2.0041316,
          -21.324787,
          -10.1495905,
          18.031185,
          -18.893978,
          -23.700651,
          -6.1261616,
          4.8516893,
          13.484942,
          12.540637,
          -4.6500783,
          -18.137709,
          19.010475,
          -13.895536,
          -25.545551,
          22.053686,
          -8.849289,
          19.436255,
          -18.825735,
          11.820182,
          -0.22872983,
          28.434261,
          -7.2758875,
          -15.161681,
          -8.438632,
          7.7340717,
          -16.311554,
          10.183049,
          18.765865,
          -22.542046,
          1.6675566,
          -5.8228106,
          -0.57395893,
          26.412016,
          12.713916,
          21.242247,
          1.3249574,
          22.387716,
          27.353642,
          -3.2888718,
          -0.26552296,
          -10.739193,
          -14.166767,
          3.157757,
          11.894137,
          7.279733,
          -26.643986,
          7.9250016,
          -26.108898,
          17.849787,
          -17.638475,
          -21.005264,
          10.739863,
          -11.51696,
          8.032957,
          4.2251005,
          7.0935965,
          -11.793716,
          5.349592,
          -9.101559,
          15.142909,
          -9.209853,
          9.220651,
          13.651228,
          15.4727545,
          8.691024,
          20.27937,
          -0.94489646,
          13.124598,
          -0.45590794,
          15.736461,
          10.446901,
          12.335061,
          3.972273,
          3.0466077,
          -3.495631,
          -1.5391022,
          -9.1536875,
          -0.9937524,
          -1.1547246,
          7.2365155,
          9.076028,
          -12.771024,
          -4.1515403,
          -16.609703,
          27.93051,
          -19.509977,
          -12.156819,
          -18.139275,
          -16.86983,
          8.022334,
          20.164955,
          6.245748,
          8.199936,
          -21.158747,
          -6.166917,
          1.8543729,
          -4.856506,
          17.451124,
          -13.907762,
          -14.487488,
          -14.367718,
          15.036843,
          18.16415,
          8.609306,
          10.761949,
          22.07456,
          24.658749,
          -7.944187,
          23.4451
         ],
         "yaxis": "y"
        }
       ],
       "layout": {
        "legend": {
         "tracegroupgap": 0
        },
        "margin": {
         "t": 60
        },
        "template": {
         "data": {
          "bar": [
           {
            "error_x": {
             "color": "#2a3f5f"
            },
            "error_y": {
             "color": "#2a3f5f"
            },
            "marker": {
             "line": {
              "color": "#E5ECF6",
              "width": 0.5
             },
             "pattern": {
              "fillmode": "overlay",
              "size": 10,
              "solidity": 0.2
             }
            },
            "type": "bar"
           }
          ],
          "barpolar": [
           {
            "marker": {
             "line": {
              "color": "#E5ECF6",
              "width": 0.5
             },
             "pattern": {
              "fillmode": "overlay",
              "size": 10,
              "solidity": 0.2
             }
            },
            "type": "barpolar"
           }
          ],
          "carpet": [
           {
            "aaxis": {
             "endlinecolor": "#2a3f5f",
             "gridcolor": "white",
             "linecolor": "white",
             "minorgridcolor": "white",
             "startlinecolor": "#2a3f5f"
            },
            "baxis": {
             "endlinecolor": "#2a3f5f",
             "gridcolor": "white",
             "linecolor": "white",
             "minorgridcolor": "white",
             "startlinecolor": "#2a3f5f"
            },
            "type": "carpet"
           }
          ],
          "choropleth": [
           {
            "colorbar": {
             "outlinewidth": 0,
             "ticks": ""
            },
            "type": "choropleth"
           }
          ],
          "contour": [
           {
            "colorbar": {
             "outlinewidth": 0,
             "ticks": ""
            },
            "colorscale": [
             [
              0,
              "#0d0887"
             ],
             [
              0.1111111111111111,
              "#46039f"
             ],
             [
              0.2222222222222222,
              "#7201a8"
             ],
             [
              0.3333333333333333,
              "#9c179e"
             ],
             [
              0.4444444444444444,
              "#bd3786"
             ],
             [
              0.5555555555555556,
              "#d8576b"
             ],
             [
              0.6666666666666666,
              "#ed7953"
             ],
             [
              0.7777777777777778,
              "#fb9f3a"
             ],
             [
              0.8888888888888888,
              "#fdca26"
             ],
             [
              1,
              "#f0f921"
             ]
            ],
            "type": "contour"
           }
          ],
          "contourcarpet": [
           {
            "colorbar": {
             "outlinewidth": 0,
             "ticks": ""
            },
            "type": "contourcarpet"
           }
          ],
          "heatmap": [
           {
            "colorbar": {
             "outlinewidth": 0,
             "ticks": ""
            },
            "colorscale": [
             [
              0,
              "#0d0887"
             ],
             [
              0.1111111111111111,
              "#46039f"
             ],
             [
              0.2222222222222222,
              "#7201a8"
             ],
             [
              0.3333333333333333,
              "#9c179e"
             ],
             [
              0.4444444444444444,
              "#bd3786"
             ],
             [
              0.5555555555555556,
              "#d8576b"
             ],
             [
              0.6666666666666666,
              "#ed7953"
             ],
             [
              0.7777777777777778,
              "#fb9f3a"
             ],
             [
              0.8888888888888888,
              "#fdca26"
             ],
             [
              1,
              "#f0f921"
             ]
            ],
            "type": "heatmap"
           }
          ],
          "heatmapgl": [
           {
            "colorbar": {
             "outlinewidth": 0,
             "ticks": ""
            },
            "colorscale": [
             [
              0,
              "#0d0887"
             ],
             [
              0.1111111111111111,
              "#46039f"
             ],
             [
              0.2222222222222222,
              "#7201a8"
             ],
             [
              0.3333333333333333,
              "#9c179e"
             ],
             [
              0.4444444444444444,
              "#bd3786"
             ],
             [
              0.5555555555555556,
              "#d8576b"
             ],
             [
              0.6666666666666666,
              "#ed7953"
             ],
             [
              0.7777777777777778,
              "#fb9f3a"
             ],
             [
              0.8888888888888888,
              "#fdca26"
             ],
             [
              1,
              "#f0f921"
             ]
            ],
            "type": "heatmapgl"
           }
          ],
          "histogram": [
           {
            "marker": {
             "pattern": {
              "fillmode": "overlay",
              "size": 10,
              "solidity": 0.2
             }
            },
            "type": "histogram"
           }
          ],
          "histogram2d": [
           {
            "colorbar": {
             "outlinewidth": 0,
             "ticks": ""
            },
            "colorscale": [
             [
              0,
              "#0d0887"
             ],
             [
              0.1111111111111111,
              "#46039f"
             ],
             [
              0.2222222222222222,
              "#7201a8"
             ],
             [
              0.3333333333333333,
              "#9c179e"
             ],
             [
              0.4444444444444444,
              "#bd3786"
             ],
             [
              0.5555555555555556,
              "#d8576b"
             ],
             [
              0.6666666666666666,
              "#ed7953"
             ],
             [
              0.7777777777777778,
              "#fb9f3a"
             ],
             [
              0.8888888888888888,
              "#fdca26"
             ],
             [
              1,
              "#f0f921"
             ]
            ],
            "type": "histogram2d"
           }
          ],
          "histogram2dcontour": [
           {
            "colorbar": {
             "outlinewidth": 0,
             "ticks": ""
            },
            "colorscale": [
             [
              0,
              "#0d0887"
             ],
             [
              0.1111111111111111,
              "#46039f"
             ],
             [
              0.2222222222222222,
              "#7201a8"
             ],
             [
              0.3333333333333333,
              "#9c179e"
             ],
             [
              0.4444444444444444,
              "#bd3786"
             ],
             [
              0.5555555555555556,
              "#d8576b"
             ],
             [
              0.6666666666666666,
              "#ed7953"
             ],
             [
              0.7777777777777778,
              "#fb9f3a"
             ],
             [
              0.8888888888888888,
              "#fdca26"
             ],
             [
              1,
              "#f0f921"
             ]
            ],
            "type": "histogram2dcontour"
           }
          ],
          "mesh3d": [
           {
            "colorbar": {
             "outlinewidth": 0,
             "ticks": ""
            },
            "type": "mesh3d"
           }
          ],
          "parcoords": [
           {
            "line": {
             "colorbar": {
              "outlinewidth": 0,
              "ticks": ""
             }
            },
            "type": "parcoords"
           }
          ],
          "pie": [
           {
            "automargin": true,
            "type": "pie"
           }
          ],
          "scatter": [
           {
            "fillpattern": {
             "fillmode": "overlay",
             "size": 10,
             "solidity": 0.2
            },
            "type": "scatter"
           }
          ],
          "scatter3d": [
           {
            "line": {
             "colorbar": {
              "outlinewidth": 0,
              "ticks": ""
             }
            },
            "marker": {
             "colorbar": {
              "outlinewidth": 0,
              "ticks": ""
             }
            },
            "type": "scatter3d"
           }
          ],
          "scattercarpet": [
           {
            "marker": {
             "colorbar": {
              "outlinewidth": 0,
              "ticks": ""
             }
            },
            "type": "scattercarpet"
           }
          ],
          "scattergeo": [
           {
            "marker": {
             "colorbar": {
              "outlinewidth": 0,
              "ticks": ""
             }
            },
            "type": "scattergeo"
           }
          ],
          "scattergl": [
           {
            "marker": {
             "colorbar": {
              "outlinewidth": 0,
              "ticks": ""
             }
            },
            "type": "scattergl"
           }
          ],
          "scattermapbox": [
           {
            "marker": {
             "colorbar": {
              "outlinewidth": 0,
              "ticks": ""
             }
            },
            "type": "scattermapbox"
           }
          ],
          "scatterpolar": [
           {
            "marker": {
             "colorbar": {
              "outlinewidth": 0,
              "ticks": ""
             }
            },
            "type": "scatterpolar"
           }
          ],
          "scatterpolargl": [
           {
            "marker": {
             "colorbar": {
              "outlinewidth": 0,
              "ticks": ""
             }
            },
            "type": "scatterpolargl"
           }
          ],
          "scatterternary": [
           {
            "marker": {
             "colorbar": {
              "outlinewidth": 0,
              "ticks": ""
             }
            },
            "type": "scatterternary"
           }
          ],
          "surface": [
           {
            "colorbar": {
             "outlinewidth": 0,
             "ticks": ""
            },
            "colorscale": [
             [
              0,
              "#0d0887"
             ],
             [
              0.1111111111111111,
              "#46039f"
             ],
             [
              0.2222222222222222,
              "#7201a8"
             ],
             [
              0.3333333333333333,
              "#9c179e"
             ],
             [
              0.4444444444444444,
              "#bd3786"
             ],
             [
              0.5555555555555556,
              "#d8576b"
             ],
             [
              0.6666666666666666,
              "#ed7953"
             ],
             [
              0.7777777777777778,
              "#fb9f3a"
             ],
             [
              0.8888888888888888,
              "#fdca26"
             ],
             [
              1,
              "#f0f921"
             ]
            ],
            "type": "surface"
           }
          ],
          "table": [
           {
            "cells": {
             "fill": {
              "color": "#EBF0F8"
             },
             "line": {
              "color": "white"
             }
            },
            "header": {
             "fill": {
              "color": "#C8D4E3"
             },
             "line": {
              "color": "white"
             }
            },
            "type": "table"
           }
          ]
         },
         "layout": {
          "annotationdefaults": {
           "arrowcolor": "#2a3f5f",
           "arrowhead": 0,
           "arrowwidth": 1
          },
          "autotypenumbers": "strict",
          "coloraxis": {
           "colorbar": {
            "outlinewidth": 0,
            "ticks": ""
           }
          },
          "colorscale": {
           "diverging": [
            [
             0,
             "#8e0152"
            ],
            [
             0.1,
             "#c51b7d"
            ],
            [
             0.2,
             "#de77ae"
            ],
            [
             0.3,
             "#f1b6da"
            ],
            [
             0.4,
             "#fde0ef"
            ],
            [
             0.5,
             "#f7f7f7"
            ],
            [
             0.6,
             "#e6f5d0"
            ],
            [
             0.7,
             "#b8e186"
            ],
            [
             0.8,
             "#7fbc41"
            ],
            [
             0.9,
             "#4d9221"
            ],
            [
             1,
             "#276419"
            ]
           ],
           "sequential": [
            [
             0,
             "#0d0887"
            ],
            [
             0.1111111111111111,
             "#46039f"
            ],
            [
             0.2222222222222222,
             "#7201a8"
            ],
            [
             0.3333333333333333,
             "#9c179e"
            ],
            [
             0.4444444444444444,
             "#bd3786"
            ],
            [
             0.5555555555555556,
             "#d8576b"
            ],
            [
             0.6666666666666666,
             "#ed7953"
            ],
            [
             0.7777777777777778,
             "#fb9f3a"
            ],
            [
             0.8888888888888888,
             "#fdca26"
            ],
            [
             1,
             "#f0f921"
            ]
           ],
           "sequentialminus": [
            [
             0,
             "#0d0887"
            ],
            [
             0.1111111111111111,
             "#46039f"
            ],
            [
             0.2222222222222222,
             "#7201a8"
            ],
            [
             0.3333333333333333,
             "#9c179e"
            ],
            [
             0.4444444444444444,
             "#bd3786"
            ],
            [
             0.5555555555555556,
             "#d8576b"
            ],
            [
             0.6666666666666666,
             "#ed7953"
            ],
            [
             0.7777777777777778,
             "#fb9f3a"
            ],
            [
             0.8888888888888888,
             "#fdca26"
            ],
            [
             1,
             "#f0f921"
            ]
           ]
          },
          "colorway": [
           "#636efa",
           "#EF553B",
           "#00cc96",
           "#ab63fa",
           "#FFA15A",
           "#19d3f3",
           "#FF6692",
           "#B6E880",
           "#FF97FF",
           "#FECB52"
          ],
          "font": {
           "color": "#2a3f5f"
          },
          "geo": {
           "bgcolor": "white",
           "lakecolor": "white",
           "landcolor": "#E5ECF6",
           "showlakes": true,
           "showland": true,
           "subunitcolor": "white"
          },
          "hoverlabel": {
           "align": "left"
          },
          "hovermode": "closest",
          "mapbox": {
           "style": "light"
          },
          "paper_bgcolor": "white",
          "plot_bgcolor": "#E5ECF6",
          "polar": {
           "angularaxis": {
            "gridcolor": "white",
            "linecolor": "white",
            "ticks": ""
           },
           "bgcolor": "#E5ECF6",
           "radialaxis": {
            "gridcolor": "white",
            "linecolor": "white",
            "ticks": ""
           }
          },
          "scene": {
           "xaxis": {
            "backgroundcolor": "#E5ECF6",
            "gridcolor": "white",
            "gridwidth": 2,
            "linecolor": "white",
            "showbackground": true,
            "ticks": "",
            "zerolinecolor": "white"
           },
           "yaxis": {
            "backgroundcolor": "#E5ECF6",
            "gridcolor": "white",
            "gridwidth": 2,
            "linecolor": "white",
            "showbackground": true,
            "ticks": "",
            "zerolinecolor": "white"
           },
           "zaxis": {
            "backgroundcolor": "#E5ECF6",
            "gridcolor": "white",
            "gridwidth": 2,
            "linecolor": "white",
            "showbackground": true,
            "ticks": "",
            "zerolinecolor": "white"
           }
          },
          "shapedefaults": {
           "line": {
            "color": "#2a3f5f"
           }
          },
          "ternary": {
           "aaxis": {
            "gridcolor": "white",
            "linecolor": "white",
            "ticks": ""
           },
           "baxis": {
            "gridcolor": "white",
            "linecolor": "white",
            "ticks": ""
           },
           "bgcolor": "#E5ECF6",
           "caxis": {
            "gridcolor": "white",
            "linecolor": "white",
            "ticks": ""
           }
          },
          "title": {
           "x": 0.05
          },
          "xaxis": {
           "automargin": true,
           "gridcolor": "white",
           "linecolor": "white",
           "ticks": "",
           "title": {
            "standoff": 15
           },
           "zerolinecolor": "white",
           "zerolinewidth": 2
          },
          "yaxis": {
           "automargin": true,
           "gridcolor": "white",
           "linecolor": "white",
           "ticks": "",
           "title": {
            "standoff": 15
           },
           "zerolinecolor": "white",
           "zerolinewidth": 2
          }
         }
        },
        "xaxis": {
         "anchor": "y",
         "domain": [
          0,
          1
         ],
         "title": {
          "text": "x"
         }
        },
        "yaxis": {
         "anchor": "x",
         "domain": [
          0,
          1
         ],
         "title": {
          "text": "y"
         }
        }
       }
      }
     },
     "metadata": {},
     "output_type": "display_data"
    }
   ],
   "source": [
    "# Graficar los embedddings en 2D\n",
    "import plotly.graph_objects as go\n",
    "import plotly.express as px\n",
    "\n",
    "vecs, labels = reduce_dimensions(w2v_model)\n",
    "\n",
    "MAX_WORDS=200\n",
    "fig = px.scatter(x=vecs[:MAX_WORDS,0], y=vecs[:MAX_WORDS,1], text=labels[:MAX_WORDS])\n",
    "fig.show()"
   ]
  },
  {
   "cell_type": "code",
   "execution_count": null,
   "metadata": {},
   "outputs": [
    {
     "data": {
      "application/vnd.plotly.v1+json": {
       "config": {
        "plotlyServerURL": "https://plot.ly"
       },
       "data": [
        {
         "hovertemplate": "x=%{x}<br>y=%{y}<br>z=%{z}<br>text=%{text}<extra></extra>",
         "legendgroup": "",
         "marker": {
          "color": "#636efa",
          "size": 2,
          "symbol": "circle"
         },
         "mode": "markers+text",
         "name": "",
         "scene": "scene",
         "showlegend": false,
         "text": [
          "i",
          "the",
          "you",
          "to",
          "a",
          "and",
          "my",
          "i'm",
          "it",
          "me",
          "in",
          "that",
          "like",
          "of",
          "this",
          "but",
          "just",
          "so",
          "on",
          "is",
          "your",
          "don't",
          "up",
          "with",
          "get",
          "for",
          "be",
          "it's",
          "no",
          "all",
          "know",
          "what",
          "now",
          "out",
          "when",
          "they",
          "was",
          "not",
          "fuck",
          "ain't",
          "got",
          "at",
          "go",
          "can",
          "back",
          "if",
          "shit",
          "we",
          "he",
          "do",
          "one",
          "from",
          "'cause",
          "as",
          "never",
          "see",
          "think",
          "say",
          "his",
          "make",
          "you're",
          "off",
          "oh",
          "that's",
          "down",
          "way",
          "who",
          "her",
          "have",
          "can't",
          "take",
          "right",
          "ass",
          "bitch",
          "name",
          "or",
          "too",
          "let",
          "want",
          "love",
          "then",
          "are",
          "i'll",
          "these",
          "am",
          "time",
          "how",
          "been",
          "shady",
          "'em",
          "even",
          "why",
          "feel",
          "him",
          "yeah",
          "baby",
          "man",
          "cause",
          "come",
          "gonna",
          "still",
          "slim",
          "he's",
          "about",
          "look",
          "wanna",
          "little",
          "through",
          "some",
          "could",
          "an",
          "only",
          "did",
          "girl",
          "life",
          "over",
          "here",
          "put",
          "better",
          "give",
          "more",
          "need",
          "had",
          "there",
          "said",
          "i've",
          "she",
          "everybody",
          "stand",
          "aah",
          "by",
          "fuckin'",
          "them",
          "ever",
          "fucking",
          "tell",
          "rap",
          "again",
          "god",
          "bad",
          "crazy",
          "world",
          "will",
          "nothing",
          "before",
          "us",
          "try",
          "stop",
          "would",
          "maybe",
          "hear",
          "new",
          "where",
          "own",
          "please",
          "keep",
          "really",
          "something",
          "every",
          "made",
          "same",
          "gotta",
          "blow",
          "around",
          "day",
          "head",
          "there's",
          "into",
          "'til",
          "won't",
          "call",
          "yo",
          "mom",
          "didn't",
          "boy",
          "shot",
          "well",
          "gone",
          "white",
          "real",
          "face",
          "once",
          "night",
          "comes",
          "guess",
          "thing",
          "ya",
          "two",
          "lose",
          "shake",
          "while",
          "let's",
          "people",
          "yourself",
          "hit",
          "show",
          "ha",
          "find",
          "going",
          "goes"
         ],
         "type": "scatter3d",
         "x": [
          -9.996031,
          -7.951396,
          2.7669685,
          8.751953,
          -11.250916,
          12.898232,
          1.2212145,
          -18.659924,
          -8.862741,
          6.53083,
          13.44448,
          9.013907,
          -22.518064,
          -4.728626,
          -1.1480626,
          -27.730173,
          -15.95489,
          7.21429,
          21.117918,
          -7.397946,
          38.385063,
          -4.7262735,
          9.343945,
          20.789368,
          13.354886,
          -0.52129006,
          21.359215,
          -12.177111,
          -0.16119449,
          -17.038559,
          -9.647067,
          -25.652487,
          -28.547756,
          15.2637,
          -14.726492,
          -29.394768,
          -20.446722,
          33.801033,
          -35.465878,
          10.118999,
          -4.7829485,
          -25.517258,
          33.732098,
          12.779401,
          28.741962,
          -7.6619997,
          -4.639656,
          2.390093,
          -0.5821958,
          7.602409,
          8.29867,
          27.558784,
          -14.523773,
          -11.967352,
          7.3338113,
          -3.0362713,
          -25.469519,
          -24.088448,
          -1.5024672,
          21.763712,
          -13.207293,
          26.597315,
          -35.119022,
          -32.786644,
          31.21072,
          -11.233131,
          -27.75519,
          17.071648,
          0.33072358,
          -5.187442,
          27.790754,
          -34.670536,
          34.779015,
          -25.418674,
          -14.936626,
          -23.178976,
          -27.886122,
          36.587,
          8.773955,
          -32.675804,
          -8.236826,
          -23.055887,
          17.389837,
          -5.1670966,
          -29.438517,
          -1.7142711,
          -17.160208,
          -9.8122635,
          -25.64671,
          20.274597,
          -8.703876,
          -21.382984,
          -27.232243,
          14.327336,
          -34.804623,
          -38.256245,
          -1.2474185,
          4.6908674,
          16.132166,
          25.151516,
          -6.3324366,
          -28.253036,
          -6.865018,
          -23.469828,
          -20.150558,
          3.9951482,
          -14.96171,
          33.113075,
          3.571664,
          19.035856,
          5.186582,
          4.6558394,
          -15.998076,
          5.997544,
          -12.637404,
          -1.8818252,
          -36.188477,
          36.730534,
          34.464993,
          25.551373,
          6.672373,
          -0.52280176,
          16.564892,
          35.695686,
          -29.287935,
          -10.311005,
          -14.772007,
          30.861668,
          37.706657,
          -14.289194,
          19.98649,
          11.838229,
          24.567205,
          5.283005,
          23.258806,
          4.7681055,
          -42.85271,
          29.1884,
          -41.814613,
          -24.994211,
          -28.945036,
          -19.293186,
          11.946973,
          -29.75961,
          14.210979,
          7.808769,
          9.436382,
          33.621784,
          10.239491,
          11.736017,
          0.6800911,
          -8.093975,
          -17.327652,
          18.855349,
          -30.975086,
          29.158695,
          -34.529003,
          -10.176911,
          -7.751979,
          -0.27116838,
          31.968765,
          6.298573,
          19.170834,
          16.73739,
          4.7349434,
          7.9998198,
          -4.6849065,
          25.482313,
          17.50568,
          -8.785445,
          3.0310853,
          32.69827,
          6.4455633,
          -5.865966,
          -20.999928,
          11.031696,
          -32.82837,
          -25.66405,
          -21.573034,
          -24.024904,
          27.801989,
          32.39421,
          5.5209603,
          30.140368,
          -26.224123,
          -7.630244,
          -1.872779,
          1.0714564,
          35.265507,
          11.088224,
          -24.092192,
          35.406307,
          -13.469016,
          33.19238,
          18.421564,
          33.038876,
          -5.838477,
          -1.4374405,
          -2.8505375,
          -22.280058
         ],
         "y": [
          0.16886589,
          -8.221401,
          -6.8791103,
          -24.04083,
          15.571232,
          3.4613876,
          0.45994288,
          32.27183,
          -4.5200853,
          -32.761147,
          27.36341,
          -21.35406,
          -23.71429,
          15.205233,
          42.787167,
          -5.0585275,
          -10.148261,
          -38.246674,
          -24.677374,
          -1.5030274,
          -4.515493,
          -20.31604,
          29.652485,
          12.226704,
          -8.770107,
          -17.18452,
          -18.150545,
          6.7311506,
          19.000387,
          30.283274,
          -26.048801,
          -0.9063579,
          21.2685,
          16.611013,
          -13.9113035,
          -23.887512,
          -13.6812725,
          7.635894,
          4.7235403,
          -3.4867144,
          9.929611,
          24.14039,
          -1.813447,
          -21.891855,
          0.20535363,
          -5.5225463,
          -24.420311,
          -0.6090941,
          31.889034,
          -20.609562,
          26.244806,
          7.279448,
          -6.203223,
          37.602085,
          0.5228105,
          6.654599,
          -11.012774,
          2.2863965,
          27.875631,
          -3.441265,
          33.804253,
          5.913818,
          9.483128,
          -1.8416506,
          -19.349085,
          15.512156,
          -19.351532,
          30.41777,
          -8.799162,
          -11.057201,
          -16.151793,
          17.350443,
          -22.094774,
          31.305439,
          -7.6842546,
          16.101318,
          -2.0705113,
          3.9610355,
          -28.72506,
          -7.754601,
          2.9846144,
          -23.042738,
          -17.14197,
          -20.140474,
          7.078872,
          -27.563911,
          21.87964,
          -35.267136,
          -4.6974525,
          8.80494,
          -10.320952,
          4.8984995,
          21.358864,
          16.060314,
          4.004382,
          7.7278967,
          -10.461724,
          11.474887,
          -28.729723,
          -13.393256,
          -11.067289,
          -1.5597458,
          27.62634,
          -14.22163,
          21.964346,
          -29.036226,
          19.972237,
          -12.908739,
          -30.498505,
          -24.483162,
          27.391722,
          31.44624,
          1.4233909,
          -27.174232,
          15.399484,
          -16.698402,
          -13.091296,
          0.7575365,
          16.210278,
          2.5782876,
          19.94535,
          14.703039,
          20.550915,
          -12.323403,
          -13.192831,
          -32.757072,
          -2.8932679,
          1.0293063,
          -15.086073,
          4.2190533,
          9.511684,
          -20.389675,
          7.492539,
          5.815178,
          23.48567,
          5.850774,
          -4.008381,
          -19.899279,
          0.52255464,
          9.64244,
          2.4814515,
          -1.0715891,
          -33.83958,
          3.4656117,
          -9.760178,
          5.7354717,
          -18.189041,
          -0.5405578,
          -12.123826,
          31.281225,
          -20.893053,
          -2.4362414,
          -21.34622,
          -0.5709174,
          -2.84271,
          -6.07665,
          13.680422,
          -23.712477,
          -25.034462,
          14.117694,
          -19.839037,
          -19.53083,
          -12.32292,
          19.144686,
          -6.126282,
          7.2011614,
          19.035116,
          7.492089,
          23.440912,
          1.767289,
          2.3990173,
          9.782757,
          13.460806,
          -15.803686,
          -10.6745205,
          26.621271,
          -3.2273734,
          11.1096115,
          0.8575744,
          0.8331138,
          -0.7365823,
          19.770704,
          28.971498,
          19.174807,
          -7.819299,
          27.502766,
          -1.3599511,
          13.731883,
          18.165249,
          -26.24766,
          21.32349,
          4.6743546,
          -26.88805,
          22.16882,
          -6.7645507,
          5.563906,
          37.017258,
          40.476616,
          -23.775295,
          30.25906
         ],
         "z": [
          27.76827,
          -11.145824,
          33.32704,
          26.616703,
          -14.976957,
          5.195098,
          -35.865387,
          11.355428,
          31.7948,
          7.1474276,
          -17.924438,
          2.527207,
          7.5957785,
          -28.221899,
          0.89686066,
          19.983976,
          18.663784,
          -2.0226414,
          -2.1879697,
          -37.94502,
          8.840451,
          30.545465,
          -32.449272,
          -32.235123,
          16.808477,
          -24.147194,
          14.047775,
          17.227806,
          27.8869,
          -12.055445,
          27.593184,
          25.330734,
          9.033014,
          -28.345968,
          29.774109,
          10.350513,
          30.442404,
          21.263067,
          24.999561,
          27.528822,
          4.579539,
          -17.087389,
          -17.190018,
          20.992422,
          -35.028015,
          39.175426,
          -10.4578285,
          44.809307,
          2.4962099,
          34.63232,
          16.816906,
          -28.954533,
          23.83035,
          1.4572371,
          33.144714,
          23.118074,
          23.566074,
          33.543255,
          -3.0972192,
          37.470406,
          13.014412,
          -14.122022,
          -15.172084,
          20.234991,
          -4.2363434,
          28.785736,
          -10.230438,
          6.5633416,
          12.889914,
          41.746407,
          19.5237,
          3.8300052,
          -12.851508,
          8.643555,
          -33.223614,
          25.417719,
          10.076335,
          -7.5408273,
          22.106852,
          -11.989031,
          33.79806,
          -16.884398,
          28.265436,
          -18.816679,
          28.498665,
          -24.40258,
          21.22125,
          2.9848332,
          -20.22147,
          18.8551,
          29.146523,
          23.691683,
          -8.09287,
          21.96306,
          2.3407066,
          -4.495786,
          5.2991877,
          17.146399,
          -10.866249,
          28.032768,
          9.632265,
          -14.047084,
          8.067225,
          9.787811,
          -15.366046,
          29.84398,
          -21.19755,
          -24.552032,
          16.396288,
          17.230312,
          8.612834,
          18.613113,
          24.517372,
          -4.8589807,
          -36.18245,
          -33.718933,
          3.788377,
          0.28375807,
          1.9458228,
          21.335407,
          25.964973,
          33.186745,
          28.195711,
          17.9716,
          18.714828,
          -3.563932,
          42.69142,
          28.680468,
          11.760313,
          9.517238,
          -27.079374,
          -6.7823043,
          16.329556,
          38.070393,
          -4.8547134,
          23.603739,
          -0.74698627,
          11.584679,
          -7.490676,
          12.271488,
          6.1378427,
          -26.585398,
          -2.427971,
          16.741106,
          23.747604,
          18.028471,
          28.739647,
          10.400578,
          31.694916,
          17.0467,
          36.4144,
          -22.68075,
          25.158665,
          30.880484,
          -19.094555,
          -5.507666,
          17.503159,
          13.943915,
          -28.314112,
          6.3616843,
          3.0027494,
          21.32613,
          16.723038,
          -1.3139514,
          -29.449203,
          -26.35797,
          21.026295,
          5.5693703,
          -24.507547,
          40.99506,
          27.913795,
          12.464692,
          -36.049583,
          31.893988,
          -6.31463,
          22.331593,
          13.754611,
          1.5325811,
          -36.833523,
          -17.196136,
          -5.1896615,
          -3.9543934,
          -18.276768,
          -10.320337,
          30.217794,
          30.149826,
          31.269873,
          -21.960028,
          8.955161,
          -3.5661657,
          2.2584174,
          -13.237903,
          -12.623744,
          5.9706945,
          12.328402,
          3.951945,
          -8.263743,
          -16.640764,
          3.6221857,
          -4.1871037
         ]
        }
       ],
       "layout": {
        "legend": {
         "tracegroupgap": 0
        },
        "margin": {
         "t": 60
        },
        "scene": {
         "domain": {
          "x": [
           0,
           1
          ],
          "y": [
           0,
           1
          ]
         },
         "xaxis": {
          "title": {
           "text": "x"
          }
         },
         "yaxis": {
          "title": {
           "text": "y"
          }
         },
         "zaxis": {
          "title": {
           "text": "z"
          }
         }
        },
        "template": {
         "data": {
          "bar": [
           {
            "error_x": {
             "color": "#2a3f5f"
            },
            "error_y": {
             "color": "#2a3f5f"
            },
            "marker": {
             "line": {
              "color": "#E5ECF6",
              "width": 0.5
             },
             "pattern": {
              "fillmode": "overlay",
              "size": 10,
              "solidity": 0.2
             }
            },
            "type": "bar"
           }
          ],
          "barpolar": [
           {
            "marker": {
             "line": {
              "color": "#E5ECF6",
              "width": 0.5
             },
             "pattern": {
              "fillmode": "overlay",
              "size": 10,
              "solidity": 0.2
             }
            },
            "type": "barpolar"
           }
          ],
          "carpet": [
           {
            "aaxis": {
             "endlinecolor": "#2a3f5f",
             "gridcolor": "white",
             "linecolor": "white",
             "minorgridcolor": "white",
             "startlinecolor": "#2a3f5f"
            },
            "baxis": {
             "endlinecolor": "#2a3f5f",
             "gridcolor": "white",
             "linecolor": "white",
             "minorgridcolor": "white",
             "startlinecolor": "#2a3f5f"
            },
            "type": "carpet"
           }
          ],
          "choropleth": [
           {
            "colorbar": {
             "outlinewidth": 0,
             "ticks": ""
            },
            "type": "choropleth"
           }
          ],
          "contour": [
           {
            "colorbar": {
             "outlinewidth": 0,
             "ticks": ""
            },
            "colorscale": [
             [
              0,
              "#0d0887"
             ],
             [
              0.1111111111111111,
              "#46039f"
             ],
             [
              0.2222222222222222,
              "#7201a8"
             ],
             [
              0.3333333333333333,
              "#9c179e"
             ],
             [
              0.4444444444444444,
              "#bd3786"
             ],
             [
              0.5555555555555556,
              "#d8576b"
             ],
             [
              0.6666666666666666,
              "#ed7953"
             ],
             [
              0.7777777777777778,
              "#fb9f3a"
             ],
             [
              0.8888888888888888,
              "#fdca26"
             ],
             [
              1,
              "#f0f921"
             ]
            ],
            "type": "contour"
           }
          ],
          "contourcarpet": [
           {
            "colorbar": {
             "outlinewidth": 0,
             "ticks": ""
            },
            "type": "contourcarpet"
           }
          ],
          "heatmap": [
           {
            "colorbar": {
             "outlinewidth": 0,
             "ticks": ""
            },
            "colorscale": [
             [
              0,
              "#0d0887"
             ],
             [
              0.1111111111111111,
              "#46039f"
             ],
             [
              0.2222222222222222,
              "#7201a8"
             ],
             [
              0.3333333333333333,
              "#9c179e"
             ],
             [
              0.4444444444444444,
              "#bd3786"
             ],
             [
              0.5555555555555556,
              "#d8576b"
             ],
             [
              0.6666666666666666,
              "#ed7953"
             ],
             [
              0.7777777777777778,
              "#fb9f3a"
             ],
             [
              0.8888888888888888,
              "#fdca26"
             ],
             [
              1,
              "#f0f921"
             ]
            ],
            "type": "heatmap"
           }
          ],
          "heatmapgl": [
           {
            "colorbar": {
             "outlinewidth": 0,
             "ticks": ""
            },
            "colorscale": [
             [
              0,
              "#0d0887"
             ],
             [
              0.1111111111111111,
              "#46039f"
             ],
             [
              0.2222222222222222,
              "#7201a8"
             ],
             [
              0.3333333333333333,
              "#9c179e"
             ],
             [
              0.4444444444444444,
              "#bd3786"
             ],
             [
              0.5555555555555556,
              "#d8576b"
             ],
             [
              0.6666666666666666,
              "#ed7953"
             ],
             [
              0.7777777777777778,
              "#fb9f3a"
             ],
             [
              0.8888888888888888,
              "#fdca26"
             ],
             [
              1,
              "#f0f921"
             ]
            ],
            "type": "heatmapgl"
           }
          ],
          "histogram": [
           {
            "marker": {
             "pattern": {
              "fillmode": "overlay",
              "size": 10,
              "solidity": 0.2
             }
            },
            "type": "histogram"
           }
          ],
          "histogram2d": [
           {
            "colorbar": {
             "outlinewidth": 0,
             "ticks": ""
            },
            "colorscale": [
             [
              0,
              "#0d0887"
             ],
             [
              0.1111111111111111,
              "#46039f"
             ],
             [
              0.2222222222222222,
              "#7201a8"
             ],
             [
              0.3333333333333333,
              "#9c179e"
             ],
             [
              0.4444444444444444,
              "#bd3786"
             ],
             [
              0.5555555555555556,
              "#d8576b"
             ],
             [
              0.6666666666666666,
              "#ed7953"
             ],
             [
              0.7777777777777778,
              "#fb9f3a"
             ],
             [
              0.8888888888888888,
              "#fdca26"
             ],
             [
              1,
              "#f0f921"
             ]
            ],
            "type": "histogram2d"
           }
          ],
          "histogram2dcontour": [
           {
            "colorbar": {
             "outlinewidth": 0,
             "ticks": ""
            },
            "colorscale": [
             [
              0,
              "#0d0887"
             ],
             [
              0.1111111111111111,
              "#46039f"
             ],
             [
              0.2222222222222222,
              "#7201a8"
             ],
             [
              0.3333333333333333,
              "#9c179e"
             ],
             [
              0.4444444444444444,
              "#bd3786"
             ],
             [
              0.5555555555555556,
              "#d8576b"
             ],
             [
              0.6666666666666666,
              "#ed7953"
             ],
             [
              0.7777777777777778,
              "#fb9f3a"
             ],
             [
              0.8888888888888888,
              "#fdca26"
             ],
             [
              1,
              "#f0f921"
             ]
            ],
            "type": "histogram2dcontour"
           }
          ],
          "mesh3d": [
           {
            "colorbar": {
             "outlinewidth": 0,
             "ticks": ""
            },
            "type": "mesh3d"
           }
          ],
          "parcoords": [
           {
            "line": {
             "colorbar": {
              "outlinewidth": 0,
              "ticks": ""
             }
            },
            "type": "parcoords"
           }
          ],
          "pie": [
           {
            "automargin": true,
            "type": "pie"
           }
          ],
          "scatter": [
           {
            "fillpattern": {
             "fillmode": "overlay",
             "size": 10,
             "solidity": 0.2
            },
            "type": "scatter"
           }
          ],
          "scatter3d": [
           {
            "line": {
             "colorbar": {
              "outlinewidth": 0,
              "ticks": ""
             }
            },
            "marker": {
             "colorbar": {
              "outlinewidth": 0,
              "ticks": ""
             }
            },
            "type": "scatter3d"
           }
          ],
          "scattercarpet": [
           {
            "marker": {
             "colorbar": {
              "outlinewidth": 0,
              "ticks": ""
             }
            },
            "type": "scattercarpet"
           }
          ],
          "scattergeo": [
           {
            "marker": {
             "colorbar": {
              "outlinewidth": 0,
              "ticks": ""
             }
            },
            "type": "scattergeo"
           }
          ],
          "scattergl": [
           {
            "marker": {
             "colorbar": {
              "outlinewidth": 0,
              "ticks": ""
             }
            },
            "type": "scattergl"
           }
          ],
          "scattermapbox": [
           {
            "marker": {
             "colorbar": {
              "outlinewidth": 0,
              "ticks": ""
             }
            },
            "type": "scattermapbox"
           }
          ],
          "scatterpolar": [
           {
            "marker": {
             "colorbar": {
              "outlinewidth": 0,
              "ticks": ""
             }
            },
            "type": "scatterpolar"
           }
          ],
          "scatterpolargl": [
           {
            "marker": {
             "colorbar": {
              "outlinewidth": 0,
              "ticks": ""
             }
            },
            "type": "scatterpolargl"
           }
          ],
          "scatterternary": [
           {
            "marker": {
             "colorbar": {
              "outlinewidth": 0,
              "ticks": ""
             }
            },
            "type": "scatterternary"
           }
          ],
          "surface": [
           {
            "colorbar": {
             "outlinewidth": 0,
             "ticks": ""
            },
            "colorscale": [
             [
              0,
              "#0d0887"
             ],
             [
              0.1111111111111111,
              "#46039f"
             ],
             [
              0.2222222222222222,
              "#7201a8"
             ],
             [
              0.3333333333333333,
              "#9c179e"
             ],
             [
              0.4444444444444444,
              "#bd3786"
             ],
             [
              0.5555555555555556,
              "#d8576b"
             ],
             [
              0.6666666666666666,
              "#ed7953"
             ],
             [
              0.7777777777777778,
              "#fb9f3a"
             ],
             [
              0.8888888888888888,
              "#fdca26"
             ],
             [
              1,
              "#f0f921"
             ]
            ],
            "type": "surface"
           }
          ],
          "table": [
           {
            "cells": {
             "fill": {
              "color": "#EBF0F8"
             },
             "line": {
              "color": "white"
             }
            },
            "header": {
             "fill": {
              "color": "#C8D4E3"
             },
             "line": {
              "color": "white"
             }
            },
            "type": "table"
           }
          ]
         },
         "layout": {
          "annotationdefaults": {
           "arrowcolor": "#2a3f5f",
           "arrowhead": 0,
           "arrowwidth": 1
          },
          "autotypenumbers": "strict",
          "coloraxis": {
           "colorbar": {
            "outlinewidth": 0,
            "ticks": ""
           }
          },
          "colorscale": {
           "diverging": [
            [
             0,
             "#8e0152"
            ],
            [
             0.1,
             "#c51b7d"
            ],
            [
             0.2,
             "#de77ae"
            ],
            [
             0.3,
             "#f1b6da"
            ],
            [
             0.4,
             "#fde0ef"
            ],
            [
             0.5,
             "#f7f7f7"
            ],
            [
             0.6,
             "#e6f5d0"
            ],
            [
             0.7,
             "#b8e186"
            ],
            [
             0.8,
             "#7fbc41"
            ],
            [
             0.9,
             "#4d9221"
            ],
            [
             1,
             "#276419"
            ]
           ],
           "sequential": [
            [
             0,
             "#0d0887"
            ],
            [
             0.1111111111111111,
             "#46039f"
            ],
            [
             0.2222222222222222,
             "#7201a8"
            ],
            [
             0.3333333333333333,
             "#9c179e"
            ],
            [
             0.4444444444444444,
             "#bd3786"
            ],
            [
             0.5555555555555556,
             "#d8576b"
            ],
            [
             0.6666666666666666,
             "#ed7953"
            ],
            [
             0.7777777777777778,
             "#fb9f3a"
            ],
            [
             0.8888888888888888,
             "#fdca26"
            ],
            [
             1,
             "#f0f921"
            ]
           ],
           "sequentialminus": [
            [
             0,
             "#0d0887"
            ],
            [
             0.1111111111111111,
             "#46039f"
            ],
            [
             0.2222222222222222,
             "#7201a8"
            ],
            [
             0.3333333333333333,
             "#9c179e"
            ],
            [
             0.4444444444444444,
             "#bd3786"
            ],
            [
             0.5555555555555556,
             "#d8576b"
            ],
            [
             0.6666666666666666,
             "#ed7953"
            ],
            [
             0.7777777777777778,
             "#fb9f3a"
            ],
            [
             0.8888888888888888,
             "#fdca26"
            ],
            [
             1,
             "#f0f921"
            ]
           ]
          },
          "colorway": [
           "#636efa",
           "#EF553B",
           "#00cc96",
           "#ab63fa",
           "#FFA15A",
           "#19d3f3",
           "#FF6692",
           "#B6E880",
           "#FF97FF",
           "#FECB52"
          ],
          "font": {
           "color": "#2a3f5f"
          },
          "geo": {
           "bgcolor": "white",
           "lakecolor": "white",
           "landcolor": "#E5ECF6",
           "showlakes": true,
           "showland": true,
           "subunitcolor": "white"
          },
          "hoverlabel": {
           "align": "left"
          },
          "hovermode": "closest",
          "mapbox": {
           "style": "light"
          },
          "paper_bgcolor": "white",
          "plot_bgcolor": "#E5ECF6",
          "polar": {
           "angularaxis": {
            "gridcolor": "white",
            "linecolor": "white",
            "ticks": ""
           },
           "bgcolor": "#E5ECF6",
           "radialaxis": {
            "gridcolor": "white",
            "linecolor": "white",
            "ticks": ""
           }
          },
          "scene": {
           "xaxis": {
            "backgroundcolor": "#E5ECF6",
            "gridcolor": "white",
            "gridwidth": 2,
            "linecolor": "white",
            "showbackground": true,
            "ticks": "",
            "zerolinecolor": "white"
           },
           "yaxis": {
            "backgroundcolor": "#E5ECF6",
            "gridcolor": "white",
            "gridwidth": 2,
            "linecolor": "white",
            "showbackground": true,
            "ticks": "",
            "zerolinecolor": "white"
           },
           "zaxis": {
            "backgroundcolor": "#E5ECF6",
            "gridcolor": "white",
            "gridwidth": 2,
            "linecolor": "white",
            "showbackground": true,
            "ticks": "",
            "zerolinecolor": "white"
           }
          },
          "shapedefaults": {
           "line": {
            "color": "#2a3f5f"
           }
          },
          "ternary": {
           "aaxis": {
            "gridcolor": "white",
            "linecolor": "white",
            "ticks": ""
           },
           "baxis": {
            "gridcolor": "white",
            "linecolor": "white",
            "ticks": ""
           },
           "bgcolor": "#E5ECF6",
           "caxis": {
            "gridcolor": "white",
            "linecolor": "white",
            "ticks": ""
           }
          },
          "title": {
           "x": 0.05
          },
          "xaxis": {
           "automargin": true,
           "gridcolor": "white",
           "linecolor": "white",
           "ticks": "",
           "title": {
            "standoff": 15
           },
           "zerolinecolor": "white",
           "zerolinewidth": 2
          },
          "yaxis": {
           "automargin": true,
           "gridcolor": "white",
           "linecolor": "white",
           "ticks": "",
           "title": {
            "standoff": 15
           },
           "zerolinecolor": "white",
           "zerolinewidth": 2
          }
         }
        }
       }
      }
     },
     "metadata": {},
     "output_type": "display_data"
    }
   ],
   "source": [
    "# Graficar los embedddings en 3D\n",
    "\n",
    "vecs, labels = reduce_dimensions(w2v_model,3)\n",
    "\n",
    "fig = px.scatter_3d(x=vecs[:MAX_WORDS,0], y=vecs[:MAX_WORDS,1], z=vecs[:MAX_WORDS,2],text=labels[:MAX_WORDS])\n",
    "fig.update_traces(marker_size = 2)\n",
    "fig.show()"
   ]
  },
  {
   "cell_type": "code",
   "execution_count": null,
   "metadata": {},
   "outputs": [],
   "source": [
    "# También se pueden guardar los vectores y labels como tsv para graficar en\n",
    "# http://projector.tensorflow.org/\n",
    "\n",
    "vectors = np.asarray(w2v_model.wv.vectors)\n",
    "labels = list(w2v_model.wv.index_to_key)\n",
    "\n",
    "np.savetxt(\"vectors.tsv\", vectors, delimiter=\"\\t\")\n",
    "\n",
    "with open(\"labels.tsv\", \"w\") as fp:\n",
    "    for item in labels:\n",
    "        fp.write(\"%s\\n\" % item)"
   ]
  },
  {
   "cell_type": "markdown",
   "metadata": {
    "id": "yMM_SHSaZ9N-"
   },
   "source": [
    "### Alumno"
   ]
  },
  {
   "cell_type": "markdown",
   "metadata": {
    "id": "WivQZ3ZCZ9N_"
   },
   "source": [
    "- Crear sus propios vectores con Gensim basado en lo visto en clase con otro dataset.\n",
    "- Probar términos de interés y explicar similitudes en el espacio de embeddings (sacar conclusiones entre palabras similitudes y diferencias).\n",
    "- Graficarlos.\n",
    "- Obtener conclusiones."
   ]
  }
 ],
 "metadata": {
  "colab": {
   "collapsed_sections": [],
   "provenance": []
  },
  "kernelspec": {
   "display_name": "Python 3 (ipykernel)",
   "language": "python",
   "name": "python3"
  },
  "language_info": {
   "codemirror_mode": {
    "name": "ipython",
    "version": 3
   },
   "file_extension": ".py",
   "mimetype": "text/x-python",
   "name": "python",
   "nbconvert_exporter": "python",
   "pygments_lexer": "ipython3",
   "version": "3.11.5"
  }
 },
 "nbformat": 4,
 "nbformat_minor": 4
}
