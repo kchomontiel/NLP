{
 "cells": [
  {
   "attachments": {},
   "cell_type": "markdown",
   "metadata": {
    "id": "NV8wZ0MTKjv_"
   },
   "source": [
    "<img src=\"https://github.com/hernancontigiani/ceia_memorias_especializacion/raw/master/Figures/logoFIUBA.jpg\" width=\"500\" align=\"center\">\n",
    "\n",
    "\n",
    "# Procesamiento de lenguaje natural\n",
    "## Bot de consulta abierta y respuestas predeterminadas con DNN + Spacy"
   ]
  },
  {
   "attachments": {},
   "cell_type": "markdown",
   "metadata": {
    "id": "Z_9z3H-yKrcK"
   },
   "source": [
    "#### Datos\n",
    "Este ejemplo se inspiró en otro Bot en inglés creado con NLTK, lo tienen como referencia para hacer lo mismo en inglés:\\\n",
    "[LINK](https://towardsdatascience.com/a-simple-chatbot-in-python-with-deep-learning-3e8669997758)"
   ]
  },
  {
   "attachments": {},
   "cell_type": "markdown",
   "metadata": {
    "id": "oCVZakCzAjGN"
   },
   "source": [
    "### 1 - Instalar dependencias\n",
    "Para poder utilizar Spacy en castellano es necesario agregar la librería \"spacy-stanza\" para lematizar palabras en español."
   ]
  },
  {
   "cell_type": "code",
   "execution_count": 1,
   "metadata": {
    "id": "kzao7XO9NJAq"
   },
   "outputs": [
    {
     "name": "stderr",
     "output_type": "stream",
     "text": [
      "2023-11-16 19:25:13.142521: I tensorflow/core/platform/cpu_feature_guard.cc:182] This TensorFlow binary is optimized to use available CPU instructions in performance-critical operations.\n",
      "To enable the following instructions: AVX2 FMA, in other operations, rebuild TensorFlow with the appropriate compiler flags.\n"
     ]
    }
   ],
   "source": [
    "import json\n",
    "import string\n",
    "import random \n",
    "import numpy as np\n",
    "\n",
    "import tensorflow as tf \n",
    "from tensorflow.keras import Sequential \n",
    "from tensorflow.keras.layers import Dense, Dropout"
   ]
  },
  {
   "cell_type": "code",
   "execution_count": 2,
   "metadata": {
    "id": "Z_ExOb8uvjqK"
   },
   "outputs": [
    {
     "name": "stdout",
     "output_type": "stream",
     "text": [
      "Collecting es-core-news-sm==3.7.0\n",
      "  Downloading https://github.com/explosion/spacy-models/releases/download/es_core_news_sm-3.7.0/es_core_news_sm-3.7.0-py3-none-any.whl (12.9 MB)\n",
      "\u001b[2K     \u001b[90m━━━━━━━━━━━━━━━━━━━━━━━━━━━━━━━━━━━━━━━━\u001b[0m \u001b[32m12.9/12.9 MB\u001b[0m \u001b[31m9.2 MB/s\u001b[0m eta \u001b[36m0:00:00\u001b[0m00:01\u001b[0m00:01\u001b[0m\n",
      "\u001b[?25hRequirement already satisfied: spacy<3.8.0,>=3.7.0 in /Users/carlosmontiel/anaconda3/envs/nlp/lib/python3.11/site-packages (from es-core-news-sm==3.7.0) (3.7.2)\n",
      "Requirement already satisfied: spacy-legacy<3.1.0,>=3.0.11 in /Users/carlosmontiel/anaconda3/envs/nlp/lib/python3.11/site-packages (from spacy<3.8.0,>=3.7.0->es-core-news-sm==3.7.0) (3.0.12)\n",
      "Requirement already satisfied: spacy-loggers<2.0.0,>=1.0.0 in /Users/carlosmontiel/anaconda3/envs/nlp/lib/python3.11/site-packages (from spacy<3.8.0,>=3.7.0->es-core-news-sm==3.7.0) (1.0.5)\n",
      "Requirement already satisfied: murmurhash<1.1.0,>=0.28.0 in /Users/carlosmontiel/anaconda3/envs/nlp/lib/python3.11/site-packages (from spacy<3.8.0,>=3.7.0->es-core-news-sm==3.7.0) (1.0.10)\n",
      "Requirement already satisfied: cymem<2.1.0,>=2.0.2 in /Users/carlosmontiel/anaconda3/envs/nlp/lib/python3.11/site-packages (from spacy<3.8.0,>=3.7.0->es-core-news-sm==3.7.0) (2.0.8)\n",
      "Requirement already satisfied: preshed<3.1.0,>=3.0.2 in /Users/carlosmontiel/anaconda3/envs/nlp/lib/python3.11/site-packages (from spacy<3.8.0,>=3.7.0->es-core-news-sm==3.7.0) (3.0.9)\n",
      "Requirement already satisfied: thinc<8.3.0,>=8.1.8 in /Users/carlosmontiel/anaconda3/envs/nlp/lib/python3.11/site-packages (from spacy<3.8.0,>=3.7.0->es-core-news-sm==3.7.0) (8.2.1)\n",
      "Requirement already satisfied: wasabi<1.2.0,>=0.9.1 in /Users/carlosmontiel/anaconda3/envs/nlp/lib/python3.11/site-packages (from spacy<3.8.0,>=3.7.0->es-core-news-sm==3.7.0) (1.1.2)\n",
      "Requirement already satisfied: srsly<3.0.0,>=2.4.3 in /Users/carlosmontiel/anaconda3/envs/nlp/lib/python3.11/site-packages (from spacy<3.8.0,>=3.7.0->es-core-news-sm==3.7.0) (2.4.8)\n",
      "Requirement already satisfied: catalogue<2.1.0,>=2.0.6 in /Users/carlosmontiel/anaconda3/envs/nlp/lib/python3.11/site-packages (from spacy<3.8.0,>=3.7.0->es-core-news-sm==3.7.0) (2.0.10)\n",
      "Requirement already satisfied: weasel<0.4.0,>=0.1.0 in /Users/carlosmontiel/anaconda3/envs/nlp/lib/python3.11/site-packages (from spacy<3.8.0,>=3.7.0->es-core-news-sm==3.7.0) (0.3.4)\n",
      "Requirement already satisfied: typer<0.10.0,>=0.3.0 in /Users/carlosmontiel/anaconda3/envs/nlp/lib/python3.11/site-packages (from spacy<3.8.0,>=3.7.0->es-core-news-sm==3.7.0) (0.9.0)\n",
      "Requirement already satisfied: smart-open<7.0.0,>=5.2.1 in /Users/carlosmontiel/anaconda3/envs/nlp/lib/python3.11/site-packages (from spacy<3.8.0,>=3.7.0->es-core-news-sm==3.7.0) (6.4.0)\n",
      "Requirement already satisfied: tqdm<5.0.0,>=4.38.0 in /Users/carlosmontiel/anaconda3/envs/nlp/lib/python3.11/site-packages (from spacy<3.8.0,>=3.7.0->es-core-news-sm==3.7.0) (4.66.1)\n",
      "Requirement already satisfied: requests<3.0.0,>=2.13.0 in /Users/carlosmontiel/anaconda3/envs/nlp/lib/python3.11/site-packages (from spacy<3.8.0,>=3.7.0->es-core-news-sm==3.7.0) (2.31.0)\n",
      "Requirement already satisfied: pydantic!=1.8,!=1.8.1,<3.0.0,>=1.7.4 in /Users/carlosmontiel/anaconda3/envs/nlp/lib/python3.11/site-packages (from spacy<3.8.0,>=3.7.0->es-core-news-sm==3.7.0) (2.4.2)\n",
      "Requirement already satisfied: jinja2 in /Users/carlosmontiel/anaconda3/envs/nlp/lib/python3.11/site-packages (from spacy<3.8.0,>=3.7.0->es-core-news-sm==3.7.0) (3.1.2)\n",
      "Requirement already satisfied: setuptools in /Users/carlosmontiel/anaconda3/envs/nlp/lib/python3.11/site-packages (from spacy<3.8.0,>=3.7.0->es-core-news-sm==3.7.0) (68.0.0)\n",
      "Requirement already satisfied: packaging>=20.0 in /Users/carlosmontiel/anaconda3/envs/nlp/lib/python3.11/site-packages (from spacy<3.8.0,>=3.7.0->es-core-news-sm==3.7.0) (23.2)\n",
      "Requirement already satisfied: langcodes<4.0.0,>=3.2.0 in /Users/carlosmontiel/anaconda3/envs/nlp/lib/python3.11/site-packages (from spacy<3.8.0,>=3.7.0->es-core-news-sm==3.7.0) (3.3.0)\n",
      "Requirement already satisfied: numpy>=1.19.0 in /Users/carlosmontiel/anaconda3/envs/nlp/lib/python3.11/site-packages (from spacy<3.8.0,>=3.7.0->es-core-news-sm==3.7.0) (1.26.1)\n",
      "Requirement already satisfied: annotated-types>=0.4.0 in /Users/carlosmontiel/anaconda3/envs/nlp/lib/python3.11/site-packages (from pydantic!=1.8,!=1.8.1,<3.0.0,>=1.7.4->spacy<3.8.0,>=3.7.0->es-core-news-sm==3.7.0) (0.6.0)\n",
      "Requirement already satisfied: pydantic-core==2.10.1 in /Users/carlosmontiel/anaconda3/envs/nlp/lib/python3.11/site-packages (from pydantic!=1.8,!=1.8.1,<3.0.0,>=1.7.4->spacy<3.8.0,>=3.7.0->es-core-news-sm==3.7.0) (2.10.1)\n",
      "Requirement already satisfied: typing-extensions>=4.6.1 in /Users/carlosmontiel/anaconda3/envs/nlp/lib/python3.11/site-packages (from pydantic!=1.8,!=1.8.1,<3.0.0,>=1.7.4->spacy<3.8.0,>=3.7.0->es-core-news-sm==3.7.0) (4.8.0)\n",
      "Requirement already satisfied: charset-normalizer<4,>=2 in /Users/carlosmontiel/anaconda3/envs/nlp/lib/python3.11/site-packages (from requests<3.0.0,>=2.13.0->spacy<3.8.0,>=3.7.0->es-core-news-sm==3.7.0) (3.3.2)\n",
      "Requirement already satisfied: idna<4,>=2.5 in /Users/carlosmontiel/anaconda3/envs/nlp/lib/python3.11/site-packages (from requests<3.0.0,>=2.13.0->spacy<3.8.0,>=3.7.0->es-core-news-sm==3.7.0) (3.4)\n",
      "Requirement already satisfied: urllib3<3,>=1.21.1 in /Users/carlosmontiel/anaconda3/envs/nlp/lib/python3.11/site-packages (from requests<3.0.0,>=2.13.0->spacy<3.8.0,>=3.7.0->es-core-news-sm==3.7.0) (2.0.7)\n",
      "Requirement already satisfied: certifi>=2017.4.17 in /Users/carlosmontiel/anaconda3/envs/nlp/lib/python3.11/site-packages (from requests<3.0.0,>=2.13.0->spacy<3.8.0,>=3.7.0->es-core-news-sm==3.7.0) (2023.7.22)\n",
      "Requirement already satisfied: blis<0.8.0,>=0.7.8 in /Users/carlosmontiel/anaconda3/envs/nlp/lib/python3.11/site-packages (from thinc<8.3.0,>=8.1.8->spacy<3.8.0,>=3.7.0->es-core-news-sm==3.7.0) (0.7.11)\n",
      "Requirement already satisfied: confection<1.0.0,>=0.0.1 in /Users/carlosmontiel/anaconda3/envs/nlp/lib/python3.11/site-packages (from thinc<8.3.0,>=8.1.8->spacy<3.8.0,>=3.7.0->es-core-news-sm==3.7.0) (0.1.3)\n",
      "Requirement already satisfied: click<9.0.0,>=7.1.1 in /Users/carlosmontiel/anaconda3/envs/nlp/lib/python3.11/site-packages (from typer<0.10.0,>=0.3.0->spacy<3.8.0,>=3.7.0->es-core-news-sm==3.7.0) (8.1.7)\n",
      "Requirement already satisfied: cloudpathlib<0.17.0,>=0.7.0 in /Users/carlosmontiel/anaconda3/envs/nlp/lib/python3.11/site-packages (from weasel<0.4.0,>=0.1.0->spacy<3.8.0,>=3.7.0->es-core-news-sm==3.7.0) (0.16.0)\n",
      "Requirement already satisfied: MarkupSafe>=2.0 in /Users/carlosmontiel/anaconda3/envs/nlp/lib/python3.11/site-packages (from jinja2->spacy<3.8.0,>=3.7.0->es-core-news-sm==3.7.0) (2.1.3)\n",
      "\u001b[38;5;2m✔ Download and installation successful\u001b[0m\n",
      "You can now load the package via spacy.load('es_core_news_sm')\n"
     ]
    }
   ],
   "source": [
    "# descargaremos un pipeline de pre-procesamiento de SpaCy en español\n",
    "!python -m spacy download es_core_news_sm"
   ]
  },
  {
   "cell_type": "code",
   "execution_count": 3,
   "metadata": {},
   "outputs": [],
   "source": [
    "# cargar pipeline de pre-procesamiento en español\n",
    "import spacy\n",
    "nlp = spacy.load(\"es_core_news_sm\")"
   ]
  },
  {
   "cell_type": "code",
   "execution_count": 4,
   "metadata": {
    "id": "ZxoD2hEExmuX"
   },
   "outputs": [],
   "source": [
    "import re\n",
    "import unicodedata\n",
    "\n",
    "# El preprocesamento en castellano requiere más trabajo\n",
    "\n",
    "# Referencia de regex:\n",
    "# https://docs.python.org/3/library/re.html\n",
    "\n",
    "def preprocess_clean_text(text):    \n",
    "    # sacar tildes de las palabras:\n",
    "    text = unicodedata.normalize('NFKD', text).encode('ascii', 'ignore').decode('utf-8', 'ignore')\n",
    "    # quitar caracteres especiales\n",
    "    pattern = r'[^a-zA-z0-9.,!?/:;\\\"\\'\\s]' # [^ : ningún caracter de todos estos\n",
    "    # (termina eliminando cualquier caracter distinto de los del regex)\n",
    "    text = re.sub(pattern, '', text)\n",
    "    pattern = r'[^a-zA-z.,!?/:;\\\"\\'\\s]' # igual al anterior pero sin cifras numéricas\n",
    "    # quitar números\n",
    "    text = re.sub(pattern, '', text)\n",
    "    # quitar caracteres de puntuación\n",
    "    text = ''.join([c for c in text if c not in string.punctuation])\n",
    "    return text"
   ]
  },
  {
   "attachments": {},
   "cell_type": "markdown",
   "metadata": {
    "id": "ilRbn0KfMm2r"
   },
   "source": [
    "### 3 - Diccionario de entrada"
   ]
  },
  {
   "cell_type": "code",
   "execution_count": 5,
   "metadata": {
    "id": "NgIGpjymNEH7"
   },
   "outputs": [],
   "source": [
    "# Dataset en formato JSON que representa las posibles preguntas (patterns)\n",
    "# y las posibles respuestas por categoría (tag)\n",
    "# Los \"patterns\" van a formar el corpus para entrenar el clasificador que clasifica en tags\n",
    "# \"respones\" son las respuestas predeterminadas posibles para cada tag\n",
    "dataset = {\"intents\": [\n",
    "             {\"tag\": \"bienvenida\",\n",
    "              \"patterns\": [\"Hola\", \"¿Cómo estás?\", \"¿Qué tal?\"],\n",
    "              \"responses\": [\"Hola, te saludamos desde Bit en que podemos ayudarte?\", \"Hola! Bienvenido a Bit! ¿En que podemos servirte hoy?\"],\n",
    "             },\n",
    "             {\"tag\": \"nombre\",\n",
    "              \"patterns\": [\"¿Cúal es tu nombre?\", \"¿Quién sos?\"],\n",
    "              \"responses\": [\"Somos bit! Agencia de marketing digital para servirte\", \"Somos una agencia de marketing digital con el nombre bit!\"]\n",
    "             },\n",
    "            {\"tag\": \"contacto\",\n",
    "              \"patterns\": [\"contacto\", \"número de contacto\", \"número de teléfono\", \"número de whatsapp\", \"whatsapp\", \"Cual es su contacto?, Como puedo contactarme con ustedes?\"],\n",
    "              \"responses\": [\"Podes contactarnos al siguiente numero 0973 127 251, llamadas y whatsapp o en nuestras redes sociales (Instagram: @bitmkt o Fb: bit marketing digital)\", \"Contactos al whatsapp 0973 127 251 o en nuestras redes sociales (Instagram: @bitmkt o Fb: bit marketing digital)\"]\n",
    "             },\n",
    "            {\"tag\": \"envios\",\n",
    "              \"patterns\": [\"¿Realizan envios?\", \"¿Cómo me llega el paquete?\"],\n",
    "              \"responses\": [\"No realizamos envios, somos una empresa que ofrecer servicios de marketing digital\"]\n",
    "             },\n",
    "            {\"tag\": \"precios\",\n",
    "              \"patterns\": [\"precio\", \"Me podrás pasar los precios\", \"¿Cuánto vale?\", \"¿Cuánto sale?\"],\n",
    "              \"responses\": [\"Entra en contacto con nosotros al 097312725 o en nuestras redes sociales (Instagram: @bitmkt o Fb: bit marketing digital) y te preparamos un presupuesto acorde a tus necesidades :)\"]\n",
    "             },\n",
    "            {\"tag\": \"pagos\",\n",
    "              \"patterns\": [\"medios de pago\", \"tarjeta de crédito\", \"tarjetas\", \"cuotas\"],\n",
    "              \"responses\": [\"Recibimos pagos atravez de Giros y transferencias bancarias, porfavor escribi la palabra -Contacto- y escribinos para mas informacion.\"]\n",
    "             },\n",
    "             {\"tag\": \"presupuesto\",\n",
    "              \"patterns\": [ \"presupuesto\",\"pasar presupuesto\", \"quiero marketing\"],\n",
    "              \"responses\": [\"Para realizar un presupuesto de acuerdo a tus necesidades porvafor contactate con nosotros para marcar un reunion virtual o presencial a nuestro whatsapp o redes sociales\"]\n",
    "             },\n",
    "            {\"tag\": \"de donde son\",\n",
    "              \"patterns\": [ \"de donde son\",\"son de ciudad de este?\", \"de que ciudad son?\"],\n",
    "              \"responses\": [\"Actualmente hacemos oficina en Ciudad del este - Paraguay, pero prestamos servicios a todos los paises y personas que necesiten de nuestros servicios digitales :)\"]\n",
    "             },\n",
    "            {\"tag\": \"sesiones\",\n",
    "              \"patterns\": [ \"fotos\",\"marcar fotos\", \"marcar sesion de fotos\"],\n",
    "              \"responses\": [\"Para marcar una sesion de fotos porfavor comunicate a nuestro whatsapp o nuestras redes sociales para atenderte mejor y poder darte una cotizacion y fecha acorde a tus necesidades\"]\n",
    "             },\n",
    "            {\"tag\": \"agradecimientos\",\n",
    "              \"patterns\": [ \"Muchas gracias\", \"Gracias\"],\n",
    "              \"responses\": [\"Por nada!, cualquier otra consulta estamos a la ordenes para todos tus proyectos! :)\"]\n",
    "             },\n",
    "             {\"tag\": \"despedida\",\n",
    "              \"patterns\": [ \"Chau\", \"Hasta luego!\"],\n",
    "              \"responses\": [\"Hasta luego! Te esperamos pronto\", \"Hablamos luego!\"]\n",
    "             }\n",
    "]}"
   ]
  },
  {
   "attachments": {},
   "cell_type": "markdown",
   "metadata": {
    "id": "19PEDmIDfLRu"
   },
   "source": [
    "### 4 - Preprocesamiento y armado del dataset"
   ]
  },
  {
   "cell_type": "code",
   "execution_count": 6,
   "metadata": {
    "id": "b3HP8abHNRk3"
   },
   "outputs": [],
   "source": [
    "# Datos que necesitaremos, las palabras o vocabulario\n",
    "words = []\n",
    "classes = []\n",
    "doc_X = []\n",
    "doc_y = []\n",
    "\n",
    "# Por cada intención (intents) debemos tomar los patrones que la caracterizan\n",
    "# a esa intención y transformarla a tokens para almacenar en doc_X\n",
    "\n",
    "# El tag de cada intención se almacena como doc_Y (la clase a predecir)\n",
    "# En `words` vamos a guardar el vocabulario\n",
    "# En `class` las posibles clases o tags\n",
    "\n",
    "for intent in dataset[\"intents\"]:\n",
    "    for pattern in intent[\"patterns\"]:\n",
    "        # trasformar el patron a tokens\n",
    "        tokens = nlp(preprocess_clean_text(pattern.lower()))\n",
    "        # lematizar los tokens\n",
    "        for token in tokens:            \n",
    "            words.append(token.lemma_)\n",
    "        \n",
    "        doc_X.append(pattern)\n",
    "        doc_y.append(intent[\"tag\"])\n",
    "    \n",
    "    # Agregar el tag a las clases\n",
    "    if intent[\"tag\"] not in classes:\n",
    "        classes.append(intent[\"tag\"])\n",
    "\n",
    "# Elminar duplicados con \"set\" y ordenar el vocabulario y las clases por orden alfabético\n",
    "words = sorted(set(words))\n",
    "classes = sorted(set(classes))"
   ]
  },
  {
   "cell_type": "code",
   "execution_count": 7,
   "metadata": {
    "id": "Acy-gcugNbMH"
   },
   "outputs": [
    {
     "name": "stdout",
     "output_type": "stream",
     "text": [
      "words: ['chau', 'ciudad', 'como', 'con', 'contactarme', 'contacto', 'credito', 'cual', 'cuanto', 'cuota', 'de', 'donde', 'el', 'envio', 'este', 'foto', 'gracia', 'gracias', 'hasta', 'holar', 'llegar', 'luego', 'marcar', 'marketing', 'medio', 'mucho', 'nombre', 'numero', 'pago', 'paquete', 'pasar', 'podrar', 'precio', 'presupuesto', 'puedo', 'que', 'querer', 'quien', 'realizar', 'salir', 'ser', 'sesion', 'so', 'su', 'tal', 'tarjeta', 'telefono', 'tu', 'tú', 'valer', 'whatsapp', 'yo']\n",
      "classes: ['agradecimientos', 'bienvenida', 'contacto', 'de donde son', 'despedida', 'envios', 'nombre', 'pagos', 'precios', 'presupuesto', 'sesiones']\n",
      "doc_X: ['Hola', '¿Cómo estás?', '¿Qué tal?', '¿Cúal es tu nombre?', '¿Quién sos?', 'contacto', 'número de contacto', 'número de teléfono', 'número de whatsapp', 'whatsapp', 'Cual es su contacto?, Como puedo contactarme con ustedes?', '¿Realizan envios?', '¿Cómo me llega el paquete?', 'precio', 'Me podrás pasar los precios', '¿Cuánto vale?', '¿Cuánto sale?', 'medios de pago', 'tarjeta de crédito', 'tarjetas', 'cuotas', 'presupuesto', 'pasar presupuesto', 'quiero marketing', 'de donde son', 'son de ciudad de este?', 'de que ciudad son?', 'fotos', 'marcar fotos', 'marcar sesion de fotos', 'Muchas gracias', 'Gracias', 'Chau', 'Hasta luego!']\n",
      "doc_y: ['bienvenida', 'bienvenida', 'bienvenida', 'nombre', 'nombre', 'contacto', 'contacto', 'contacto', 'contacto', 'contacto', 'contacto', 'envios', 'envios', 'precios', 'precios', 'precios', 'precios', 'pagos', 'pagos', 'pagos', 'pagos', 'presupuesto', 'presupuesto', 'presupuesto', 'de donde son', 'de donde son', 'de donde son', 'sesiones', 'sesiones', 'sesiones', 'agradecimientos', 'agradecimientos', 'despedida', 'despedida']\n"
     ]
    }
   ],
   "source": [
    "print(\"words:\", words)\n",
    "print(\"classes:\", classes)\n",
    "print(\"doc_X:\", doc_X)\n",
    "print(\"doc_y:\", doc_y)"
   ]
  },
  {
   "cell_type": "code",
   "execution_count": 8,
   "metadata": {
    "id": "YI0L2U7IQcvy"
   },
   "outputs": [
    {
     "name": "stdout",
     "output_type": "stream",
     "text": [
      "Vocabulario: 52\n"
     ]
    }
   ],
   "source": [
    "# Tamaño del vocabulario\n",
    "print(\"Vocabulario:\", len(words))"
   ]
  },
  {
   "cell_type": "code",
   "execution_count": 9,
   "metadata": {
    "id": "hqBeGKRk_q4r"
   },
   "outputs": [
    {
     "name": "stdout",
     "output_type": "stream",
     "text": [
      "Tags: 11\n"
     ]
    }
   ],
   "source": [
    "# Cantidad de tags\n",
    "print(\"Tags:\", len(classes))"
   ]
  },
  {
   "cell_type": "code",
   "execution_count": 10,
   "metadata": {
    "id": "vpbJ0guPN2Uq"
   },
   "outputs": [
    {
     "name": "stdout",
     "output_type": "stream",
     "text": [
      "X: [0, 0, 0, 0, 0, 0, 0, 0, 0, 0, 0, 0, 0, 0, 0, 0, 0, 0, 0, 1, 0, 0, 0, 0, 0, 0, 0, 0, 0, 0, 0, 0, 0, 0, 0, 0, 0, 0, 0, 0, 0, 0, 0, 0, 0, 0, 0, 0, 0, 0, 0, 0] y: [0, 1, 0, 0, 0, 0, 0, 0, 0, 0, 0]\n",
      "X: [0, 0, 1, 0, 0, 0, 0, 0, 0, 0, 0, 0, 0, 0, 1, 0, 0, 0, 0, 0, 0, 0, 0, 0, 0, 0, 0, 0, 0, 0, 0, 0, 0, 0, 0, 0, 0, 0, 0, 0, 0, 0, 0, 0, 0, 0, 0, 0, 0, 0, 0, 0] y: [0, 1, 0, 0, 0, 0, 0, 0, 0, 0, 0]\n",
      "X: [0, 0, 0, 0, 0, 0, 0, 0, 0, 0, 0, 0, 0, 0, 0, 0, 0, 0, 0, 0, 0, 0, 0, 0, 0, 0, 0, 0, 0, 0, 0, 0, 0, 0, 0, 1, 0, 0, 0, 0, 0, 0, 0, 0, 1, 0, 0, 0, 0, 0, 0, 0] y: [0, 1, 0, 0, 0, 0, 0, 0, 0, 0, 0]\n",
      "X: [0, 0, 0, 0, 0, 0, 0, 1, 0, 0, 0, 0, 0, 0, 0, 0, 0, 0, 0, 0, 0, 0, 0, 0, 0, 0, 1, 0, 0, 0, 0, 0, 0, 0, 0, 0, 0, 0, 0, 0, 1, 0, 0, 0, 0, 0, 0, 1, 0, 0, 0, 0] y: [0, 0, 0, 0, 0, 0, 1, 0, 0, 0, 0]\n",
      "X: [0, 0, 0, 0, 0, 0, 0, 0, 0, 0, 0, 0, 0, 0, 0, 0, 0, 0, 0, 0, 0, 0, 0, 0, 0, 0, 0, 0, 0, 0, 0, 0, 0, 0, 0, 0, 0, 1, 0, 0, 0, 0, 1, 0, 0, 0, 0, 0, 0, 0, 0, 0] y: [0, 0, 0, 0, 0, 0, 1, 0, 0, 0, 0]\n",
      "X: [0, 0, 0, 0, 0, 1, 0, 0, 0, 0, 0, 0, 0, 0, 0, 0, 0, 0, 0, 0, 0, 0, 0, 0, 0, 0, 0, 0, 0, 0, 0, 0, 0, 0, 0, 0, 0, 0, 0, 0, 0, 0, 0, 0, 0, 0, 0, 0, 0, 0, 0, 0] y: [0, 0, 1, 0, 0, 0, 0, 0, 0, 0, 0]\n",
      "X: [0, 0, 0, 0, 0, 1, 0, 0, 0, 0, 1, 0, 0, 0, 0, 0, 0, 0, 0, 0, 0, 0, 0, 0, 0, 0, 0, 1, 0, 0, 0, 0, 0, 0, 0, 0, 0, 0, 0, 0, 0, 0, 0, 0, 0, 0, 0, 0, 0, 0, 0, 0] y: [0, 0, 1, 0, 0, 0, 0, 0, 0, 0, 0]\n",
      "X: [0, 0, 0, 0, 0, 0, 0, 0, 0, 0, 1, 0, 0, 0, 0, 0, 0, 0, 0, 0, 0, 0, 0, 0, 0, 0, 0, 1, 0, 0, 0, 0, 0, 0, 0, 0, 0, 0, 0, 0, 0, 0, 0, 0, 0, 0, 1, 0, 0, 0, 0, 0] y: [0, 0, 1, 0, 0, 0, 0, 0, 0, 0, 0]\n",
      "X: [0, 0, 0, 0, 0, 0, 0, 0, 0, 0, 1, 0, 0, 0, 0, 0, 0, 0, 0, 0, 0, 0, 0, 0, 0, 0, 0, 1, 0, 0, 0, 0, 0, 0, 0, 0, 0, 0, 0, 0, 0, 0, 0, 0, 0, 0, 0, 0, 0, 0, 1, 0] y: [0, 0, 1, 0, 0, 0, 0, 0, 0, 0, 0]\n",
      "X: [0, 0, 0, 0, 0, 0, 0, 0, 0, 0, 0, 0, 0, 0, 0, 0, 0, 0, 0, 0, 0, 0, 0, 0, 0, 0, 0, 0, 0, 0, 0, 0, 0, 0, 0, 0, 0, 0, 0, 0, 0, 0, 0, 0, 0, 0, 0, 0, 0, 0, 1, 0] y: [0, 0, 1, 0, 0, 0, 0, 0, 0, 0, 0]\n",
      "X: [0, 0, 1, 1, 1, 1, 0, 1, 0, 0, 0, 0, 0, 0, 0, 0, 0, 0, 0, 0, 0, 0, 0, 0, 0, 0, 0, 0, 0, 0, 0, 0, 0, 0, 1, 0, 0, 0, 0, 0, 1, 0, 0, 1, 0, 0, 0, 0, 1, 0, 0, 0] y: [0, 0, 1, 0, 0, 0, 0, 0, 0, 0, 0]\n",
      "X: [0, 0, 0, 0, 0, 0, 0, 0, 0, 0, 0, 0, 0, 1, 0, 0, 0, 0, 0, 0, 0, 0, 0, 0, 0, 0, 0, 0, 0, 0, 0, 0, 0, 0, 0, 0, 0, 0, 1, 0, 0, 0, 0, 0, 0, 0, 0, 0, 0, 0, 0, 0] y: [0, 0, 0, 0, 0, 1, 0, 0, 0, 0, 0]\n",
      "X: [0, 0, 1, 0, 0, 0, 0, 0, 0, 0, 0, 0, 1, 0, 0, 0, 0, 0, 0, 0, 1, 0, 0, 0, 0, 0, 0, 0, 0, 1, 0, 0, 0, 0, 0, 0, 0, 0, 0, 0, 0, 0, 0, 0, 0, 0, 0, 0, 0, 0, 0, 1] y: [0, 0, 0, 0, 0, 1, 0, 0, 0, 0, 0]\n",
      "X: [0, 0, 0, 0, 0, 0, 0, 0, 0, 0, 0, 0, 0, 0, 0, 0, 0, 0, 0, 0, 0, 0, 0, 0, 0, 0, 0, 0, 0, 0, 0, 0, 1, 0, 0, 0, 0, 0, 0, 0, 0, 0, 0, 0, 0, 0, 0, 0, 0, 0, 0, 0] y: [0, 0, 0, 0, 0, 0, 0, 0, 1, 0, 0]\n",
      "X: [0, 0, 0, 0, 0, 0, 0, 0, 0, 0, 0, 0, 1, 0, 0, 0, 0, 0, 0, 0, 0, 0, 0, 0, 0, 0, 0, 0, 0, 0, 1, 1, 1, 0, 0, 0, 0, 0, 0, 0, 0, 0, 0, 0, 0, 0, 0, 0, 0, 0, 0, 1] y: [0, 0, 0, 0, 0, 0, 0, 0, 1, 0, 0]\n",
      "X: [0, 0, 0, 0, 0, 0, 0, 0, 1, 0, 0, 0, 0, 0, 0, 0, 0, 0, 0, 0, 0, 0, 0, 0, 0, 0, 0, 0, 0, 0, 0, 0, 0, 0, 0, 0, 0, 0, 0, 0, 0, 0, 0, 0, 0, 0, 0, 0, 0, 1, 0, 0] y: [0, 0, 0, 0, 0, 0, 0, 0, 1, 0, 0]\n",
      "X: [0, 0, 0, 0, 0, 0, 0, 0, 1, 0, 0, 0, 0, 0, 0, 0, 0, 0, 0, 0, 0, 0, 0, 0, 0, 0, 0, 0, 0, 0, 0, 0, 0, 0, 0, 0, 0, 0, 0, 1, 0, 0, 0, 0, 0, 0, 0, 0, 0, 0, 0, 0] y: [0, 0, 0, 0, 0, 0, 0, 0, 1, 0, 0]\n",
      "X: [0, 0, 0, 0, 0, 0, 0, 0, 0, 0, 1, 0, 0, 0, 0, 0, 0, 0, 0, 0, 0, 0, 0, 0, 1, 0, 0, 0, 1, 0, 0, 0, 0, 0, 0, 0, 0, 0, 0, 0, 0, 0, 0, 0, 0, 0, 0, 0, 0, 0, 0, 0] y: [0, 0, 0, 0, 0, 0, 0, 1, 0, 0, 0]\n",
      "X: [0, 0, 0, 0, 0, 0, 1, 0, 0, 0, 1, 0, 0, 0, 0, 0, 0, 0, 0, 0, 0, 0, 0, 0, 0, 0, 0, 0, 0, 0, 0, 0, 0, 0, 0, 0, 0, 0, 0, 0, 0, 0, 0, 0, 0, 1, 0, 0, 0, 0, 0, 0] y: [0, 0, 0, 0, 0, 0, 0, 1, 0, 0, 0]\n",
      "X: [0, 0, 0, 0, 0, 0, 0, 0, 0, 0, 0, 0, 0, 0, 0, 0, 0, 0, 0, 0, 0, 0, 0, 0, 0, 0, 0, 0, 0, 0, 0, 0, 0, 0, 0, 0, 0, 0, 0, 0, 0, 0, 0, 0, 0, 1, 0, 0, 0, 0, 0, 0] y: [0, 0, 0, 0, 0, 0, 0, 1, 0, 0, 0]\n",
      "X: [0, 0, 0, 0, 0, 0, 0, 0, 0, 1, 0, 0, 0, 0, 0, 0, 0, 0, 0, 0, 0, 0, 0, 0, 0, 0, 0, 0, 0, 0, 0, 0, 0, 0, 0, 0, 0, 0, 0, 0, 0, 0, 0, 0, 0, 0, 0, 0, 0, 0, 0, 0] y: [0, 0, 0, 0, 0, 0, 0, 1, 0, 0, 0]\n",
      "X: [0, 0, 0, 0, 0, 0, 0, 0, 0, 0, 0, 0, 0, 0, 0, 0, 0, 0, 0, 0, 0, 0, 0, 0, 0, 0, 0, 0, 0, 0, 0, 0, 0, 1, 0, 0, 0, 0, 0, 0, 0, 0, 0, 0, 0, 0, 0, 0, 0, 0, 0, 0] y: [0, 0, 0, 0, 0, 0, 0, 0, 0, 1, 0]\n",
      "X: [0, 0, 0, 0, 0, 0, 0, 0, 0, 0, 0, 0, 0, 0, 0, 0, 0, 0, 0, 0, 0, 0, 0, 0, 0, 0, 0, 0, 0, 0, 1, 0, 0, 1, 0, 0, 0, 0, 0, 0, 0, 0, 0, 0, 0, 0, 0, 0, 0, 0, 0, 0] y: [0, 0, 0, 0, 0, 0, 0, 0, 0, 1, 0]\n",
      "X: [0, 0, 0, 0, 0, 0, 0, 0, 0, 0, 0, 0, 0, 0, 0, 0, 0, 0, 0, 0, 0, 0, 0, 1, 0, 0, 0, 0, 0, 0, 0, 0, 0, 0, 0, 0, 1, 0, 0, 0, 0, 0, 0, 0, 0, 0, 0, 0, 0, 0, 0, 0] y: [0, 0, 0, 0, 0, 0, 0, 0, 0, 1, 0]\n",
      "X: [0, 0, 0, 0, 0, 0, 0, 0, 0, 0, 1, 1, 0, 0, 0, 0, 0, 0, 0, 0, 0, 0, 0, 0, 0, 0, 0, 0, 0, 0, 0, 0, 0, 0, 0, 0, 0, 0, 0, 0, 1, 0, 0, 0, 0, 0, 0, 0, 0, 0, 0, 0] y: [0, 0, 0, 1, 0, 0, 0, 0, 0, 0, 0]\n",
      "X: [0, 1, 0, 0, 0, 0, 0, 0, 0, 0, 1, 0, 0, 0, 1, 0, 0, 0, 0, 0, 0, 0, 0, 0, 0, 0, 0, 0, 0, 0, 0, 0, 0, 0, 0, 0, 0, 0, 0, 0, 1, 0, 0, 0, 0, 0, 0, 0, 0, 0, 0, 0] y: [0, 0, 0, 1, 0, 0, 0, 0, 0, 0, 0]\n",
      "X: [0, 1, 0, 0, 0, 0, 0, 0, 0, 0, 1, 0, 0, 0, 0, 0, 0, 0, 0, 0, 0, 0, 0, 0, 0, 0, 0, 0, 0, 0, 0, 0, 0, 0, 0, 1, 0, 0, 0, 0, 1, 0, 0, 0, 0, 0, 0, 0, 0, 0, 0, 0] y: [0, 0, 0, 1, 0, 0, 0, 0, 0, 0, 0]\n",
      "X: [0, 0, 0, 0, 0, 0, 0, 0, 0, 0, 0, 0, 0, 0, 0, 1, 0, 0, 0, 0, 0, 0, 0, 0, 0, 0, 0, 0, 0, 0, 0, 0, 0, 0, 0, 0, 0, 0, 0, 0, 0, 0, 0, 0, 0, 0, 0, 0, 0, 0, 0, 0] y: [0, 0, 0, 0, 0, 0, 0, 0, 0, 0, 1]\n",
      "X: [0, 0, 0, 0, 0, 0, 0, 0, 0, 0, 0, 0, 0, 0, 0, 1, 0, 0, 0, 0, 0, 0, 1, 0, 0, 0, 0, 0, 0, 0, 0, 0, 0, 0, 0, 0, 0, 0, 0, 0, 0, 0, 0, 0, 0, 0, 0, 0, 0, 0, 0, 0] y: [0, 0, 0, 0, 0, 0, 0, 0, 0, 0, 1]\n",
      "X: [0, 0, 0, 0, 0, 0, 0, 0, 0, 0, 1, 0, 0, 0, 0, 1, 0, 0, 0, 0, 0, 0, 1, 0, 0, 0, 0, 0, 0, 0, 0, 0, 0, 0, 0, 0, 0, 0, 0, 0, 0, 1, 0, 0, 0, 0, 0, 0, 0, 0, 0, 0] y: [0, 0, 0, 0, 0, 0, 0, 0, 0, 0, 1]\n",
      "X: [0, 0, 0, 0, 0, 0, 0, 0, 0, 0, 0, 0, 0, 0, 0, 0, 1, 0, 0, 0, 0, 0, 0, 0, 0, 1, 0, 0, 0, 0, 0, 0, 0, 0, 0, 0, 0, 0, 0, 0, 0, 0, 0, 0, 0, 0, 0, 0, 0, 0, 0, 0] y: [1, 0, 0, 0, 0, 0, 0, 0, 0, 0, 0]\n",
      "X: [0, 0, 0, 0, 0, 0, 0, 0, 0, 0, 0, 0, 0, 0, 0, 0, 0, 1, 0, 0, 0, 0, 0, 0, 0, 0, 0, 0, 0, 0, 0, 0, 0, 0, 0, 0, 0, 0, 0, 0, 0, 0, 0, 0, 0, 0, 0, 0, 0, 0, 0, 0] y: [1, 0, 0, 0, 0, 0, 0, 0, 0, 0, 0]\n",
      "X: [1, 0, 0, 0, 0, 0, 0, 0, 0, 0, 0, 0, 0, 0, 0, 0, 0, 0, 0, 0, 0, 0, 0, 0, 0, 0, 0, 0, 0, 0, 0, 0, 0, 0, 0, 0, 0, 0, 0, 0, 0, 0, 0, 0, 0, 0, 0, 0, 0, 0, 0, 0] y: [0, 0, 0, 0, 1, 0, 0, 0, 0, 0, 0]\n",
      "X: [0, 0, 0, 0, 0, 0, 0, 0, 0, 0, 0, 0, 0, 0, 0, 0, 0, 0, 1, 0, 0, 1, 0, 0, 0, 0, 0, 0, 0, 0, 0, 0, 0, 0, 0, 0, 0, 0, 0, 0, 0, 0, 0, 0, 0, 0, 0, 0, 0, 0, 0, 0] y: [0, 0, 0, 0, 1, 0, 0, 0, 0, 0, 0]\n"
     ]
    }
   ],
   "source": [
    "# Transformar doc_X en bag of words por oneHotEncoding\n",
    "# Transformar doc_Y en un vector de clases multicategórico con oneHotEncoding\n",
    "\n",
    "training = []\n",
    "out_empty = [0] * len(classes)\n",
    "\n",
    "for idx, doc in enumerate(doc_X):\n",
    "    # Transformar la pregunta (input) en tokens y lematizar\n",
    "    text = []\n",
    "    tokens = nlp(preprocess_clean_text(doc.lower()))\n",
    "    for token in tokens:\n",
    "        text.append(token.lemma_)\n",
    "\n",
    "    # Transformar los tokens en \"Bag of words\" (arrays de 1 y 0)\n",
    "    bow = []\n",
    "    for word in words:\n",
    "        bow.append(1) if word in text else bow.append(0)\n",
    "    \n",
    "    # Crear el array de salida (class output) correspondiente\n",
    "    output_row = list(out_empty)\n",
    "    output_row[classes.index(doc_y[idx])] = 1\n",
    "\n",
    "    print(\"X:\", bow, \"y:\", output_row)\n",
    "    training.append([bow, output_row])\n",
    "\n",
    "# Mezclar los datos\n",
    "random.shuffle(training)\n",
    "training = np.array(training, dtype=object)\n",
    "# Dividir en datos de entrada y salida\n",
    "train_X = np.array(list(training[:, 0]))\n",
    "train_y = np.array(list(training[:, 1]))"
   ]
  },
  {
   "attachments": {},
   "cell_type": "markdown",
   "metadata": {
    "id": "a_Hr8QaDfRf3"
   },
   "source": [
    "### 5 - Entrenamiento del modelo"
   ]
  },
  {
   "cell_type": "code",
   "execution_count": 11,
   "metadata": {
    "id": "fopb3NqcAGTz"
   },
   "outputs": [
    {
     "name": "stdout",
     "output_type": "stream",
     "text": [
      "input: (52,) output: 11\n"
     ]
    }
   ],
   "source": [
    "# Shape de entrada y salida\n",
    "input_shape = (train_X.shape[1],)\n",
    "output_shape = train_y.shape[1]\n",
    "print(\"input:\", input_shape, \"output:\", output_shape)"
   ]
  },
  {
   "cell_type": "code",
   "execution_count": 12,
   "metadata": {
    "id": "xy7tzkwdOZx9"
   },
   "outputs": [
    {
     "name": "stdout",
     "output_type": "stream",
     "text": [
      "Model: \"sequential\"\n",
      "_________________________________________________________________\n",
      " Layer (type)                Output Shape              Param #   \n",
      "=================================================================\n",
      " dense (Dense)               (None, 128)               6784      \n",
      "                                                                 \n",
      " dropout (Dropout)           (None, 128)               0         \n",
      "                                                                 \n",
      " dense_1 (Dense)             (None, 64)                8256      \n",
      "                                                                 \n",
      " dropout_1 (Dropout)         (None, 64)                0         \n",
      "                                                                 \n",
      " dense_2 (Dense)             (None, 11)                715       \n",
      "                                                                 \n",
      "=================================================================\n",
      "Total params: 15755 (61.54 KB)\n",
      "Trainable params: 15755 (61.54 KB)\n",
      "Non-trainable params: 0 (0.00 Byte)\n",
      "_________________________________________________________________\n",
      "None\n"
     ]
    }
   ],
   "source": [
    "# Entrenamiento del modelo DNN\n",
    "# - Modelo secuencial\n",
    "# - Con regularización\n",
    "# - softmax y optimizador Adam\n",
    "model = Sequential()\n",
    "model.add(Dense(128, input_shape=input_shape, activation=\"relu\"))\n",
    "model.add(Dropout(0.5))\n",
    "model.add(Dense(64, activation=\"relu\"))\n",
    "model.add(Dropout(0.5))\n",
    "model.add(Dense(output_shape, activation = \"softmax\"))\n",
    "\n",
    "model.compile(loss='categorical_crossentropy',\n",
    "              optimizer=\"Adam\",\n",
    "              metrics=[\"accuracy\"])\n",
    "print(model.summary())"
   ]
  },
  {
   "cell_type": "code",
   "execution_count": 13,
   "metadata": {
    "id": "r6hi4EcdOghm"
   },
   "outputs": [
    {
     "name": "stdout",
     "output_type": "stream",
     "text": [
      "Epoch 1/200\n",
      "2/2 [==============================] - 1s 8ms/step - loss: 2.4055 - accuracy: 0.0882\n",
      "Epoch 2/200\n",
      "2/2 [==============================] - 0s 4ms/step - loss: 2.4594 - accuracy: 0.0588\n",
      "Epoch 3/200\n",
      "2/2 [==============================] - 0s 5ms/step - loss: 2.3664 - accuracy: 0.1765\n",
      "Epoch 4/200\n",
      "2/2 [==============================] - 0s 4ms/step - loss: 2.3433 - accuracy: 0.0882\n",
      "Epoch 5/200\n",
      "2/2 [==============================] - 0s 4ms/step - loss: 2.3720 - accuracy: 0.0882\n",
      "Epoch 6/200\n",
      "2/2 [==============================] - 0s 4ms/step - loss: 2.3732 - accuracy: 0.0588\n",
      "Epoch 7/200\n",
      "2/2 [==============================] - 0s 4ms/step - loss: 2.3100 - accuracy: 0.2353\n",
      "Epoch 8/200\n",
      "2/2 [==============================] - 0s 4ms/step - loss: 2.3034 - accuracy: 0.1471\n",
      "Epoch 9/200\n",
      "2/2 [==============================] - 0s 4ms/step - loss: 2.2651 - accuracy: 0.2941\n",
      "Epoch 10/200\n",
      "2/2 [==============================] - 0s 4ms/step - loss: 2.3808 - accuracy: 0.1471\n",
      "Epoch 11/200\n",
      "2/2 [==============================] - 0s 4ms/step - loss: 2.2762 - accuracy: 0.1176\n",
      "Epoch 12/200\n",
      "2/2 [==============================] - 0s 4ms/step - loss: 2.2658 - accuracy: 0.2941\n",
      "Epoch 13/200\n",
      "2/2 [==============================] - 0s 4ms/step - loss: 2.2756 - accuracy: 0.2353\n",
      "Epoch 14/200\n",
      "2/2 [==============================] - 0s 4ms/step - loss: 2.2577 - accuracy: 0.3824\n",
      "Epoch 15/200\n",
      "2/2 [==============================] - 0s 4ms/step - loss: 2.1938 - accuracy: 0.3235\n",
      "Epoch 16/200\n",
      "2/2 [==============================] - 0s 4ms/step - loss: 2.1950 - accuracy: 0.2647\n",
      "Epoch 17/200\n",
      "2/2 [==============================] - 0s 4ms/step - loss: 2.2068 - accuracy: 0.2059\n",
      "Epoch 18/200\n",
      "2/2 [==============================] - 0s 4ms/step - loss: 2.2879 - accuracy: 0.2059\n",
      "Epoch 19/200\n",
      "2/2 [==============================] - 0s 4ms/step - loss: 2.2042 - accuracy: 0.2353\n",
      "Epoch 20/200\n",
      "2/2 [==============================] - 0s 4ms/step - loss: 2.2073 - accuracy: 0.3235\n",
      "Epoch 21/200\n",
      "2/2 [==============================] - 0s 4ms/step - loss: 2.2151 - accuracy: 0.2647\n",
      "Epoch 22/200\n",
      "2/2 [==============================] - 0s 5ms/step - loss: 2.2106 - accuracy: 0.2941\n",
      "Epoch 23/200\n",
      "2/2 [==============================] - 0s 4ms/step - loss: 2.2314 - accuracy: 0.2353\n",
      "Epoch 24/200\n",
      "2/2 [==============================] - 0s 4ms/step - loss: 2.1506 - accuracy: 0.3529\n",
      "Epoch 25/200\n",
      "2/2 [==============================] - 0s 4ms/step - loss: 2.1054 - accuracy: 0.4118\n",
      "Epoch 26/200\n",
      "2/2 [==============================] - 0s 4ms/step - loss: 2.1623 - accuracy: 0.3529\n",
      "Epoch 27/200\n",
      "2/2 [==============================] - 0s 4ms/step - loss: 2.1459 - accuracy: 0.2647\n",
      "Epoch 28/200\n",
      "2/2 [==============================] - 0s 4ms/step - loss: 2.1156 - accuracy: 0.4412\n",
      "Epoch 29/200\n",
      "2/2 [==============================] - 0s 4ms/step - loss: 2.0730 - accuracy: 0.3824\n",
      "Epoch 30/200\n",
      "2/2 [==============================] - 0s 5ms/step - loss: 2.0935 - accuracy: 0.3235\n",
      "Epoch 31/200\n",
      "2/2 [==============================] - 0s 4ms/step - loss: 2.0953 - accuracy: 0.3824\n",
      "Epoch 32/200\n",
      "2/2 [==============================] - 0s 4ms/step - loss: 2.0423 - accuracy: 0.3824\n",
      "Epoch 33/200\n",
      "2/2 [==============================] - 0s 4ms/step - loss: 2.0624 - accuracy: 0.4412\n",
      "Epoch 34/200\n",
      "2/2 [==============================] - 0s 4ms/step - loss: 2.0838 - accuracy: 0.3529\n",
      "Epoch 35/200\n",
      "2/2 [==============================] - 0s 4ms/step - loss: 2.0154 - accuracy: 0.4412\n",
      "Epoch 36/200\n",
      "2/2 [==============================] - 0s 4ms/step - loss: 2.0070 - accuracy: 0.3824\n",
      "Epoch 37/200\n",
      "2/2 [==============================] - 0s 4ms/step - loss: 1.9946 - accuracy: 0.5882\n",
      "Epoch 38/200\n",
      "2/2 [==============================] - 0s 4ms/step - loss: 2.0462 - accuracy: 0.4412\n",
      "Epoch 39/200\n",
      "2/2 [==============================] - 0s 4ms/step - loss: 1.9718 - accuracy: 0.5000\n",
      "Epoch 40/200\n",
      "2/2 [==============================] - 0s 4ms/step - loss: 1.8972 - accuracy: 0.3824\n",
      "Epoch 41/200\n",
      "2/2 [==============================] - 0s 4ms/step - loss: 1.9572 - accuracy: 0.4706\n",
      "Epoch 42/200\n",
      "2/2 [==============================] - 0s 4ms/step - loss: 1.9672 - accuracy: 0.4706\n",
      "Epoch 43/200\n",
      "2/2 [==============================] - 0s 4ms/step - loss: 1.8683 - accuracy: 0.5000\n",
      "Epoch 44/200\n",
      "2/2 [==============================] - 0s 4ms/step - loss: 1.9879 - accuracy: 0.4706\n",
      "Epoch 45/200\n",
      "2/2 [==============================] - 0s 4ms/step - loss: 1.8787 - accuracy: 0.5882\n",
      "Epoch 46/200\n",
      "2/2 [==============================] - 0s 4ms/step - loss: 1.9103 - accuracy: 0.3824\n",
      "Epoch 47/200\n",
      "2/2 [==============================] - 0s 4ms/step - loss: 1.8516 - accuracy: 0.4706\n",
      "Epoch 48/200\n",
      "2/2 [==============================] - 0s 4ms/step - loss: 1.8080 - accuracy: 0.4412\n",
      "Epoch 49/200\n",
      "2/2 [==============================] - 0s 4ms/step - loss: 1.8604 - accuracy: 0.3824\n",
      "Epoch 50/200\n",
      "2/2 [==============================] - 0s 8ms/step - loss: 1.8703 - accuracy: 0.5000\n",
      "Epoch 51/200\n",
      "2/2 [==============================] - 0s 4ms/step - loss: 1.7913 - accuracy: 0.5294\n",
      "Epoch 52/200\n",
      "2/2 [==============================] - 0s 4ms/step - loss: 1.7790 - accuracy: 0.5588\n",
      "Epoch 53/200\n",
      "2/2 [==============================] - 0s 4ms/step - loss: 1.8248 - accuracy: 0.4706\n",
      "Epoch 54/200\n",
      "2/2 [==============================] - 0s 4ms/step - loss: 1.7650 - accuracy: 0.4706\n",
      "Epoch 55/200\n",
      "2/2 [==============================] - 0s 5ms/step - loss: 1.7682 - accuracy: 0.4118\n",
      "Epoch 56/200\n",
      "2/2 [==============================] - 0s 3ms/step - loss: 1.7640 - accuracy: 0.5294\n",
      "Epoch 57/200\n",
      "2/2 [==============================] - 0s 4ms/step - loss: 1.8048 - accuracy: 0.4412\n",
      "Epoch 58/200\n",
      "2/2 [==============================] - 0s 4ms/step - loss: 1.7449 - accuracy: 0.4706\n",
      "Epoch 59/200\n",
      "2/2 [==============================] - 0s 4ms/step - loss: 1.7510 - accuracy: 0.5294\n",
      "Epoch 60/200\n",
      "2/2 [==============================] - 0s 4ms/step - loss: 1.6904 - accuracy: 0.5882\n",
      "Epoch 61/200\n",
      "2/2 [==============================] - 0s 4ms/step - loss: 1.5699 - accuracy: 0.6176\n",
      "Epoch 62/200\n",
      "2/2 [==============================] - 0s 3ms/step - loss: 1.6888 - accuracy: 0.5588\n",
      "Epoch 63/200\n",
      "2/2 [==============================] - 0s 4ms/step - loss: 1.7533 - accuracy: 0.4706\n",
      "Epoch 64/200\n",
      "2/2 [==============================] - 0s 4ms/step - loss: 1.6938 - accuracy: 0.5000\n",
      "Epoch 65/200\n",
      "2/2 [==============================] - 0s 4ms/step - loss: 1.5812 - accuracy: 0.5294\n",
      "Epoch 66/200\n",
      "2/2 [==============================] - 0s 4ms/step - loss: 1.7302 - accuracy: 0.5294\n",
      "Epoch 67/200\n",
      "2/2 [==============================] - 0s 4ms/step - loss: 1.6482 - accuracy: 0.5588\n",
      "Epoch 68/200\n",
      "2/2 [==============================] - 0s 4ms/step - loss: 1.5863 - accuracy: 0.6176\n",
      "Epoch 69/200\n",
      "2/2 [==============================] - 0s 4ms/step - loss: 1.5169 - accuracy: 0.5882\n",
      "Epoch 70/200\n",
      "2/2 [==============================] - 0s 4ms/step - loss: 1.6157 - accuracy: 0.5882\n",
      "Epoch 71/200\n",
      "2/2 [==============================] - 0s 4ms/step - loss: 1.4989 - accuracy: 0.6176\n",
      "Epoch 72/200\n",
      "2/2 [==============================] - 0s 3ms/step - loss: 1.4865 - accuracy: 0.6765\n",
      "Epoch 73/200\n",
      "2/2 [==============================] - 0s 4ms/step - loss: 1.5324 - accuracy: 0.6471\n",
      "Epoch 74/200\n",
      "2/2 [==============================] - 0s 4ms/step - loss: 1.4251 - accuracy: 0.7647\n",
      "Epoch 75/200\n",
      "2/2 [==============================] - 0s 4ms/step - loss: 1.4396 - accuracy: 0.7353\n",
      "Epoch 76/200\n",
      "2/2 [==============================] - 0s 4ms/step - loss: 1.5128 - accuracy: 0.5882\n",
      "Epoch 77/200\n",
      "2/2 [==============================] - 0s 4ms/step - loss: 1.3829 - accuracy: 0.7353\n",
      "Epoch 78/200\n",
      "2/2 [==============================] - 0s 4ms/step - loss: 1.5395 - accuracy: 0.6176\n",
      "Epoch 79/200\n",
      "2/2 [==============================] - 0s 4ms/step - loss: 1.5421 - accuracy: 0.5882\n",
      "Epoch 80/200\n",
      "2/2 [==============================] - 0s 4ms/step - loss: 1.5216 - accuracy: 0.6765\n",
      "Epoch 81/200\n",
      "2/2 [==============================] - 0s 4ms/step - loss: 1.3849 - accuracy: 0.6176\n",
      "Epoch 82/200\n",
      "2/2 [==============================] - 0s 4ms/step - loss: 1.4117 - accuracy: 0.6471\n",
      "Epoch 83/200\n",
      "2/2 [==============================] - 0s 4ms/step - loss: 1.4337 - accuracy: 0.6471\n",
      "Epoch 84/200\n",
      "2/2 [==============================] - 0s 4ms/step - loss: 1.2941 - accuracy: 0.7059\n",
      "Epoch 85/200\n",
      "2/2 [==============================] - 0s 4ms/step - loss: 1.4559 - accuracy: 0.6176\n",
      "Epoch 86/200\n",
      "2/2 [==============================] - 0s 4ms/step - loss: 1.2740 - accuracy: 0.6765\n",
      "Epoch 87/200\n",
      "2/2 [==============================] - 0s 4ms/step - loss: 1.2781 - accuracy: 0.6471\n",
      "Epoch 88/200\n",
      "2/2 [==============================] - 0s 4ms/step - loss: 1.4683 - accuracy: 0.6176\n",
      "Epoch 89/200\n",
      "2/2 [==============================] - 0s 5ms/step - loss: 1.4797 - accuracy: 0.6176\n",
      "Epoch 90/200\n",
      "2/2 [==============================] - 0s 4ms/step - loss: 1.3506 - accuracy: 0.5882\n",
      "Epoch 91/200\n",
      "2/2 [==============================] - 0s 4ms/step - loss: 1.4198 - accuracy: 0.6471\n",
      "Epoch 92/200\n",
      "2/2 [==============================] - 0s 4ms/step - loss: 1.3617 - accuracy: 0.6176\n",
      "Epoch 93/200\n",
      "2/2 [==============================] - 0s 4ms/step - loss: 1.3627 - accuracy: 0.5882\n",
      "Epoch 94/200\n",
      "2/2 [==============================] - 0s 4ms/step - loss: 1.1578 - accuracy: 0.6765\n",
      "Epoch 95/200\n",
      "2/2 [==============================] - 0s 4ms/step - loss: 1.2546 - accuracy: 0.6471\n",
      "Epoch 96/200\n",
      "2/2 [==============================] - 0s 4ms/step - loss: 1.2965 - accuracy: 0.6765\n",
      "Epoch 97/200\n",
      "2/2 [==============================] - 0s 5ms/step - loss: 1.2668 - accuracy: 0.5882\n",
      "Epoch 98/200\n",
      "2/2 [==============================] - 0s 4ms/step - loss: 1.2558 - accuracy: 0.7941\n",
      "Epoch 99/200\n",
      "2/2 [==============================] - 0s 4ms/step - loss: 1.1614 - accuracy: 0.7059\n",
      "Epoch 100/200\n",
      "2/2 [==============================] - 0s 4ms/step - loss: 1.2599 - accuracy: 0.7059\n",
      "Epoch 101/200\n",
      "2/2 [==============================] - 0s 4ms/step - loss: 1.3377 - accuracy: 0.6176\n",
      "Epoch 102/200\n",
      "2/2 [==============================] - 0s 3ms/step - loss: 1.1658 - accuracy: 0.7059\n",
      "Epoch 103/200\n",
      "2/2 [==============================] - 0s 4ms/step - loss: 1.1924 - accuracy: 0.7353\n",
      "Epoch 104/200\n",
      "2/2 [==============================] - 0s 4ms/step - loss: 1.1469 - accuracy: 0.7353\n",
      "Epoch 105/200\n",
      "2/2 [==============================] - 0s 4ms/step - loss: 1.1115 - accuracy: 0.7647\n",
      "Epoch 106/200\n",
      "2/2 [==============================] - 0s 4ms/step - loss: 1.0047 - accuracy: 0.7647\n",
      "Epoch 107/200\n",
      "2/2 [==============================] - 0s 4ms/step - loss: 1.0256 - accuracy: 0.7353\n",
      "Epoch 108/200\n",
      "2/2 [==============================] - 0s 4ms/step - loss: 1.2014 - accuracy: 0.6765\n",
      "Epoch 109/200\n",
      "2/2 [==============================] - 0s 4ms/step - loss: 1.0158 - accuracy: 0.7941\n",
      "Epoch 110/200\n",
      "2/2 [==============================] - 0s 4ms/step - loss: 1.1420 - accuracy: 0.6765\n",
      "Epoch 111/200\n",
      "2/2 [==============================] - 0s 4ms/step - loss: 1.0643 - accuracy: 0.8235\n",
      "Epoch 112/200\n",
      "2/2 [==============================] - 0s 4ms/step - loss: 1.1751 - accuracy: 0.7647\n",
      "Epoch 113/200\n",
      "2/2 [==============================] - 0s 4ms/step - loss: 0.9085 - accuracy: 0.8235\n",
      "Epoch 114/200\n",
      "2/2 [==============================] - 0s 4ms/step - loss: 0.9088 - accuracy: 0.7353\n",
      "Epoch 115/200\n",
      "2/2 [==============================] - 0s 4ms/step - loss: 1.1077 - accuracy: 0.7353\n",
      "Epoch 116/200\n",
      "2/2 [==============================] - 0s 4ms/step - loss: 0.9639 - accuracy: 0.7941\n",
      "Epoch 117/200\n",
      "2/2 [==============================] - 0s 4ms/step - loss: 1.0970 - accuracy: 0.7941\n",
      "Epoch 118/200\n",
      "2/2 [==============================] - 0s 4ms/step - loss: 1.0449 - accuracy: 0.7647\n",
      "Epoch 119/200\n",
      "2/2 [==============================] - 0s 19ms/step - loss: 1.0235 - accuracy: 0.6471\n",
      "Epoch 120/200\n",
      "2/2 [==============================] - 0s 8ms/step - loss: 0.8844 - accuracy: 0.8529\n",
      "Epoch 121/200\n",
      "2/2 [==============================] - 0s 4ms/step - loss: 1.0359 - accuracy: 0.7059\n",
      "Epoch 122/200\n",
      "2/2 [==============================] - 0s 4ms/step - loss: 0.8577 - accuracy: 0.8235\n",
      "Epoch 123/200\n",
      "2/2 [==============================] - 0s 4ms/step - loss: 0.9488 - accuracy: 0.7647\n",
      "Epoch 124/200\n",
      "2/2 [==============================] - 0s 4ms/step - loss: 0.8480 - accuracy: 0.8824\n",
      "Epoch 125/200\n",
      "2/2 [==============================] - 0s 4ms/step - loss: 1.0027 - accuracy: 0.8529\n",
      "Epoch 126/200\n",
      "2/2 [==============================] - 0s 4ms/step - loss: 0.8922 - accuracy: 0.7647\n",
      "Epoch 127/200\n",
      "2/2 [==============================] - 0s 4ms/step - loss: 0.9820 - accuracy: 0.7941\n",
      "Epoch 128/200\n",
      "2/2 [==============================] - 0s 4ms/step - loss: 0.8668 - accuracy: 0.8235\n",
      "Epoch 129/200\n",
      "2/2 [==============================] - 0s 4ms/step - loss: 0.9432 - accuracy: 0.8235\n",
      "Epoch 130/200\n",
      "2/2 [==============================] - 0s 4ms/step - loss: 0.9113 - accuracy: 0.8824\n",
      "Epoch 131/200\n",
      "2/2 [==============================] - 0s 3ms/step - loss: 0.8067 - accuracy: 0.8529\n",
      "Epoch 132/200\n",
      "2/2 [==============================] - 0s 4ms/step - loss: 0.8296 - accuracy: 0.8529\n",
      "Epoch 133/200\n",
      "2/2 [==============================] - 0s 4ms/step - loss: 0.8317 - accuracy: 0.8824\n",
      "Epoch 134/200\n",
      "2/2 [==============================] - 0s 4ms/step - loss: 0.8708 - accuracy: 0.8235\n",
      "Epoch 135/200\n",
      "2/2 [==============================] - 0s 3ms/step - loss: 0.7714 - accuracy: 0.7941\n",
      "Epoch 136/200\n",
      "2/2 [==============================] - 0s 5ms/step - loss: 0.9063 - accuracy: 0.8235\n",
      "Epoch 137/200\n",
      "2/2 [==============================] - 0s 4ms/step - loss: 0.7046 - accuracy: 0.8824\n",
      "Epoch 138/200\n",
      "2/2 [==============================] - 0s 4ms/step - loss: 0.8094 - accuracy: 0.7941\n",
      "Epoch 139/200\n",
      "2/2 [==============================] - 0s 4ms/step - loss: 0.6783 - accuracy: 0.9412\n",
      "Epoch 140/200\n",
      "2/2 [==============================] - 0s 4ms/step - loss: 0.6866 - accuracy: 0.9118\n",
      "Epoch 141/200\n",
      "2/2 [==============================] - 0s 4ms/step - loss: 0.8275 - accuracy: 0.7941\n",
      "Epoch 142/200\n",
      "2/2 [==============================] - 0s 4ms/step - loss: 0.6487 - accuracy: 0.9118\n",
      "Epoch 143/200\n",
      "2/2 [==============================] - 0s 3ms/step - loss: 0.6067 - accuracy: 0.9412\n",
      "Epoch 144/200\n",
      "2/2 [==============================] - 0s 4ms/step - loss: 0.7325 - accuracy: 0.9118\n",
      "Epoch 145/200\n",
      "2/2 [==============================] - 0s 4ms/step - loss: 0.6657 - accuracy: 0.8824\n",
      "Epoch 146/200\n",
      "2/2 [==============================] - 0s 4ms/step - loss: 0.7479 - accuracy: 0.8529\n",
      "Epoch 147/200\n",
      "2/2 [==============================] - 0s 4ms/step - loss: 0.7746 - accuracy: 0.7941\n",
      "Epoch 148/200\n",
      "2/2 [==============================] - 0s 5ms/step - loss: 0.6992 - accuracy: 0.9118\n",
      "Epoch 149/200\n",
      "2/2 [==============================] - 0s 4ms/step - loss: 0.8140 - accuracy: 0.8235\n",
      "Epoch 150/200\n",
      "2/2 [==============================] - 0s 4ms/step - loss: 0.7240 - accuracy: 0.8529\n",
      "Epoch 151/200\n",
      "2/2 [==============================] - 0s 4ms/step - loss: 0.6586 - accuracy: 0.8235\n",
      "Epoch 152/200\n",
      "2/2 [==============================] - 0s 4ms/step - loss: 0.6753 - accuracy: 0.9412\n",
      "Epoch 153/200\n",
      "2/2 [==============================] - 0s 4ms/step - loss: 0.5840 - accuracy: 0.9412\n",
      "Epoch 154/200\n",
      "2/2 [==============================] - 0s 4ms/step - loss: 0.6663 - accuracy: 0.8529\n",
      "Epoch 155/200\n",
      "2/2 [==============================] - 0s 4ms/step - loss: 0.5702 - accuracy: 0.9118\n",
      "Epoch 156/200\n",
      "2/2 [==============================] - 0s 4ms/step - loss: 0.7640 - accuracy: 0.7647\n",
      "Epoch 157/200\n",
      "2/2 [==============================] - 0s 4ms/step - loss: 0.6204 - accuracy: 0.9118\n",
      "Epoch 158/200\n",
      "2/2 [==============================] - 0s 4ms/step - loss: 0.6588 - accuracy: 0.8529\n",
      "Epoch 159/200\n",
      "2/2 [==============================] - 0s 4ms/step - loss: 0.5492 - accuracy: 0.9412\n",
      "Epoch 160/200\n",
      "2/2 [==============================] - 0s 5ms/step - loss: 0.5123 - accuracy: 0.9412\n",
      "Epoch 161/200\n",
      "2/2 [==============================] - 0s 4ms/step - loss: 0.7680 - accuracy: 0.8529\n",
      "Epoch 162/200\n",
      "2/2 [==============================] - 0s 4ms/step - loss: 0.5819 - accuracy: 0.9118\n",
      "Epoch 163/200\n",
      "2/2 [==============================] - 0s 4ms/step - loss: 0.5346 - accuracy: 0.9706\n",
      "Epoch 164/200\n",
      "2/2 [==============================] - 0s 5ms/step - loss: 0.4862 - accuracy: 0.9412\n",
      "Epoch 165/200\n",
      "2/2 [==============================] - 0s 4ms/step - loss: 0.6776 - accuracy: 0.8529\n",
      "Epoch 166/200\n",
      "2/2 [==============================] - 0s 4ms/step - loss: 0.7261 - accuracy: 0.8529\n",
      "Epoch 167/200\n",
      "2/2 [==============================] - 0s 4ms/step - loss: 0.5656 - accuracy: 0.8824\n",
      "Epoch 168/200\n",
      "2/2 [==============================] - 0s 4ms/step - loss: 0.5812 - accuracy: 0.9412\n",
      "Epoch 169/200\n",
      "2/2 [==============================] - 0s 4ms/step - loss: 0.4721 - accuracy: 0.9412\n",
      "Epoch 170/200\n",
      "2/2 [==============================] - 0s 4ms/step - loss: 0.5974 - accuracy: 0.8824\n",
      "Epoch 171/200\n",
      "2/2 [==============================] - 0s 4ms/step - loss: 0.5987 - accuracy: 0.8529\n",
      "Epoch 172/200\n",
      "2/2 [==============================] - 0s 4ms/step - loss: 0.4820 - accuracy: 0.9706\n",
      "Epoch 173/200\n",
      "2/2 [==============================] - 0s 4ms/step - loss: 0.6044 - accuracy: 0.8529\n",
      "Epoch 174/200\n",
      "2/2 [==============================] - 0s 4ms/step - loss: 0.5156 - accuracy: 0.9706\n",
      "Epoch 175/200\n",
      "2/2 [==============================] - 0s 4ms/step - loss: 0.6082 - accuracy: 0.9118\n",
      "Epoch 176/200\n",
      "2/2 [==============================] - 0s 4ms/step - loss: 0.4966 - accuracy: 0.9118\n",
      "Epoch 177/200\n",
      "2/2 [==============================] - 0s 4ms/step - loss: 0.6664 - accuracy: 0.8824\n",
      "Epoch 178/200\n",
      "2/2 [==============================] - 0s 4ms/step - loss: 0.4411 - accuracy: 0.9412\n",
      "Epoch 179/200\n",
      "2/2 [==============================] - 0s 4ms/step - loss: 0.5506 - accuracy: 0.8824\n",
      "Epoch 180/200\n",
      "2/2 [==============================] - 0s 4ms/step - loss: 0.4552 - accuracy: 0.9412\n",
      "Epoch 181/200\n",
      "2/2 [==============================] - 0s 4ms/step - loss: 0.5332 - accuracy: 0.8824\n",
      "Epoch 182/200\n",
      "2/2 [==============================] - 0s 4ms/step - loss: 0.5735 - accuracy: 0.9118\n",
      "Epoch 183/200\n",
      "2/2 [==============================] - 0s 4ms/step - loss: 0.4671 - accuracy: 0.9412\n",
      "Epoch 184/200\n",
      "2/2 [==============================] - 0s 4ms/step - loss: 0.5216 - accuracy: 0.9118\n",
      "Epoch 185/200\n",
      "2/2 [==============================] - 0s 4ms/step - loss: 0.5491 - accuracy: 0.8824\n",
      "Epoch 186/200\n",
      "2/2 [==============================] - 0s 4ms/step - loss: 0.4714 - accuracy: 0.9706\n",
      "Epoch 187/200\n",
      "2/2 [==============================] - 0s 5ms/step - loss: 0.4043 - accuracy: 1.0000\n",
      "Epoch 188/200\n",
      "2/2 [==============================] - 0s 4ms/step - loss: 0.4653 - accuracy: 0.9412\n",
      "Epoch 189/200\n",
      "2/2 [==============================] - 0s 4ms/step - loss: 0.5524 - accuracy: 0.9412\n",
      "Epoch 190/200\n",
      "2/2 [==============================] - 0s 4ms/step - loss: 0.4803 - accuracy: 0.9412\n",
      "Epoch 191/200\n",
      "2/2 [==============================] - 0s 5ms/step - loss: 0.3449 - accuracy: 1.0000\n",
      "Epoch 192/200\n",
      "2/2 [==============================] - 0s 4ms/step - loss: 0.4322 - accuracy: 0.9706\n",
      "Epoch 193/200\n",
      "2/2 [==============================] - 0s 4ms/step - loss: 0.4619 - accuracy: 0.9412\n",
      "Epoch 194/200\n",
      "2/2 [==============================] - 0s 4ms/step - loss: 0.3513 - accuracy: 1.0000\n",
      "Epoch 195/200\n",
      "2/2 [==============================] - 0s 4ms/step - loss: 0.3456 - accuracy: 1.0000\n",
      "Epoch 196/200\n",
      "2/2 [==============================] - 0s 4ms/step - loss: 0.4646 - accuracy: 0.8824\n",
      "Epoch 197/200\n",
      "2/2 [==============================] - 0s 4ms/step - loss: 0.5199 - accuracy: 0.9118\n",
      "Epoch 198/200\n",
      "2/2 [==============================] - 0s 17ms/step - loss: 0.4901 - accuracy: 0.9412\n",
      "Epoch 199/200\n",
      "2/2 [==============================] - 0s 11ms/step - loss: 0.3784 - accuracy: 0.9706\n",
      "Epoch 200/200\n",
      "2/2 [==============================] - 0s 4ms/step - loss: 0.4369 - accuracy: 0.9412\n"
     ]
    }
   ],
   "source": [
    "hist = model.fit(x=train_X, y=train_y, epochs=200)"
   ]
  },
  {
   "cell_type": "code",
   "execution_count": 14,
   "metadata": {
    "id": "Pb1GZDjGRP6Q"
   },
   "outputs": [
    {
     "data": {
      "image/png": "[encoded data removed]",
      "text/plain": [
       "<Figure size 640x480 with 1 Axes>"
      ]
     },
     "metadata": {},
     "output_type": "display_data"
    }
   ],
   "source": [
    "import matplotlib.pyplot as plt\n",
    "import seaborn as sns\n",
    "\n",
    "# Entrenamiento\n",
    "epoch_count = range(1, len(hist.history['accuracy']) + 1)\n",
    "sns.lineplot(x=epoch_count,  y=hist.history['accuracy'], label='train')\n",
    "plt.show()"
   ]
  },
  {
   "cell_type": "code",
   "execution_count": 15,
   "metadata": {
    "id": "eTVDnrV0mDRf"
   },
   "outputs": [
    {
     "name": "stderr",
     "output_type": "stream",
     "text": [
      "/Users/carlosmontiel/anaconda3/envs/nlp/lib/python3.11/site-packages/keras/src/engine/training.py:3079: UserWarning: You are saving your model as an HDF5 file via `model.save()`. This file format is considered legacy. We recommend using instead the native Keras format, e.g. `model.save('my_model.keras')`.\n",
      "  saving_api.save_model(\n"
     ]
    }
   ],
   "source": [
    "# Guardar lo necesario para poder re-utilizar este modelo en el futuro\n",
    "# En NLP además de los modelos es necesario proveer: tokenizador y vocabulario.\n",
    "# La tríada modelo+tokenizador+vocabulario es necesaria para hacer inferencia. \n",
    "# Sin una de las tres no se puede hacer inferencia.\n",
    "\n",
    "# en este caso guardamos:\n",
    "# el vocabulario utilizado (words)\n",
    "# las posibles clases\n",
    "# el modelo\n",
    "import pickle\n",
    "pickle.dump(words, open('words.pkl','wb'))\n",
    "pickle.dump(classes, open('classes.pkl','wb'))\n",
    "model.save('chatbot_model.h5')"
   ]
  },
  {
   "attachments": {},
   "cell_type": "markdown",
   "metadata": {
    "id": "TnD1WvhBfVYR"
   },
   "source": [
    "### 6 - Testing y validación"
   ]
  },
  {
   "cell_type": "code",
   "execution_count": 16,
   "metadata": {
    "id": "kqBdSGt8Orkm"
   },
   "outputs": [],
   "source": [
    "# convertir texto de entrada del usuario a tokens\n",
    "def text_to_tokens(text):\n",
    "    lemma_tokens = []\n",
    "    tokens = nlp(preprocess_clean_text(text.lower()))\n",
    "    for token in tokens:\n",
    "        lemma_tokens.append(token.lemma_)\n",
    "    #print(lemma_tokens)\n",
    "    return lemma_tokens\n",
    "\n",
    "# transformar el texto de entrada tokenizado a una representación OHE\n",
    "def bag_of_words(text, vocab): \n",
    "    tokens = text_to_tokens(text)\n",
    "    bow = [0] * len(vocab)\n",
    "    for w in tokens: \n",
    "        for idx, word in enumerate(vocab):\n",
    "            if word == w: \n",
    "                bow[idx] = 1\n",
    "    #print(bow)\n",
    "    return np.array(bow)\n",
    "\n",
    "# usar modelo con la entrada en OHE y los labels posibles (tags)\n",
    "def pred_class(text, vocab, labels): \n",
    "    bow = bag_of_words(text, vocab)\n",
    "    words_recognized = sum(bow)\n",
    "\n",
    "    return_list = []\n",
    "    if words_recognized > 0: # sólo si reconoció alguna palabra del vocabulario\n",
    "        result = model.predict(np.array([bow]))[0] # es un array de softmax\n",
    "        thresh = 0.2\n",
    "        # filtrar aquellas entradas menores al umbral `thresh`\n",
    "        y_pred = [[idx, res] for idx, res in enumerate(result) if res > thresh]\n",
    "        # ordenar keys de acuerdo al valor softmax\n",
    "        y_pred.sort(key=lambda x: x[1], reverse=True)\n",
    "    \n",
    "        # return_list es una lista de los labels de mayor a menor\n",
    "        for r in y_pred:\n",
    "            return_list.append(labels[r[0]])\n",
    "            #print(labels[r[0]], r[1])\n",
    "\n",
    "    # si no reconoció palabras del vocabulario se devuelve una lista vacía\n",
    "    return return_list\n",
    "\n",
    "# obtener una respuesta predeterminada \n",
    "def get_response(intents_list, intents_json):\n",
    "    tag = intents_list[0] # tomar el tag con el mejor valor softmax\n",
    "    list_of_intents = intents_json[\"intents\"] # intents_json es todo el dataset\n",
    "    for i in list_of_intents: \n",
    "        if i[\"tag\"] == tag: # buscar el tag correspoindiente y dar una respuesta predeterminada aleatoria \n",
    "            result = random.choice(i[\"responses\"])\n",
    "            break\n",
    "    return result"
   ]
  },
  {
   "cell_type": "code",
   "execution_count": 17,
   "metadata": {
    "id": "Xp1vXQwdOvl7"
   },
   "outputs": [
    {
     "name": "stdout",
     "output_type": "stream",
     "text": [
      "Q: hola!!\n",
      "1/1 [==============================] - 0s 99ms/step\n",
      "BOT: Hola! Bienvenido a Bit! ¿En que podemos servirte hoy?\n",
      "Q: quiero pedir un presupuesto\n",
      "1/1 [==============================] - 0s 28ms/step\n",
      "BOT: Para realizar un presupuesto de acuerdo a tus necesidades porvafor contactate con nosotros para marcar un reunion virtual o presencial a nuestro whatsapp o redes sociales\n",
      "Q: podrias pasarme tu contacto?\n",
      "1/1 [==============================] - 0s 24ms/step\n",
      "BOT: Podes contactarnos al siguiente numero 0973 127 251, llamadas y whatsapp o en nuestras redes sociales (Instagram: @bitmkt o Fb: bit marketing digital)\n",
      "Q: Genial! y para marcar sesiones de fotos?\n",
      "1/1 [==============================] - 0s 24ms/step\n",
      "BOT: Para marcar una sesion de fotos porfavor comunicate a nuestro whatsapp o nuestras redes sociales para atenderte mejor y poder darte una cotizacion y fecha acorde a tus necesidades\n",
      "Q: perfecto! de donde son?\n",
      "1/1 [==============================] - 0s 23ms/step\n",
      "BOT: Actualmente hacemos oficina en Ciudad del este - Paraguay, pero prestamos servicios a todos los paises y personas que necesiten de nuestros servicios digitales :)\n",
      "Q: Genial! Muchas gracias!\n",
      "1/1 [==============================] - 0s 24ms/step\n",
      "BOT: Por nada!, cualquier otra consulta estamos a la ordenes para todos tus proyectos! :)\n",
      "Q: \n",
      "BOT: Perdón, no comprendo la pregunta.\n",
      "Q: \n",
      "BOT: Perdón, no comprendo la pregunta.\n"
     ]
    }
   ],
   "source": [
    "while True:\n",
    "    # pedir input al usuario\n",
    "    message = input(\"\")\n",
    "    print(\"Q:\", message)\n",
    "\n",
    "    intents = pred_class(message, words, classes)\n",
    "    if len(intents) > 0:\n",
    "        result = get_response(intents, dataset)\n",
    "        print(\"BOT:\", result)\n",
    "    else: # si no hubo ningún resultado que supere el umbral\n",
    "        print(\"BOT: Perdón, no comprendo la pregunta.\")\n",
    "    "
   ]
  },
  {
   "attachments": {},
   "cell_type": "markdown",
   "metadata": {
    "id": "ayatkwp4fYQx"
   },
   "source": [
    "### 7 - Conclusiones\n",
    "Al modificar el corpus del ejercicio se adapto perfectamente a los nuevos documentos incluso pansandole nuevos promps responde como esperado!"
   ]
  }
 ],
 "metadata": {
  "colab": {
   "authorship_tag": "ABX9TyPZeXqdm2EV/WEA+xr24OAL",
   "collapsed_sections": [],
   "name": "2b - bot_dnn_spacy_esp.ipynb",
   "provenance": []
  },
  "kernelspec": {
   "display_name": "Python 3 (ipykernel)",
   "language": "python",
   "name": "python3"
  },
  "language_info": {
   "codemirror_mode": {
    "name": "ipython",
    "version": 3
   },
   "file_extension": ".py",
   "mimetype": "text/x-python",
   "name": "python",
   "nbconvert_exporter": "python",
   "pygments_lexer": "ipython3",
   "version": "3.11.5"
  }
 },
 "nbformat": 4,
 "nbformat_minor": 4
}
